{
  "nbformat": 4,
  "nbformat_minor": 0,
  "metadata": {
    "colab": {
      "name": "Introduction to Python.ipynb",
      "provenance": [],
      "collapsed_sections": [
        "7jILA_V3TP1F",
        "PQPgkkg5UgIA",
        "4JJu6d7gZo6q",
        "0It-R7D5aI4I",
        "6oj8NKHHaiZp",
        "03QI1bFabEsM",
        "J4KM-wKWeGzd",
        "1zeeT7f6kBPw",
        "E83GeNKfsl0l",
        "5H5EZcDdss5M",
        "MtCJqeOsuQVZ",
        "wqNT87D3msPQ",
        "KTlvgoSUSCwZ",
        "_fwrD2rbZDun",
        "lmr9AHDAbw3R",
        "9LxBALaxci36",
        "zjlefI-pfFUT",
        "Jf3yj4kCgwdm",
        "GpKXNHZUlTBP",
        "Y8QzwKq_nRhe"
      ]
    },
    "kernelspec": {
      "name": "python3",
      "display_name": "Python 3"
    },
    "language_info": {
      "name": "python"
    }
  },
  "cells": [
    {
      "cell_type": "markdown",
      "source": [
        "## **Python Programming 2022**\n",
        "\n",
        "---\n",
        "\n"
      ],
      "metadata": {
        "id": "cVwPiaUbRp_r"
      }
    },
    {
      "cell_type": "markdown",
      "source": [
        "* Take Input --> user input, reading files\n",
        "* Data Processing --> integers, strings, floats, double\n",
        "* Data Storage --> variables, constants\n",
        "* Display output --> print, logging"
      ],
      "metadata": {
        "id": "IMJ2ZYT9TKlv"
      }
    },
    {
      "cell_type": "markdown",
      "source": [
        "## Print Functions"
      ],
      "metadata": {
        "id": "7jILA_V3TP1F"
      }
    },
    {
      "cell_type": "code",
      "source": [
        "print(\"Hello World\")"
      ],
      "metadata": {
        "colab": {
          "base_uri": "https://localhost:8080/"
        },
        "id": "5lfwidMXRyjN",
        "outputId": "f30ab705-80fa-4bdb-fc75-55bf00f44acf"
      },
      "execution_count": null,
      "outputs": [
        {
          "output_type": "stream",
          "name": "stdout",
          "text": [
            "Hello World\n"
          ]
        }
      ]
    },
    {
      "cell_type": "code",
      "source": [
        "a = \"Hello World\"\n",
        "print(a)"
      ],
      "metadata": {
        "colab": {
          "base_uri": "https://localhost:8080/"
        },
        "id": "uoyyag-ETZBP",
        "outputId": "4cd3c50f-bf12-4a46-8d7e-4ada0bdde329"
      },
      "execution_count": null,
      "outputs": [
        {
          "output_type": "stream",
          "name": "stdout",
          "text": [
            "Hello World\n"
          ]
        }
      ]
    },
    {
      "cell_type": "code",
      "source": [
        "a = \"Hello\"\n",
        "b = \"World\"\n",
        "print(a)\n",
        "print(b)"
      ],
      "metadata": {
        "colab": {
          "base_uri": "https://localhost:8080/"
        },
        "id": "UtXHv7v6TtIY",
        "outputId": "93eba661-5958-4fb8-97fb-1a43378d0596"
      },
      "execution_count": null,
      "outputs": [
        {
          "output_type": "stream",
          "name": "stdout",
          "text": [
            "Hello\n",
            "World\n"
          ]
        }
      ]
    },
    {
      "cell_type": "code",
      "source": [
        "a = \"Hello\"\n",
        "b = \"World\"\n",
        "print(a, b)"
      ],
      "metadata": {
        "colab": {
          "base_uri": "https://localhost:8080/"
        },
        "id": "t8RCQle2T8F2",
        "outputId": "d748abca-9269-4c14-80c1-a6e0d570631b"
      },
      "execution_count": null,
      "outputs": [
        {
          "output_type": "stream",
          "name": "stdout",
          "text": [
            "Hello World\n"
          ]
        }
      ]
    },
    {
      "cell_type": "code",
      "source": [
        "a = 100\n",
        "print(a)"
      ],
      "metadata": {
        "colab": {
          "base_uri": "https://localhost:8080/"
        },
        "id": "RZ2DWd2cUFE6",
        "outputId": "219ecfca-b6a8-4429-9ace-0c78b4c8790f"
      },
      "execution_count": null,
      "outputs": [
        {
          "output_type": "stream",
          "name": "stdout",
          "text": [
            "100\n"
          ]
        }
      ]
    },
    {
      "cell_type": "code",
      "source": [
        "print(a, b)"
      ],
      "metadata": {
        "colab": {
          "base_uri": "https://localhost:8080/"
        },
        "id": "kXGtEY8rUMJS",
        "outputId": "0d5b7167-2176-469a-c22e-9e7d59bca0ac"
      },
      "execution_count": null,
      "outputs": [
        {
          "output_type": "stream",
          "name": "stdout",
          "text": [
            "100 World\n"
          ]
        }
      ]
    },
    {
      "cell_type": "markdown",
      "source": [
        "## Strings"
      ],
      "metadata": {
        "id": "PQPgkkg5UgIA"
      }
    },
    {
      "cell_type": "code",
      "source": [
        "a = 'Python'\n",
        "b = \"Programming\"\n",
        "c = a + b\n",
        "c"
      ],
      "metadata": {
        "colab": {
          "base_uri": "https://localhost:8080/",
          "height": 36
        },
        "id": "kFextPg5UXJN",
        "outputId": "c938f072-6582-4c98-e10b-7908cbe91503"
      },
      "execution_count": null,
      "outputs": [
        {
          "output_type": "execute_result",
          "data": {
            "text/plain": [
              "'PythonProgramming'"
            ],
            "application/vnd.google.colaboratory.intrinsic+json": {
              "type": "string"
            }
          },
          "metadata": {},
          "execution_count": 8
        }
      ]
    },
    {
      "cell_type": "code",
      "source": [
        "c = a + ' ' + b\n",
        "c"
      ],
      "metadata": {
        "colab": {
          "base_uri": "https://localhost:8080/",
          "height": 36
        },
        "id": "j5NLUn8DU4XW",
        "outputId": "2804cc3d-3d59-47d3-c942-19aa5edaaab6"
      },
      "execution_count": null,
      "outputs": [
        {
          "output_type": "execute_result",
          "data": {
            "text/plain": [
              "'Python Programming'"
            ],
            "application/vnd.google.colaboratory.intrinsic+json": {
              "type": "string"
            }
          },
          "metadata": {},
          "execution_count": 9
        }
      ]
    },
    {
      "cell_type": "code",
      "source": [
        "len(a)"
      ],
      "metadata": {
        "colab": {
          "base_uri": "https://localhost:8080/"
        },
        "id": "1uBh4YS-U-81",
        "outputId": "25cc29fb-aef5-44fd-a01b-edad5adb5156"
      },
      "execution_count": null,
      "outputs": [
        {
          "output_type": "execute_result",
          "data": {
            "text/plain": [
              "6"
            ]
          },
          "metadata": {},
          "execution_count": 10
        }
      ]
    },
    {
      "cell_type": "code",
      "source": [
        "d = 100\n",
        "len(d)"
      ],
      "metadata": {
        "colab": {
          "base_uri": "https://localhost:8080/",
          "height": 182
        },
        "id": "gPfiNIlkVT5L",
        "outputId": "41f3c15e-4879-465b-cab6-dfdcb946ec19"
      },
      "execution_count": null,
      "outputs": [
        {
          "output_type": "error",
          "ename": "TypeError",
          "evalue": "ignored",
          "traceback": [
            "\u001b[0;31m---------------------------------------------------------------------------\u001b[0m",
            "\u001b[0;31mTypeError\u001b[0m                                 Traceback (most recent call last)",
            "\u001b[0;32m<ipython-input-11-f5af6a053e12>\u001b[0m in \u001b[0;36m<module>\u001b[0;34m()\u001b[0m\n\u001b[1;32m      1\u001b[0m \u001b[0md\u001b[0m \u001b[0;34m=\u001b[0m \u001b[0;36m100\u001b[0m\u001b[0;34m\u001b[0m\u001b[0;34m\u001b[0m\u001b[0m\n\u001b[0;32m----> 2\u001b[0;31m \u001b[0mlen\u001b[0m\u001b[0;34m(\u001b[0m\u001b[0md\u001b[0m\u001b[0;34m)\u001b[0m\u001b[0;34m\u001b[0m\u001b[0;34m\u001b[0m\u001b[0m\n\u001b[0m",
            "\u001b[0;31mTypeError\u001b[0m: object of type 'int' has no len()"
          ]
        }
      ]
    },
    {
      "cell_type": "code",
      "source": [
        "d = 100\n",
        "a = 'Python'\n",
        "\n",
        "e = d + a\n",
        "e"
      ],
      "metadata": {
        "colab": {
          "base_uri": "https://localhost:8080/",
          "height": 217
        },
        "id": "HLw-v7AUVZ0G",
        "outputId": "eadba005-cdd2-4050-e496-ee22c869c518"
      },
      "execution_count": null,
      "outputs": [
        {
          "output_type": "error",
          "ename": "TypeError",
          "evalue": "ignored",
          "traceback": [
            "\u001b[0;31m---------------------------------------------------------------------------\u001b[0m",
            "\u001b[0;31mTypeError\u001b[0m                                 Traceback (most recent call last)",
            "\u001b[0;32m<ipython-input-12-852f591556af>\u001b[0m in \u001b[0;36m<module>\u001b[0;34m()\u001b[0m\n\u001b[1;32m      2\u001b[0m \u001b[0ma\u001b[0m \u001b[0;34m=\u001b[0m \u001b[0;34m'Python'\u001b[0m\u001b[0;34m\u001b[0m\u001b[0;34m\u001b[0m\u001b[0m\n\u001b[1;32m      3\u001b[0m \u001b[0;34m\u001b[0m\u001b[0m\n\u001b[0;32m----> 4\u001b[0;31m \u001b[0me\u001b[0m \u001b[0;34m=\u001b[0m \u001b[0md\u001b[0m \u001b[0;34m+\u001b[0m \u001b[0ma\u001b[0m\u001b[0;34m\u001b[0m\u001b[0;34m\u001b[0m\u001b[0m\n\u001b[0m\u001b[1;32m      5\u001b[0m \u001b[0me\u001b[0m\u001b[0;34m\u001b[0m\u001b[0;34m\u001b[0m\u001b[0m\n",
            "\u001b[0;31mTypeError\u001b[0m: unsupported operand type(s) for +: 'int' and 'str'"
          ]
        }
      ]
    },
    {
      "cell_type": "code",
      "source": [
        "d = 100\n",
        "a = 'Python'\n",
        "\n",
        "e = str(d) + a\n",
        "e"
      ],
      "metadata": {
        "colab": {
          "base_uri": "https://localhost:8080/",
          "height": 36
        },
        "id": "LWNWGc0UWN7H",
        "outputId": "9074fd9d-83bc-4bd2-f2dd-25f8997f4ac6"
      },
      "execution_count": null,
      "outputs": [
        {
          "output_type": "execute_result",
          "data": {
            "text/plain": [
              "'100Python'"
            ],
            "application/vnd.google.colaboratory.intrinsic+json": {
              "type": "string"
            }
          },
          "metadata": {},
          "execution_count": 13
        }
      ]
    },
    {
      "cell_type": "code",
      "source": [
        "a = 'py'\n",
        "b = 'python'\n",
        "\n",
        "a in b"
      ],
      "metadata": {
        "colab": {
          "base_uri": "https://localhost:8080/"
        },
        "id": "jPFVVbhNWjn_",
        "outputId": "5220d635-0e2c-41e5-d6f8-8921263883ba"
      },
      "execution_count": null,
      "outputs": [
        {
          "output_type": "execute_result",
          "data": {
            "text/plain": [
              "True"
            ]
          },
          "metadata": {},
          "execution_count": 14
        }
      ]
    },
    {
      "cell_type": "code",
      "source": [
        "a = 'thn'\n",
        "b = 'python'\n",
        "\n",
        "a in b"
      ],
      "metadata": {
        "colab": {
          "base_uri": "https://localhost:8080/"
        },
        "id": "nPGwGa4_W-un",
        "outputId": "2d57b7a3-0790-40b1-cb1e-691214b11bf2"
      },
      "execution_count": null,
      "outputs": [
        {
          "output_type": "execute_result",
          "data": {
            "text/plain": [
              "False"
            ]
          },
          "metadata": {},
          "execution_count": 15
        }
      ]
    },
    {
      "cell_type": "code",
      "source": [
        "a = 'tho'\n",
        "b = 'python'\n",
        "\n",
        "a in b"
      ],
      "metadata": {
        "colab": {
          "base_uri": "https://localhost:8080/"
        },
        "id": "v2Xak0c1XSd_",
        "outputId": "d32116c2-1efe-4103-f774-54757c0b66a5"
      },
      "execution_count": null,
      "outputs": [
        {
          "output_type": "execute_result",
          "data": {
            "text/plain": [
              "True"
            ]
          },
          "metadata": {},
          "execution_count": 16
        }
      ]
    },
    {
      "cell_type": "code",
      "source": [
        "input_file_path = 'D:\\OKS\\Python'\n",
        "input_file_path"
      ],
      "metadata": {
        "colab": {
          "base_uri": "https://localhost:8080/",
          "height": 36
        },
        "id": "HWcDcBy1XWlO",
        "outputId": "f73f25d1-87fd-4d33-89b8-e34436312134"
      },
      "execution_count": null,
      "outputs": [
        {
          "output_type": "execute_result",
          "data": {
            "text/plain": [
              "'D:\\\\OKS\\\\Python'"
            ],
            "application/vnd.google.colaboratory.intrinsic+json": {
              "type": "string"
            }
          },
          "metadata": {},
          "execution_count": 17
        }
      ]
    },
    {
      "cell_type": "code",
      "source": [
        "input_file_path = r\"D:\\OKS\\Python\"\n",
        "print(input_file_path)"
      ],
      "metadata": {
        "colab": {
          "base_uri": "https://localhost:8080/"
        },
        "id": "V8KCjuD7YHjX",
        "outputId": "e1800e09-240f-4820-d9c4-072894aee754"
      },
      "execution_count": null,
      "outputs": [
        {
          "output_type": "stream",
          "name": "stdout",
          "text": [
            "D:\\OKS\\Python\n"
          ]
        }
      ]
    },
    {
      "cell_type": "code",
      "source": [
        "input_file_path = 'D:\\OKS\\n new'\n",
        "print(input_file_path)"
      ],
      "metadata": {
        "colab": {
          "base_uri": "https://localhost:8080/"
        },
        "id": "2S9I_IUlYXhQ",
        "outputId": "b15b04d3-8e6d-4f29-983d-fe4f594a9a92"
      },
      "execution_count": null,
      "outputs": [
        {
          "output_type": "stream",
          "name": "stdout",
          "text": [
            "D:\\OKS\n",
            " new\n"
          ]
        }
      ]
    },
    {
      "cell_type": "code",
      "source": [
        "input_file_path = r\"D:\\OKS\\n new\"\n",
        "print(input_file_path)"
      ],
      "metadata": {
        "colab": {
          "base_uri": "https://localhost:8080/"
        },
        "id": "Hj72fpXYYkYH",
        "outputId": "59a73079-fbfd-46cc-da17-922fead7226c"
      },
      "execution_count": null,
      "outputs": [
        {
          "output_type": "stream",
          "name": "stdout",
          "text": [
            "D:\\OKS\\n new\n"
          ]
        }
      ]
    },
    {
      "cell_type": "code",
      "source": [
        "d = 100\n",
        "a = 'Python'\n",
        "\n",
        "e = f\"{d} {a}\"\n",
        "e"
      ],
      "metadata": {
        "colab": {
          "base_uri": "https://localhost:8080/",
          "height": 36
        },
        "id": "2TrlrctlY4JP",
        "outputId": "90f51824-5372-439a-be0f-9bf53931bb72"
      },
      "execution_count": null,
      "outputs": [
        {
          "output_type": "execute_result",
          "data": {
            "text/plain": [
              "'100 Python'"
            ],
            "application/vnd.google.colaboratory.intrinsic+json": {
              "type": "string"
            }
          },
          "metadata": {},
          "execution_count": 23
        }
      ]
    },
    {
      "cell_type": "code",
      "source": [
        "e = \"{0} {1}\".format(d, a)\n",
        "e"
      ],
      "metadata": {
        "colab": {
          "base_uri": "https://localhost:8080/",
          "height": 36
        },
        "id": "cWiV24yLZPw5",
        "outputId": "6d4d4d60-0569-4f7f-a088-f3a15a9a23de"
      },
      "execution_count": null,
      "outputs": [
        {
          "output_type": "execute_result",
          "data": {
            "text/plain": [
              "'100 Python'"
            ],
            "application/vnd.google.colaboratory.intrinsic+json": {
              "type": "string"
            }
          },
          "metadata": {},
          "execution_count": 24
        }
      ]
    },
    {
      "cell_type": "markdown",
      "source": [
        "## Arthimetic Operations"
      ],
      "metadata": {
        "id": "4JJu6d7gZo6q"
      }
    },
    {
      "cell_type": "code",
      "source": [
        "a = 10\n",
        "b = 20\n",
        "a + b"
      ],
      "metadata": {
        "colab": {
          "base_uri": "https://localhost:8080/"
        },
        "id": "-wbCTqbCZrV3",
        "outputId": "cab5dfa9-740c-464b-a91b-6396f4f7e5cb"
      },
      "execution_count": null,
      "outputs": [
        {
          "output_type": "execute_result",
          "data": {
            "text/plain": [
              "30"
            ]
          },
          "metadata": {},
          "execution_count": 25
        }
      ]
    },
    {
      "cell_type": "code",
      "source": [
        "a = '10'\n",
        "b = '20'\n",
        "a + b"
      ],
      "metadata": {
        "colab": {
          "base_uri": "https://localhost:8080/",
          "height": 36
        },
        "id": "d6ASwD6xZ2-n",
        "outputId": "7a804379-e142-4b8d-f591-af3169b72f5e"
      },
      "execution_count": null,
      "outputs": [
        {
          "output_type": "execute_result",
          "data": {
            "text/plain": [
              "'1020'"
            ],
            "application/vnd.google.colaboratory.intrinsic+json": {
              "type": "string"
            }
          },
          "metadata": {},
          "execution_count": 26
        }
      ]
    },
    {
      "cell_type": "code",
      "source": [
        "a = 10\n",
        "b = 20\n",
        "a - b"
      ],
      "metadata": {
        "colab": {
          "base_uri": "https://localhost:8080/"
        },
        "id": "YVG-HZRoaBk3",
        "outputId": "5d82aff4-4f4b-4f46-91a2-8f56b478cdae"
      },
      "execution_count": null,
      "outputs": [
        {
          "output_type": "execute_result",
          "data": {
            "text/plain": [
              "-10"
            ]
          },
          "metadata": {},
          "execution_count": 27
        }
      ]
    },
    {
      "cell_type": "code",
      "source": [
        "a = '10'\n",
        "b = '20'\n",
        "a - b"
      ],
      "metadata": {
        "colab": {
          "base_uri": "https://localhost:8080/",
          "height": 200
        },
        "id": "34l0by9saRSm",
        "outputId": "d4c4e8d8-dfa2-488b-8c9a-099facc10142"
      },
      "execution_count": null,
      "outputs": [
        {
          "output_type": "error",
          "ename": "TypeError",
          "evalue": "ignored",
          "traceback": [
            "\u001b[0;31m---------------------------------------------------------------------------\u001b[0m",
            "\u001b[0;31mTypeError\u001b[0m                                 Traceback (most recent call last)",
            "\u001b[0;32m<ipython-input-28-ec9c53bf3dcb>\u001b[0m in \u001b[0;36m<module>\u001b[0;34m()\u001b[0m\n\u001b[1;32m      1\u001b[0m \u001b[0ma\u001b[0m \u001b[0;34m=\u001b[0m \u001b[0;34m'10'\u001b[0m\u001b[0;34m\u001b[0m\u001b[0;34m\u001b[0m\u001b[0m\n\u001b[1;32m      2\u001b[0m \u001b[0mb\u001b[0m \u001b[0;34m=\u001b[0m \u001b[0;34m'20'\u001b[0m\u001b[0;34m\u001b[0m\u001b[0;34m\u001b[0m\u001b[0m\n\u001b[0;32m----> 3\u001b[0;31m \u001b[0ma\u001b[0m \u001b[0;34m-\u001b[0m \u001b[0mb\u001b[0m\u001b[0;34m\u001b[0m\u001b[0;34m\u001b[0m\u001b[0m\n\u001b[0m",
            "\u001b[0;31mTypeError\u001b[0m: unsupported operand type(s) for -: 'str' and 'str'"
          ]
        }
      ]
    },
    {
      "cell_type": "code",
      "source": [
        "a = '10'\n",
        "b = '20'\n",
        "int(a) - int(b)"
      ],
      "metadata": {
        "colab": {
          "base_uri": "https://localhost:8080/"
        },
        "id": "vSsh9HZNaVRG",
        "outputId": "4d560cb1-ea58-49ed-d5ed-db3cd6169cec"
      },
      "execution_count": null,
      "outputs": [
        {
          "output_type": "execute_result",
          "data": {
            "text/plain": [
              "-10"
            ]
          },
          "metadata": {},
          "execution_count": 29
        }
      ]
    },
    {
      "cell_type": "code",
      "source": [
        "a = 'python 100'\n",
        "b = 'programming'\n",
        "int(a) - int(b)"
      ],
      "metadata": {
        "colab": {
          "base_uri": "https://localhost:8080/",
          "height": 200
        },
        "id": "FR-H_ZwMasV4",
        "outputId": "9ffad74c-fb46-4809-bb2c-6c1752f8899f"
      },
      "execution_count": null,
      "outputs": [
        {
          "output_type": "error",
          "ename": "ValueError",
          "evalue": "ignored",
          "traceback": [
            "\u001b[0;31m---------------------------------------------------------------------------\u001b[0m",
            "\u001b[0;31mValueError\u001b[0m                                Traceback (most recent call last)",
            "\u001b[0;32m<ipython-input-31-e8cbb6d14293>\u001b[0m in \u001b[0;36m<module>\u001b[0;34m()\u001b[0m\n\u001b[1;32m      1\u001b[0m \u001b[0ma\u001b[0m \u001b[0;34m=\u001b[0m \u001b[0;34m'python 100'\u001b[0m\u001b[0;34m\u001b[0m\u001b[0;34m\u001b[0m\u001b[0m\n\u001b[1;32m      2\u001b[0m \u001b[0mb\u001b[0m \u001b[0;34m=\u001b[0m \u001b[0;34m'programming'\u001b[0m\u001b[0;34m\u001b[0m\u001b[0;34m\u001b[0m\u001b[0m\n\u001b[0;32m----> 3\u001b[0;31m \u001b[0mint\u001b[0m\u001b[0;34m(\u001b[0m\u001b[0ma\u001b[0m\u001b[0;34m)\u001b[0m \u001b[0;34m-\u001b[0m \u001b[0mint\u001b[0m\u001b[0;34m(\u001b[0m\u001b[0mb\u001b[0m\u001b[0;34m)\u001b[0m\u001b[0;34m\u001b[0m\u001b[0;34m\u001b[0m\u001b[0m\n\u001b[0m",
            "\u001b[0;31mValueError\u001b[0m: invalid literal for int() with base 10: 'python 100'"
          ]
        }
      ]
    },
    {
      "cell_type": "code",
      "source": [
        "a = 1000\n",
        "b = 30\n",
        "print(\"Multiplication\", a*b)\n",
        "print(\"Division\", a/b)\n",
        "print(\"Quotient\", a//b)\n",
        "print(\"Remainder\", a%b)"
      ],
      "metadata": {
        "colab": {
          "base_uri": "https://localhost:8080/"
        },
        "id": "5x5x-sUDa9sj",
        "outputId": "9dfb2f5f-9290-4e37-f5b7-1a7cd142a56f"
      },
      "execution_count": null,
      "outputs": [
        {
          "output_type": "stream",
          "name": "stdout",
          "text": [
            "Multiplication 30000\n",
            "Division 33.333333333333336\n",
            "Quotient 33\n",
            "Remainder 10\n"
          ]
        }
      ]
    },
    {
      "cell_type": "code",
      "source": [
        "a = 10\n",
        "b = 2\n",
        "print(\"Power\", a**b)"
      ],
      "metadata": {
        "colab": {
          "base_uri": "https://localhost:8080/"
        },
        "id": "-27s7H27bkSY",
        "outputId": "c0100081-5900-4852-e0c6-2fc5ee9f6cfb"
      },
      "execution_count": null,
      "outputs": [
        {
          "output_type": "stream",
          "name": "stdout",
          "text": [
            "Power 100\n"
          ]
        }
      ]
    },
    {
      "cell_type": "code",
      "source": [
        "import math\n",
        "\n",
        "print(\"Square Root\", math.sqrt(a))"
      ],
      "metadata": {
        "colab": {
          "base_uri": "https://localhost:8080/"
        },
        "id": "LRGcSK2db8ln",
        "outputId": "160a7567-209f-4267-81c2-e598e9222ac0"
      },
      "execution_count": null,
      "outputs": [
        {
          "output_type": "stream",
          "name": "stdout",
          "text": [
            "Square Root 3.1622776601683795\n"
          ]
        }
      ]
    },
    {
      "cell_type": "code",
      "source": [
        "math.exp(10)"
      ],
      "metadata": {
        "colab": {
          "base_uri": "https://localhost:8080/"
        },
        "id": "dfRsgVt-cRMY",
        "outputId": "cda41526-ba9d-4570-b6ff-cde80c3c2876"
      },
      "execution_count": null,
      "outputs": [
        {
          "output_type": "execute_result",
          "data": {
            "text/plain": [
              "22026.465794806718"
            ]
          },
          "metadata": {},
          "execution_count": 36
        }
      ]
    },
    {
      "cell_type": "code",
      "source": [
        "math.log(10)"
      ],
      "metadata": {
        "colab": {
          "base_uri": "https://localhost:8080/"
        },
        "id": "IHADanEJccvE",
        "outputId": "912225b2-c7a2-4290-a0d6-f8967375f567"
      },
      "execution_count": null,
      "outputs": [
        {
          "output_type": "execute_result",
          "data": {
            "text/plain": [
              "2.302585092994046"
            ]
          },
          "metadata": {},
          "execution_count": 37
        }
      ]
    },
    {
      "cell_type": "code",
      "source": [
        ""
      ],
      "metadata": {
        "id": "hrYTo15KcePm"
      },
      "execution_count": null,
      "outputs": []
    },
    {
      "cell_type": "markdown",
      "source": [
        "## Range Function"
      ],
      "metadata": {
        "id": "0It-R7D5aI4I"
      }
    },
    {
      "cell_type": "code",
      "source": [
        "list(range(1, 10))"
      ],
      "metadata": {
        "colab": {
          "base_uri": "https://localhost:8080/"
        },
        "id": "IwLqIMh3aQy8",
        "outputId": "4468add4-62b1-42e3-b53d-29b9ae7eb74e"
      },
      "execution_count": null,
      "outputs": [
        {
          "output_type": "execute_result",
          "data": {
            "text/plain": [
              "[1, 2, 3, 4, 5, 6, 7, 8, 9]"
            ]
          },
          "metadata": {},
          "execution_count": 2
        }
      ]
    },
    {
      "cell_type": "markdown",
      "source": [
        "## Type of Variable"
      ],
      "metadata": {
        "id": "6oj8NKHHaiZp"
      }
    },
    {
      "cell_type": "code",
      "source": [
        "a = 10\n",
        "type(a)"
      ],
      "metadata": {
        "colab": {
          "base_uri": "https://localhost:8080/"
        },
        "id": "RV9ezUe1aktR",
        "outputId": "0682abcb-957f-46c4-b70c-910d61e86690"
      },
      "execution_count": null,
      "outputs": [
        {
          "output_type": "execute_result",
          "data": {
            "text/plain": [
              "int"
            ]
          },
          "metadata": {},
          "execution_count": 3
        }
      ]
    },
    {
      "cell_type": "code",
      "source": [
        "a = 'Python'\n",
        "type(a)"
      ],
      "metadata": {
        "colab": {
          "base_uri": "https://localhost:8080/"
        },
        "id": "ZeNpNyE5apnZ",
        "outputId": "955ba766-b31f-4f19-dd0e-e89c9c987e2e"
      },
      "execution_count": null,
      "outputs": [
        {
          "output_type": "execute_result",
          "data": {
            "text/plain": [
              "str"
            ]
          },
          "metadata": {},
          "execution_count": 4
        }
      ]
    },
    {
      "cell_type": "markdown",
      "source": [
        "## Condition Statements"
      ],
      "metadata": {
        "id": "03QI1bFabEsM"
      }
    },
    {
      "cell_type": "code",
      "source": [
        "# if elif else\n",
        "\n",
        "'''\n",
        "if condition1:\n",
        "  code1\n",
        "  code2\n",
        "elif condition2:\n",
        "  code6\n",
        "else:\n",
        "  code3\n",
        "  code4\n",
        "  code5\n",
        "\n",
        "'''\n",
        "\n",
        "a = 100\n",
        "b = 20\n",
        "\n",
        "if a < b:\n",
        "  print(\"a is less than b\")\n",
        "elif a > b:\n",
        "  print(\"a is greater than b\")\n",
        "elif a == b:\n",
        "  print(\"both are equal\")"
      ],
      "metadata": {
        "colab": {
          "base_uri": "https://localhost:8080/"
        },
        "id": "l3UvT3olbG_7",
        "outputId": "4fe1b1e9-d4d4-4f71-96d6-36f584eea633"
      },
      "execution_count": null,
      "outputs": [
        {
          "output_type": "stream",
          "name": "stdout",
          "text": [
            "a is greater than b\n"
          ]
        }
      ]
    },
    {
      "cell_type": "code",
      "source": [
        "a < b"
      ],
      "metadata": {
        "colab": {
          "base_uri": "https://localhost:8080/"
        },
        "id": "nPck-dOqbl5l",
        "outputId": "a3977bd4-ea79-4f7e-8d80-9da9e7cc14dc"
      },
      "execution_count": null,
      "outputs": [
        {
          "output_type": "execute_result",
          "data": {
            "text/plain": [
              "False"
            ]
          },
          "metadata": {},
          "execution_count": 8
        }
      ]
    },
    {
      "cell_type": "code",
      "source": [
        "a > b"
      ],
      "metadata": {
        "colab": {
          "base_uri": "https://localhost:8080/"
        },
        "id": "0tjAH8vxckzH",
        "outputId": "c2cbfa8e-62f9-4f50-ad7e-7a7dad2349ae"
      },
      "execution_count": null,
      "outputs": [
        {
          "output_type": "execute_result",
          "data": {
            "text/plain": [
              "True"
            ]
          },
          "metadata": {},
          "execution_count": 9
        }
      ]
    },
    {
      "cell_type": "code",
      "source": [
        "a = 100.5\n",
        "\n",
        "if type(a) == str:\n",
        "  print('Input is a string')\n",
        "elif type(a) == int:\n",
        "  print(\"Input is a integer\")\n",
        "else:\n",
        "  print(\"Unknown input type\")\n"
      ],
      "metadata": {
        "colab": {
          "base_uri": "https://localhost:8080/"
        },
        "id": "uObwx5h5cpnR",
        "outputId": "2ca586cb-6fff-4619-ef2f-0c986c713d29"
      },
      "execution_count": null,
      "outputs": [
        {
          "output_type": "stream",
          "name": "stdout",
          "text": [
            "Unknown input type\n"
          ]
        }
      ]
    },
    {
      "cell_type": "code",
      "source": [
        "type(a)"
      ],
      "metadata": {
        "colab": {
          "base_uri": "https://localhost:8080/"
        },
        "id": "Jk7Omv2ldZQR",
        "outputId": "431fecb3-1bd3-4b5e-94d7-d1db6a63f541"
      },
      "execution_count": null,
      "outputs": [
        {
          "output_type": "execute_result",
          "data": {
            "text/plain": [
              "float"
            ]
          },
          "metadata": {},
          "execution_count": 16
        }
      ]
    },
    {
      "cell_type": "code",
      "source": [
        ""
      ],
      "metadata": {
        "id": "UjMu6PFvdmuy"
      },
      "execution_count": null,
      "outputs": []
    },
    {
      "cell_type": "markdown",
      "source": [
        "## List"
      ],
      "metadata": {
        "id": "J4KM-wKWeGzd"
      }
    },
    {
      "cell_type": "code",
      "source": [
        "a = ['python', 'program', 100, 100.7]\n",
        "a"
      ],
      "metadata": {
        "colab": {
          "base_uri": "https://localhost:8080/"
        },
        "id": "dXfOwXGneJCD",
        "outputId": "ec6d549e-51d3-4c36-98af-aa2971c43501"
      },
      "execution_count": null,
      "outputs": [
        {
          "output_type": "execute_result",
          "data": {
            "text/plain": [
              "['python', 'program', 100, 100.7]"
            ]
          },
          "metadata": {},
          "execution_count": 17
        }
      ]
    },
    {
      "cell_type": "code",
      "source": [
        "if type(a) == str:\n",
        "  print('Input is a string')\n",
        "elif type(a) == int:\n",
        "  print(\"Input is a integer\")\n",
        "else:\n",
        "  print(\"Unknown input type\")"
      ],
      "metadata": {
        "colab": {
          "base_uri": "https://localhost:8080/"
        },
        "id": "4_Si5xJheeyL",
        "outputId": "0c74dd11-6f9c-4a44-8863-fd8bfe2cf819"
      },
      "execution_count": null,
      "outputs": [
        {
          "output_type": "stream",
          "name": "stdout",
          "text": [
            "Unknown input type\n"
          ]
        }
      ]
    },
    {
      "cell_type": "code",
      "source": [
        "type(a)"
      ],
      "metadata": {
        "colab": {
          "base_uri": "https://localhost:8080/"
        },
        "id": "mPEx7RR4epVZ",
        "outputId": "76754a03-3e85-4436-9abd-4b4c12da1238"
      },
      "execution_count": null,
      "outputs": [
        {
          "output_type": "execute_result",
          "data": {
            "text/plain": [
              "list"
            ]
          },
          "metadata": {},
          "execution_count": 19
        }
      ]
    },
    {
      "cell_type": "code",
      "source": [
        "a = []\n",
        "a"
      ],
      "metadata": {
        "colab": {
          "base_uri": "https://localhost:8080/"
        },
        "id": "gkfA0iaierWR",
        "outputId": "43dca61a-ebbb-4c2b-c850-52807e7472e7"
      },
      "execution_count": null,
      "outputs": [
        {
          "output_type": "execute_result",
          "data": {
            "text/plain": [
              "[]"
            ]
          },
          "metadata": {},
          "execution_count": 21
        }
      ]
    },
    {
      "cell_type": "code",
      "source": [
        "dir(a)"
      ],
      "metadata": {
        "colab": {
          "base_uri": "https://localhost:8080/"
        },
        "id": "eypPJ-F2ew4T",
        "outputId": "bbf7823b-de61-4e68-aaf0-77c017dde657"
      },
      "execution_count": null,
      "outputs": [
        {
          "output_type": "execute_result",
          "data": {
            "text/plain": [
              "['__add__',\n",
              " '__class__',\n",
              " '__contains__',\n",
              " '__delattr__',\n",
              " '__delitem__',\n",
              " '__dir__',\n",
              " '__doc__',\n",
              " '__eq__',\n",
              " '__format__',\n",
              " '__ge__',\n",
              " '__getattribute__',\n",
              " '__getitem__',\n",
              " '__gt__',\n",
              " '__hash__',\n",
              " '__iadd__',\n",
              " '__imul__',\n",
              " '__init__',\n",
              " '__init_subclass__',\n",
              " '__iter__',\n",
              " '__le__',\n",
              " '__len__',\n",
              " '__lt__',\n",
              " '__mul__',\n",
              " '__ne__',\n",
              " '__new__',\n",
              " '__reduce__',\n",
              " '__reduce_ex__',\n",
              " '__repr__',\n",
              " '__reversed__',\n",
              " '__rmul__',\n",
              " '__setattr__',\n",
              " '__setitem__',\n",
              " '__sizeof__',\n",
              " '__str__',\n",
              " '__subclasshook__',\n",
              " 'append',\n",
              " 'clear',\n",
              " 'copy',\n",
              " 'count',\n",
              " 'extend',\n",
              " 'index',\n",
              " 'insert',\n",
              " 'pop',\n",
              " 'remove',\n",
              " 'reverse',\n",
              " 'sort']"
            ]
          },
          "metadata": {},
          "execution_count": 22
        }
      ]
    },
    {
      "cell_type": "code",
      "source": [
        "a = ['python', 'program', 100, 100.7]\n",
        "len(a)"
      ],
      "metadata": {
        "colab": {
          "base_uri": "https://localhost:8080/"
        },
        "id": "_zDj_-B5e9NJ",
        "outputId": "976b4b97-dc8e-49b2-9c6f-0c4f84fce278"
      },
      "execution_count": null,
      "outputs": [
        {
          "output_type": "execute_result",
          "data": {
            "text/plain": [
              "4"
            ]
          },
          "metadata": {},
          "execution_count": 24
        }
      ]
    },
    {
      "cell_type": "code",
      "source": [
        "a[0]"
      ],
      "metadata": {
        "colab": {
          "base_uri": "https://localhost:8080/",
          "height": 36
        },
        "id": "CwBDgCeEfI5b",
        "outputId": "dcfff2f7-c7e1-4d72-98e8-b451cdf9e961"
      },
      "execution_count": null,
      "outputs": [
        {
          "output_type": "execute_result",
          "data": {
            "text/plain": [
              "'python'"
            ],
            "application/vnd.google.colaboratory.intrinsic+json": {
              "type": "string"
            }
          },
          "metadata": {},
          "execution_count": 25
        }
      ]
    },
    {
      "cell_type": "code",
      "source": [
        "a[2]"
      ],
      "metadata": {
        "colab": {
          "base_uri": "https://localhost:8080/"
        },
        "id": "DucADBkrfaUZ",
        "outputId": "804b564d-264b-489e-c1b8-4f571039fa53"
      },
      "execution_count": null,
      "outputs": [
        {
          "output_type": "execute_result",
          "data": {
            "text/plain": [
              "100"
            ]
          },
          "metadata": {},
          "execution_count": 26
        }
      ]
    },
    {
      "cell_type": "code",
      "source": [
        "a[3]"
      ],
      "metadata": {
        "colab": {
          "base_uri": "https://localhost:8080/"
        },
        "id": "7XXHGoY9femJ",
        "outputId": "a2ac6f28-72a8-4c61-9ca8-40f4c4088e48"
      },
      "execution_count": null,
      "outputs": [
        {
          "output_type": "execute_result",
          "data": {
            "text/plain": [
              "100.7"
            ]
          },
          "metadata": {},
          "execution_count": 27
        }
      ]
    },
    {
      "cell_type": "code",
      "source": [
        "a[-1]"
      ],
      "metadata": {
        "colab": {
          "base_uri": "https://localhost:8080/"
        },
        "id": "jyXzYWpEfkTZ",
        "outputId": "ac39a121-28ad-4ea6-cc41-481bbdeb9c02"
      },
      "execution_count": null,
      "outputs": [
        {
          "output_type": "execute_result",
          "data": {
            "text/plain": [
              "100.7"
            ]
          },
          "metadata": {},
          "execution_count": 28
        }
      ]
    },
    {
      "cell_type": "code",
      "source": [
        "a[-2]"
      ],
      "metadata": {
        "colab": {
          "base_uri": "https://localhost:8080/"
        },
        "id": "bXYz1EKQfmDJ",
        "outputId": "1e6ac8c1-a063-4f38-ab83-f5edfbe598e8"
      },
      "execution_count": null,
      "outputs": [
        {
          "output_type": "execute_result",
          "data": {
            "text/plain": [
              "100"
            ]
          },
          "metadata": {},
          "execution_count": 29
        }
      ]
    },
    {
      "cell_type": "markdown",
      "source": [
        "Append"
      ],
      "metadata": {
        "id": "YjoMvWyYf6vc"
      }
    },
    {
      "cell_type": "code",
      "source": [
        "a = ['python', 'program', 100, 100.7]\n",
        "a.append('OKS')\n",
        "a"
      ],
      "metadata": {
        "colab": {
          "base_uri": "https://localhost:8080/"
        },
        "id": "4MyYWNT2ftR6",
        "outputId": "4c16e78d-4de3-4278-842b-e9995cd63975"
      },
      "execution_count": null,
      "outputs": [
        {
          "output_type": "execute_result",
          "data": {
            "text/plain": [
              "['python', 'program', 100, 100.7, 'OKS']"
            ]
          },
          "metadata": {},
          "execution_count": 30
        }
      ]
    },
    {
      "cell_type": "code",
      "source": [
        "a = [1, 2 ,3]\n",
        "b = ['python', 'program']\n",
        "a.append(b)\n",
        "a"
      ],
      "metadata": {
        "colab": {
          "base_uri": "https://localhost:8080/"
        },
        "id": "XE15GdcXgMwC",
        "outputId": "a10709b3-696b-4bbe-85c2-4c4dafd4e215"
      },
      "execution_count": null,
      "outputs": [
        {
          "output_type": "execute_result",
          "data": {
            "text/plain": [
              "[1, 2, 3, ['python', 'program']]"
            ]
          },
          "metadata": {},
          "execution_count": 32
        }
      ]
    },
    {
      "cell_type": "code",
      "source": [
        "len(a)"
      ],
      "metadata": {
        "colab": {
          "base_uri": "https://localhost:8080/"
        },
        "id": "dXCg8rN-gaTU",
        "outputId": "843aa6ca-7f04-4e63-c181-ca679fcb1eeb"
      },
      "execution_count": null,
      "outputs": [
        {
          "output_type": "execute_result",
          "data": {
            "text/plain": [
              "4"
            ]
          },
          "metadata": {},
          "execution_count": 33
        }
      ]
    },
    {
      "cell_type": "code",
      "source": [
        "a[3]"
      ],
      "metadata": {
        "colab": {
          "base_uri": "https://localhost:8080/"
        },
        "id": "sNPgkU-PgpZx",
        "outputId": "1b4da81c-4113-4a9c-c84c-2e8cf78d7ea1"
      },
      "execution_count": null,
      "outputs": [
        {
          "output_type": "execute_result",
          "data": {
            "text/plain": [
              "['python', 'program']"
            ]
          },
          "metadata": {},
          "execution_count": 34
        }
      ]
    },
    {
      "cell_type": "code",
      "source": [
        "a[3][0]"
      ],
      "metadata": {
        "colab": {
          "base_uri": "https://localhost:8080/",
          "height": 36
        },
        "id": "hzvb2UKKg3Yy",
        "outputId": "258df1bd-b699-44f8-e67c-3d20699e8b8f"
      },
      "execution_count": null,
      "outputs": [
        {
          "output_type": "execute_result",
          "data": {
            "text/plain": [
              "'python'"
            ],
            "application/vnd.google.colaboratory.intrinsic+json": {
              "type": "string"
            }
          },
          "metadata": {},
          "execution_count": 35
        }
      ]
    },
    {
      "cell_type": "markdown",
      "source": [
        ""
      ],
      "metadata": {
        "id": "1Y7UAFFxhNtm"
      }
    },
    {
      "cell_type": "markdown",
      "source": [
        "### clear"
      ],
      "metadata": {
        "id": "NS56Nl9xhNwH"
      }
    },
    {
      "cell_type": "code",
      "source": [
        "a = [1, 2, 3, ['python', 'program']]\n",
        "a"
      ],
      "metadata": {
        "colab": {
          "base_uri": "https://localhost:8080/"
        },
        "id": "l6cF_n7RhAEB",
        "outputId": "6014a435-45cf-4ae2-a6b6-9d6e0b6cbed3"
      },
      "execution_count": null,
      "outputs": [
        {
          "output_type": "execute_result",
          "data": {
            "text/plain": [
              "[1, 2, 3, ['python', 'program']]"
            ]
          },
          "metadata": {},
          "execution_count": 36
        }
      ]
    },
    {
      "cell_type": "code",
      "source": [
        "a.clear()\n",
        "a"
      ],
      "metadata": {
        "colab": {
          "base_uri": "https://localhost:8080/"
        },
        "id": "DvsY6nLHhWVl",
        "outputId": "4a7bf4b6-59c0-430c-bda9-06b12eec0194"
      },
      "execution_count": null,
      "outputs": [
        {
          "output_type": "execute_result",
          "data": {
            "text/plain": [
              "[]"
            ]
          },
          "metadata": {},
          "execution_count": 37
        }
      ]
    },
    {
      "cell_type": "code",
      "source": [
        "a = []\n",
        "a"
      ],
      "metadata": {
        "colab": {
          "base_uri": "https://localhost:8080/"
        },
        "id": "4uufye8phe-q",
        "outputId": "1792df49-b80b-4822-b79a-ca318b42be1f"
      },
      "execution_count": null,
      "outputs": [
        {
          "output_type": "execute_result",
          "data": {
            "text/plain": [
              "[]"
            ]
          },
          "metadata": {},
          "execution_count": 38
        }
      ]
    },
    {
      "cell_type": "code",
      "source": [
        ""
      ],
      "metadata": {
        "id": "dtfikmQEhjui"
      },
      "execution_count": null,
      "outputs": []
    },
    {
      "cell_type": "markdown",
      "source": [
        "### count"
      ],
      "metadata": {
        "id": "7l3FUbenhrL1"
      }
    },
    {
      "cell_type": "code",
      "source": [
        "a = [1, 2, 3, 3 , 4 , 1 , 10]\n",
        "a"
      ],
      "metadata": {
        "colab": {
          "base_uri": "https://localhost:8080/"
        },
        "id": "fD_AIXZ2hs57",
        "outputId": "5ff23198-2f97-4741-8153-da7e20aba973"
      },
      "execution_count": null,
      "outputs": [
        {
          "output_type": "execute_result",
          "data": {
            "text/plain": [
              "[1, 2, 3, 3, 4, 1, 10]"
            ]
          },
          "metadata": {},
          "execution_count": 39
        }
      ]
    },
    {
      "cell_type": "code",
      "source": [
        "a.count(3)"
      ],
      "metadata": {
        "colab": {
          "base_uri": "https://localhost:8080/"
        },
        "id": "rE-QosDUhyDi",
        "outputId": "a25ac08b-6a69-45db-c7b2-94722c23a4d1"
      },
      "execution_count": null,
      "outputs": [
        {
          "output_type": "execute_result",
          "data": {
            "text/plain": [
              "2"
            ]
          },
          "metadata": {},
          "execution_count": 40
        }
      ]
    },
    {
      "cell_type": "code",
      "source": [
        "a = [1, 2, 3, 3 , 4 , 1 , 10, 20, 20, 20, 1]\n",
        "a.count(20)"
      ],
      "metadata": {
        "colab": {
          "base_uri": "https://localhost:8080/"
        },
        "id": "EcJ63tj8h6oC",
        "outputId": "9744d311-1ad3-4207-c2d6-8cd42ca12f62"
      },
      "execution_count": null,
      "outputs": [
        {
          "output_type": "execute_result",
          "data": {
            "text/plain": [
              "3"
            ]
          },
          "metadata": {},
          "execution_count": 41
        }
      ]
    },
    {
      "cell_type": "code",
      "source": [
        "a.count(100)"
      ],
      "metadata": {
        "colab": {
          "base_uri": "https://localhost:8080/"
        },
        "id": "wpdc6uAPiEMx",
        "outputId": "8cb15bd2-1d56-4165-e254-9536b2ae00f4"
      },
      "execution_count": null,
      "outputs": [
        {
          "output_type": "execute_result",
          "data": {
            "text/plain": [
              "0"
            ]
          },
          "metadata": {},
          "execution_count": 42
        }
      ]
    },
    {
      "cell_type": "markdown",
      "source": [
        "### Extend"
      ],
      "metadata": {
        "id": "59IyTuKjiKHG"
      }
    },
    {
      "cell_type": "code",
      "source": [
        "a =[1, 2,3 ,4 ,5 ,56]\n",
        "b = ['python', 'program']\n",
        "a.extend(b)\n",
        "a"
      ],
      "metadata": {
        "colab": {
          "base_uri": "https://localhost:8080/"
        },
        "id": "2Xn2ngT-iH5J",
        "outputId": "eb27de55-7b94-475c-8514-a8f7a9c6058c"
      },
      "execution_count": null,
      "outputs": [
        {
          "output_type": "execute_result",
          "data": {
            "text/plain": [
              "[1, 2, 3, 4, 5, 56, 'python', 'program']"
            ]
          },
          "metadata": {},
          "execution_count": 43
        }
      ]
    },
    {
      "cell_type": "code",
      "source": [
        "len(a)"
      ],
      "metadata": {
        "colab": {
          "base_uri": "https://localhost:8080/"
        },
        "id": "EcWF0C_2iXXr",
        "outputId": "ed94a5bd-f857-4d8e-ac31-6ae9621096ab"
      },
      "execution_count": null,
      "outputs": [
        {
          "output_type": "execute_result",
          "data": {
            "text/plain": [
              "8"
            ]
          },
          "metadata": {},
          "execution_count": 44
        }
      ]
    },
    {
      "cell_type": "code",
      "source": [
        "a =[1, 2,3 ,4 ,5 ,56]\n",
        "b = ['python', 'program']\n",
        "c = a + b\n",
        "c"
      ],
      "metadata": {
        "colab": {
          "base_uri": "https://localhost:8080/"
        },
        "id": "R3aNs2NSifBC",
        "outputId": "270bb34a-ff4a-45b8-bd15-d56c509276d7"
      },
      "execution_count": null,
      "outputs": [
        {
          "output_type": "execute_result",
          "data": {
            "text/plain": [
              "[1, 2, 3, 4, 5, 56, 'python', 'program']"
            ]
          },
          "metadata": {},
          "execution_count": 45
        }
      ]
    },
    {
      "cell_type": "code",
      "source": [
        "a"
      ],
      "metadata": {
        "colab": {
          "base_uri": "https://localhost:8080/"
        },
        "id": "C0ImgOv8i-xr",
        "outputId": "dcdd3718-ce13-454d-a333-4ffb8de3352a"
      },
      "execution_count": null,
      "outputs": [
        {
          "output_type": "execute_result",
          "data": {
            "text/plain": [
              "[1, 2, 3, 4, 5, 56]"
            ]
          },
          "metadata": {},
          "execution_count": 46
        }
      ]
    },
    {
      "cell_type": "code",
      "source": [
        "b"
      ],
      "metadata": {
        "colab": {
          "base_uri": "https://localhost:8080/"
        },
        "id": "1qSvEp_kjBQL",
        "outputId": "90ba732e-fb92-46d9-82bc-311a4e98bbc1"
      },
      "execution_count": null,
      "outputs": [
        {
          "output_type": "execute_result",
          "data": {
            "text/plain": [
              "['python', 'program']"
            ]
          },
          "metadata": {},
          "execution_count": 47
        }
      ]
    },
    {
      "cell_type": "markdown",
      "source": [
        "### index"
      ],
      "metadata": {
        "id": "MwJp5PvzjJFv"
      }
    },
    {
      "cell_type": "code",
      "source": [
        "a =['python', 'programming', 'oks']\n",
        "a.index('programming')"
      ],
      "metadata": {
        "colab": {
          "base_uri": "https://localhost:8080/"
        },
        "id": "Z0JDz8iKjB2U",
        "outputId": "aa002318-acde-49a1-c33f-5969a055452c"
      },
      "execution_count": null,
      "outputs": [
        {
          "output_type": "execute_result",
          "data": {
            "text/plain": [
              "1"
            ]
          },
          "metadata": {},
          "execution_count": 53
        }
      ]
    },
    {
      "cell_type": "code",
      "source": [
        "a.index('100')"
      ],
      "metadata": {
        "colab": {
          "base_uri": "https://localhost:8080/",
          "height": 165
        },
        "id": "IoJnck_mjPO5",
        "outputId": "75f36a3c-9ba3-4163-d2bf-2c60697dfc3a"
      },
      "execution_count": null,
      "outputs": [
        {
          "output_type": "error",
          "ename": "ValueError",
          "evalue": "ignored",
          "traceback": [
            "\u001b[0;31m---------------------------------------------------------------------------\u001b[0m",
            "\u001b[0;31mValueError\u001b[0m                                Traceback (most recent call last)",
            "\u001b[0;32m<ipython-input-54-bdc13026f11a>\u001b[0m in \u001b[0;36m<module>\u001b[0;34m()\u001b[0m\n\u001b[0;32m----> 1\u001b[0;31m \u001b[0ma\u001b[0m\u001b[0;34m.\u001b[0m\u001b[0mindex\u001b[0m\u001b[0;34m(\u001b[0m\u001b[0;34m'100'\u001b[0m\u001b[0;34m)\u001b[0m\u001b[0;34m\u001b[0m\u001b[0;34m\u001b[0m\u001b[0m\n\u001b[0m",
            "\u001b[0;31mValueError\u001b[0m: '100' is not in list"
          ]
        }
      ]
    },
    {
      "cell_type": "code",
      "source": [
        "'100' in a"
      ],
      "metadata": {
        "colab": {
          "base_uri": "https://localhost:8080/"
        },
        "id": "dwqsyZY3jasC",
        "outputId": "0bc06ea3-673e-4d12-9364-d3977c037402"
      },
      "execution_count": null,
      "outputs": [
        {
          "output_type": "execute_result",
          "data": {
            "text/plain": [
              "False"
            ]
          },
          "metadata": {},
          "execution_count": 55
        }
      ]
    },
    {
      "cell_type": "code",
      "source": [
        "'programming' in a"
      ],
      "metadata": {
        "colab": {
          "base_uri": "https://localhost:8080/"
        },
        "id": "knk7bgE8jwxK",
        "outputId": "c105168b-189d-4bae-cd9f-9bb1c1cbee6f"
      },
      "execution_count": null,
      "outputs": [
        {
          "output_type": "execute_result",
          "data": {
            "text/plain": [
              "True"
            ]
          },
          "metadata": {},
          "execution_count": 56
        }
      ]
    },
    {
      "cell_type": "code",
      "source": [
        "if '100' in a:\n",
        "  index_value = a.index('100')\n",
        "  print(\"Index position\", index_value)\n",
        "else:\n",
        "  print(\"Item doesn't exist\")"
      ],
      "metadata": {
        "colab": {
          "base_uri": "https://localhost:8080/"
        },
        "id": "mTd-RJU0j445",
        "outputId": "08de3fe2-b1d6-41ee-94b6-c311ecf5fac4"
      },
      "execution_count": null,
      "outputs": [
        {
          "output_type": "stream",
          "name": "stdout",
          "text": [
            "Item doesn't exist\n"
          ]
        }
      ]
    },
    {
      "cell_type": "code",
      "source": [
        "b = 'Programming'\n",
        "if b in a:\n",
        "  index_value = a.index(b)\n",
        "  print(\"Index position\", index_value)\n",
        "else:\n",
        "  print(\"Item doesn't exist\")"
      ],
      "metadata": {
        "colab": {
          "base_uri": "https://localhost:8080/"
        },
        "id": "9BKU2kQnkLhS",
        "outputId": "3b6f5bf6-bab4-4869-9789-847a99bb19de"
      },
      "execution_count": null,
      "outputs": [
        {
          "output_type": "stream",
          "name": "stdout",
          "text": [
            "Item doesn't exist\n"
          ]
        }
      ]
    },
    {
      "cell_type": "code",
      "source": [
        "b = 'programming'\n",
        "if b in a:\n",
        "  index_value = a.index(b)\n",
        "  print(\"Index position\", index_value)\n",
        "else:\n",
        "  print(\"Item doesn't exist\")"
      ],
      "metadata": {
        "colab": {
          "base_uri": "https://localhost:8080/"
        },
        "id": "D--GE6MukZYy",
        "outputId": "bb2fceb2-9207-4527-b3b4-12fde9d1d6cc"
      },
      "execution_count": null,
      "outputs": [
        {
          "output_type": "stream",
          "name": "stdout",
          "text": [
            "Index position 1\n"
          ]
        }
      ]
    },
    {
      "cell_type": "code",
      "source": [
        ""
      ],
      "metadata": {
        "id": "_J_ZIU0Jkhha"
      },
      "execution_count": null,
      "outputs": []
    },
    {
      "cell_type": "markdown",
      "source": [
        "### insert"
      ],
      "metadata": {
        "id": "9ARw_tzhkp3A"
      }
    },
    {
      "cell_type": "code",
      "source": [
        "a"
      ],
      "metadata": {
        "colab": {
          "base_uri": "https://localhost:8080/"
        },
        "id": "9aEaGgVSkrby",
        "outputId": "055af296-33e4-4d41-8a32-39729fe36b1b"
      },
      "execution_count": null,
      "outputs": [
        {
          "output_type": "execute_result",
          "data": {
            "text/plain": [
              "['python', 'programming', 'oks']"
            ]
          },
          "metadata": {},
          "execution_count": 61
        }
      ]
    },
    {
      "cell_type": "code",
      "source": [
        "a.insert(1, 'good')\n",
        "a"
      ],
      "metadata": {
        "colab": {
          "base_uri": "https://localhost:8080/"
        },
        "id": "hC9GlGYLkr2q",
        "outputId": "bb3ad20f-3b5f-4ed2-81ab-ceca0c1ff9eb"
      },
      "execution_count": null,
      "outputs": [
        {
          "output_type": "execute_result",
          "data": {
            "text/plain": [
              "['python', 'good', 'programming', 'oks']"
            ]
          },
          "metadata": {},
          "execution_count": 62
        }
      ]
    },
    {
      "cell_type": "code",
      "source": [
        ""
      ],
      "metadata": {
        "id": "mxoKTeMpk0i7"
      },
      "execution_count": null,
      "outputs": []
    },
    {
      "cell_type": "markdown",
      "source": [
        "### sort"
      ],
      "metadata": {
        "id": "Ea-qVsvrlDc_"
      }
    },
    {
      "cell_type": "code",
      "source": [
        "a = [10, 20, 4, 1, 10]\n",
        "a.sort()\n",
        "a"
      ],
      "metadata": {
        "colab": {
          "base_uri": "https://localhost:8080/"
        },
        "id": "Lrkzvgi_lFH5",
        "outputId": "3d78bbef-3a17-4e46-d592-8bf3813df322"
      },
      "execution_count": null,
      "outputs": [
        {
          "output_type": "execute_result",
          "data": {
            "text/plain": [
              "[1, 4, 10, 10, 20]"
            ]
          },
          "metadata": {},
          "execution_count": 64
        }
      ]
    },
    {
      "cell_type": "code",
      "source": [
        "a.sort(reverse=True)\n",
        "a"
      ],
      "metadata": {
        "colab": {
          "base_uri": "https://localhost:8080/"
        },
        "id": "ODd3j-f-lJ5q",
        "outputId": "7ec93c79-76eb-489e-8922-b05a30b58881"
      },
      "execution_count": null,
      "outputs": [
        {
          "output_type": "execute_result",
          "data": {
            "text/plain": [
              "[20, 10, 10, 4, 1]"
            ]
          },
          "metadata": {},
          "execution_count": 68
        }
      ]
    },
    {
      "cell_type": "code",
      "source": [
        ""
      ],
      "metadata": {
        "id": "IFLZ4eIZlUXq"
      },
      "execution_count": null,
      "outputs": []
    },
    {
      "cell_type": "markdown",
      "source": [
        "## Loops"
      ],
      "metadata": {
        "id": "1zeeT7f6kBPw"
      }
    },
    {
      "cell_type": "markdown",
      "source": [
        "While"
      ],
      "metadata": {
        "id": "2xlkerRdkcrK"
      }
    },
    {
      "cell_type": "code",
      "source": [
        "'''\n",
        "while condition:\n",
        "  code1\n",
        "  code2\n",
        "  cdoe3\n",
        "code4 -- out of loop\n",
        "'''"
      ],
      "metadata": {
        "colab": {
          "base_uri": "https://localhost:8080/",
          "height": 36
        },
        "id": "gkaqagE8kCvo",
        "outputId": "da9e34ee-e0a3-4d27-be29-9202ec41c170"
      },
      "execution_count": null,
      "outputs": [
        {
          "output_type": "execute_result",
          "data": {
            "text/plain": [
              "'\\nwhile condition:\\n  code1\\n  code2\\n  cdoe3\\ncode4 -- out of loop\\n'"
            ],
            "application/vnd.google.colaboratory.intrinsic+json": {
              "type": "string"
            }
          },
          "metadata": {},
          "execution_count": 1
        }
      ]
    },
    {
      "cell_type": "code",
      "source": [
        "a = ['python', 1, 2, 'program', 3 , 4 , 5 , 6]\n",
        "\n",
        "print(a[0])\n",
        "print(a[1])\n",
        "print(a[2])\n",
        "print(a[3])\n",
        "print(a[4])\n",
        "print(a[5])\n",
        "print(a[6])\n",
        "print(a[7])"
      ],
      "metadata": {
        "colab": {
          "base_uri": "https://localhost:8080/"
        },
        "id": "gD8tgIHik_2P",
        "outputId": "b6fbfa67-8a77-44d0-b489-5bc95165e219"
      },
      "execution_count": null,
      "outputs": [
        {
          "output_type": "stream",
          "name": "stdout",
          "text": [
            "python\n",
            "1\n",
            "2\n",
            "program\n",
            "3\n",
            "4\n",
            "5\n",
            "6\n"
          ]
        }
      ]
    },
    {
      "cell_type": "code",
      "source": [
        "len(a)"
      ],
      "metadata": {
        "colab": {
          "base_uri": "https://localhost:8080/"
        },
        "id": "6MEfuRZ1ljzg",
        "outputId": "22b0b1da-b30f-4ee5-aa19-786f24bfe1da"
      },
      "execution_count": null,
      "outputs": [
        {
          "output_type": "execute_result",
          "data": {
            "text/plain": [
              "8"
            ]
          },
          "metadata": {},
          "execution_count": 4
        }
      ]
    },
    {
      "cell_type": "code",
      "source": [
        "print(a[8])"
      ],
      "metadata": {
        "colab": {
          "base_uri": "https://localhost:8080/",
          "height": 165
        },
        "id": "hmVS6ipYluam",
        "outputId": "0dc81592-b9f6-4a3b-b9ad-9e3c5ee7f005"
      },
      "execution_count": null,
      "outputs": [
        {
          "output_type": "error",
          "ename": "IndexError",
          "evalue": "ignored",
          "traceback": [
            "\u001b[0;31m---------------------------------------------------------------------------\u001b[0m",
            "\u001b[0;31mIndexError\u001b[0m                                Traceback (most recent call last)",
            "\u001b[0;32m<ipython-input-5-af838718652e>\u001b[0m in \u001b[0;36m<module>\u001b[0;34m()\u001b[0m\n\u001b[0;32m----> 1\u001b[0;31m \u001b[0mprint\u001b[0m\u001b[0;34m(\u001b[0m\u001b[0ma\u001b[0m\u001b[0;34m[\u001b[0m\u001b[0;36m8\u001b[0m\u001b[0;34m]\u001b[0m\u001b[0;34m)\u001b[0m\u001b[0;34m\u001b[0m\u001b[0;34m\u001b[0m\u001b[0m\n\u001b[0m",
            "\u001b[0;31mIndexError\u001b[0m: list index out of range"
          ]
        }
      ]
    },
    {
      "cell_type": "code",
      "source": [
        "# repeat the index from 0 to len(a) - 1\n",
        "\n",
        "i = 0\n",
        "while i<8:\n",
        "  print(a[i])\n",
        "  i=i+1"
      ],
      "metadata": {
        "colab": {
          "base_uri": "https://localhost:8080/"
        },
        "id": "dmO3CTQpl5-e",
        "outputId": "7f579de9-1dd8-4e0f-bbd1-5b235be6cc00"
      },
      "execution_count": null,
      "outputs": [
        {
          "output_type": "stream",
          "name": "stdout",
          "text": [
            "python\n",
            "1\n",
            "2\n",
            "program\n",
            "3\n",
            "4\n",
            "5\n",
            "6\n"
          ]
        }
      ]
    },
    {
      "cell_type": "markdown",
      "source": [
        ""
      ],
      "metadata": {
        "id": "Mg1Tc8hfoAZM"
      }
    },
    {
      "cell_type": "markdown",
      "source": [
        "### For Loop"
      ],
      "metadata": {
        "id": "lHS7FavyoAlz"
      }
    },
    {
      "cell_type": "code",
      "source": [
        "a = ['python', 1, 2, 'program', 3 , 4 , 5 , 6]\n",
        "for item in a:\n",
        "  print(item)"
      ],
      "metadata": {
        "colab": {
          "base_uri": "https://localhost:8080/"
        },
        "id": "Oz6cZM97nBsl",
        "outputId": "1a0f7aed-4db5-4bb6-c4a4-08fbd87e6d74"
      },
      "execution_count": null,
      "outputs": [
        {
          "output_type": "stream",
          "name": "stdout",
          "text": [
            "python\n",
            "1\n",
            "2\n",
            "program\n",
            "3\n",
            "4\n",
            "5\n",
            "6\n"
          ]
        }
      ]
    },
    {
      "cell_type": "code",
      "source": [
        "for item in [10, 20, 30]:\n",
        "  print(item)"
      ],
      "metadata": {
        "colab": {
          "base_uri": "https://localhost:8080/"
        },
        "id": "_HAjCSXuokyJ",
        "outputId": "a2464a18-d011-4689-af79-9fb094be68db"
      },
      "execution_count": null,
      "outputs": [
        {
          "output_type": "stream",
          "name": "stdout",
          "text": [
            "10\n",
            "20\n",
            "30\n"
          ]
        }
      ]
    },
    {
      "cell_type": "code",
      "source": [
        "i = 0\n",
        "while i < len(a):\n",
        "  if i%2 == 0:\n",
        "    print(a[i])\n",
        "  i = i + 1"
      ],
      "metadata": {
        "colab": {
          "base_uri": "https://localhost:8080/"
        },
        "id": "7pogwHGAoxSO",
        "outputId": "bd84f0b4-5885-482f-ed6d-400b8464ef1c"
      },
      "execution_count": null,
      "outputs": [
        {
          "output_type": "stream",
          "name": "stdout",
          "text": [
            "python\n",
            "2\n",
            "3\n",
            "5\n"
          ]
        }
      ]
    },
    {
      "cell_type": "code",
      "source": [
        "4%2 == 0"
      ],
      "metadata": {
        "colab": {
          "base_uri": "https://localhost:8080/"
        },
        "id": "l1BnJSEcpM3_",
        "outputId": "b815a1c3-683e-43ae-8029-43ec7e97e4c8"
      },
      "execution_count": null,
      "outputs": [
        {
          "output_type": "execute_result",
          "data": {
            "text/plain": [
              "True"
            ]
          },
          "metadata": {},
          "execution_count": 14
        }
      ]
    },
    {
      "cell_type": "code",
      "source": [
        "a = ['python', 'good', 'program', 'oks']\n",
        "i = 0\n",
        "while i < len(a):\n",
        "  if i%2 == 0:\n",
        "    print(a[i])\n",
        "  i = i + 1"
      ],
      "metadata": {
        "colab": {
          "base_uri": "https://localhost:8080/"
        },
        "id": "rhul7Ag3pdaX",
        "outputId": "94bee321-a981-4b15-e3e0-a7bf4a476fd6"
      },
      "execution_count": null,
      "outputs": [
        {
          "output_type": "stream",
          "name": "stdout",
          "text": [
            "python\n",
            "program\n"
          ]
        }
      ]
    },
    {
      "cell_type": "code",
      "source": [
        "i = 0\n",
        "for item in a:\n",
        "  if i%2 == 0:\n",
        "    print(item)\n",
        "  i = i + 1"
      ],
      "metadata": {
        "colab": {
          "base_uri": "https://localhost:8080/"
        },
        "id": "qr-yqqahp3Zw",
        "outputId": "55c8c313-3f5e-4ef1-a37d-28eae97dc6ad"
      },
      "execution_count": null,
      "outputs": [
        {
          "output_type": "stream",
          "name": "stdout",
          "text": [
            "python\n",
            "program\n"
          ]
        }
      ]
    },
    {
      "cell_type": "code",
      "source": [
        "for i, item in enumerate(a):\n",
        "  if i%2 == 0:\n",
        "    print(item)"
      ],
      "metadata": {
        "colab": {
          "base_uri": "https://localhost:8080/"
        },
        "id": "39EvnrblqIrW",
        "outputId": "4c2eba0c-03e4-45e8-e2d0-843626746c00"
      },
      "execution_count": null,
      "outputs": [
        {
          "output_type": "stream",
          "name": "stdout",
          "text": [
            "python\n",
            "program\n"
          ]
        }
      ]
    },
    {
      "cell_type": "code",
      "source": [
        "for i in range(1, 10):\n",
        "  print(i)"
      ],
      "metadata": {
        "colab": {
          "base_uri": "https://localhost:8080/"
        },
        "id": "yhWRULA7qZir",
        "outputId": "a4fb9985-4725-41e7-a879-fccc0af1310f"
      },
      "execution_count": null,
      "outputs": [
        {
          "output_type": "stream",
          "name": "stdout",
          "text": [
            "1\n",
            "2\n",
            "3\n",
            "4\n",
            "5\n",
            "6\n",
            "7\n",
            "8\n",
            "9\n"
          ]
        }
      ]
    },
    {
      "cell_type": "code",
      "source": [
        "list(range(1, 10))"
      ],
      "metadata": {
        "colab": {
          "base_uri": "https://localhost:8080/"
        },
        "id": "qozOVezFqqH3",
        "outputId": "9c237113-397e-44d5-b362-457d933946bc"
      },
      "execution_count": null,
      "outputs": [
        {
          "output_type": "execute_result",
          "data": {
            "text/plain": [
              "[1, 2, 3, 4, 5, 6, 7, 8, 9]"
            ]
          },
          "metadata": {},
          "execution_count": 20
        }
      ]
    },
    {
      "cell_type": "code",
      "source": [
        "list(enumerate(a))"
      ],
      "metadata": {
        "colab": {
          "base_uri": "https://localhost:8080/"
        },
        "id": "D1fQ09YXqwD4",
        "outputId": "d329b0a7-8679-4110-8458-78f7c80bc905"
      },
      "execution_count": null,
      "outputs": [
        {
          "output_type": "execute_result",
          "data": {
            "text/plain": [
              "[(0, 'python'), (1, 'good'), (2, 'program'), (3, 'oks')]"
            ]
          },
          "metadata": {},
          "execution_count": 22
        }
      ]
    },
    {
      "cell_type": "code",
      "source": [
        "a = range(1, 11)\n",
        "sum_of_list = 0\n",
        "for item in a:\n",
        "  sum_of_list = sum_of_list + item\n",
        "print(\"sum_of_list\", sum_of_list)"
      ],
      "metadata": {
        "colab": {
          "base_uri": "https://localhost:8080/"
        },
        "id": "vti25kN1qzin",
        "outputId": "b177e1c0-0f6b-456d-b907-896e2f7ae9f4"
      },
      "execution_count": null,
      "outputs": [
        {
          "output_type": "stream",
          "name": "stdout",
          "text": [
            "55\n"
          ]
        }
      ]
    },
    {
      "cell_type": "code",
      "source": [
        "a = range(1, 11)\n",
        "sum_of_list = 0\n",
        "for item in a:\n",
        "  sum_of_list = sum_of_list + item\n",
        "  print(sum_of_list)\n",
        "print(\"sum_of_list\", sum_of_list)"
      ],
      "metadata": {
        "colab": {
          "base_uri": "https://localhost:8080/"
        },
        "id": "PVZX4RR3rNBv",
        "outputId": "1fcb4a0e-5ffe-4a93-daf1-4a94ea2fa036"
      },
      "execution_count": null,
      "outputs": [
        {
          "output_type": "stream",
          "name": "stdout",
          "text": [
            "1\n",
            "3\n",
            "6\n",
            "10\n",
            "15\n",
            "21\n",
            "28\n",
            "36\n",
            "45\n",
            "55\n",
            "sum_of_list 55\n"
          ]
        }
      ]
    },
    {
      "cell_type": "code",
      "source": [
        "a = [10, 20, 100]\n",
        "sum_of_list = 0\n",
        "for item in a:\n",
        "  sum_of_list = sum_of_list + item\n",
        "  print(sum_of_list)\n",
        "print(\"sum_of_list\", sum_of_list)"
      ],
      "metadata": {
        "colab": {
          "base_uri": "https://localhost:8080/"
        },
        "id": "jbSsKVAAr4wP",
        "outputId": "91d695c3-6aba-4bc4-8618-98fa7878f4fc"
      },
      "execution_count": null,
      "outputs": [
        {
          "output_type": "stream",
          "name": "stdout",
          "text": [
            "10\n",
            "30\n",
            "130\n",
            "sum_of_list 130\n"
          ]
        }
      ]
    },
    {
      "cell_type": "code",
      "source": [
        ""
      ],
      "metadata": {
        "id": "eVtNXcKMsIO4"
      },
      "execution_count": null,
      "outputs": []
    },
    {
      "cell_type": "markdown",
      "source": [
        "## DataTypes"
      ],
      "metadata": {
        "id": "E83GeNKfsl0l"
      }
    },
    {
      "cell_type": "markdown",
      "source": [
        "### Tuples"
      ],
      "metadata": {
        "id": "5H5EZcDdss5M"
      }
    },
    {
      "cell_type": "code",
      "source": [
        "a = (10, 20 , 30)\n",
        "len(a)"
      ],
      "metadata": {
        "colab": {
          "base_uri": "https://localhost:8080/"
        },
        "id": "qzlwsFMvsp8e",
        "outputId": "9a5e3bf6-f38c-4b51-fefd-e0a4d6deed93"
      },
      "execution_count": null,
      "outputs": [
        {
          "output_type": "execute_result",
          "data": {
            "text/plain": [
              "3"
            ]
          },
          "metadata": {},
          "execution_count": 28
        }
      ]
    },
    {
      "cell_type": "code",
      "source": [
        "a[0]"
      ],
      "metadata": {
        "colab": {
          "base_uri": "https://localhost:8080/"
        },
        "id": "aI_BQkJws6kg",
        "outputId": "d9ee99ce-9d28-49b7-baa5-557ef9dca700"
      },
      "execution_count": null,
      "outputs": [
        {
          "output_type": "execute_result",
          "data": {
            "text/plain": [
              "10"
            ]
          },
          "metadata": {},
          "execution_count": 29
        }
      ]
    },
    {
      "cell_type": "code",
      "source": [
        "a[2]"
      ],
      "metadata": {
        "colab": {
          "base_uri": "https://localhost:8080/"
        },
        "id": "QtO0M6aNs8Q_",
        "outputId": "55c22a60-c4aa-4c3e-b15f-70b46a1ab92e"
      },
      "execution_count": null,
      "outputs": [
        {
          "output_type": "execute_result",
          "data": {
            "text/plain": [
              "30"
            ]
          },
          "metadata": {},
          "execution_count": 30
        }
      ]
    },
    {
      "cell_type": "code",
      "source": [
        "a[-1]"
      ],
      "metadata": {
        "colab": {
          "base_uri": "https://localhost:8080/"
        },
        "id": "yZRLYq6-s9Vn",
        "outputId": "71f8b411-adcc-4a08-bf23-edb521fe81c7"
      },
      "execution_count": null,
      "outputs": [
        {
          "output_type": "execute_result",
          "data": {
            "text/plain": [
              "30"
            ]
          },
          "metadata": {},
          "execution_count": 31
        }
      ]
    },
    {
      "cell_type": "code",
      "source": [
        "list_a = [10, 20, 30]\n",
        "list_a"
      ],
      "metadata": {
        "colab": {
          "base_uri": "https://localhost:8080/"
        },
        "id": "LdbC10O5s-Ov",
        "outputId": "63c6b3b6-2749-499e-db73-9ae5a2a2f4d3"
      },
      "execution_count": null,
      "outputs": [
        {
          "output_type": "execute_result",
          "data": {
            "text/plain": [
              "[10, 20, 30]"
            ]
          },
          "metadata": {},
          "execution_count": 32
        }
      ]
    },
    {
      "cell_type": "code",
      "source": [
        "list_a[1]"
      ],
      "metadata": {
        "colab": {
          "base_uri": "https://localhost:8080/"
        },
        "id": "vw3XmUa7tIRf",
        "outputId": "290edeb2-3e3c-4945-b787-352740b5c2a1"
      },
      "execution_count": null,
      "outputs": [
        {
          "output_type": "execute_result",
          "data": {
            "text/plain": [
              "20"
            ]
          },
          "metadata": {},
          "execution_count": 33
        }
      ]
    },
    {
      "cell_type": "code",
      "source": [
        "list_a[1] = 100\n",
        "list_a"
      ],
      "metadata": {
        "colab": {
          "base_uri": "https://localhost:8080/"
        },
        "id": "_Iy6-6nqtK5P",
        "outputId": "55424f90-a835-4922-b32e-8d97d47912e6"
      },
      "execution_count": null,
      "outputs": [
        {
          "output_type": "execute_result",
          "data": {
            "text/plain": [
              "[10, 100, 30]"
            ]
          },
          "metadata": {},
          "execution_count": 34
        }
      ]
    },
    {
      "cell_type": "code",
      "source": [
        "tuple_a = (10, 20 , 30)\n",
        "tuple_a"
      ],
      "metadata": {
        "colab": {
          "base_uri": "https://localhost:8080/"
        },
        "id": "JhqVlWKStOJ_",
        "outputId": "2ca141f1-7b92-46ee-964a-fbadc5db4db8"
      },
      "execution_count": null,
      "outputs": [
        {
          "output_type": "execute_result",
          "data": {
            "text/plain": [
              "(10, 20, 30)"
            ]
          },
          "metadata": {},
          "execution_count": 35
        }
      ]
    },
    {
      "cell_type": "code",
      "source": [
        "tuple_a[1] = 100\n",
        "tuple_a"
      ],
      "metadata": {
        "colab": {
          "base_uri": "https://localhost:8080/",
          "height": 182
        },
        "id": "hGxYPBwatW8n",
        "outputId": "29478614-cb5e-49c2-e825-f2e28be194ec"
      },
      "execution_count": null,
      "outputs": [
        {
          "output_type": "error",
          "ename": "TypeError",
          "evalue": "ignored",
          "traceback": [
            "\u001b[0;31m---------------------------------------------------------------------------\u001b[0m",
            "\u001b[0;31mTypeError\u001b[0m                                 Traceback (most recent call last)",
            "\u001b[0;32m<ipython-input-36-b0514f356c86>\u001b[0m in \u001b[0;36m<module>\u001b[0;34m()\u001b[0m\n\u001b[0;32m----> 1\u001b[0;31m \u001b[0mtuple_a\u001b[0m\u001b[0;34m[\u001b[0m\u001b[0;36m1\u001b[0m\u001b[0;34m]\u001b[0m \u001b[0;34m=\u001b[0m \u001b[0;36m100\u001b[0m\u001b[0;34m\u001b[0m\u001b[0;34m\u001b[0m\u001b[0m\n\u001b[0m\u001b[1;32m      2\u001b[0m \u001b[0mtuple_a\u001b[0m\u001b[0;34m\u001b[0m\u001b[0;34m\u001b[0m\u001b[0m\n",
            "\u001b[0;31mTypeError\u001b[0m: 'tuple' object does not support item assignment"
          ]
        }
      ]
    },
    {
      "cell_type": "code",
      "source": [
        "dir(tuple_a)"
      ],
      "metadata": {
        "colab": {
          "base_uri": "https://localhost:8080/"
        },
        "id": "59_8RfqDtZxK",
        "outputId": "b13144d4-a22f-49af-c608-ecc3268cb27b"
      },
      "execution_count": null,
      "outputs": [
        {
          "output_type": "execute_result",
          "data": {
            "text/plain": [
              "['__add__',\n",
              " '__class__',\n",
              " '__contains__',\n",
              " '__delattr__',\n",
              " '__dir__',\n",
              " '__doc__',\n",
              " '__eq__',\n",
              " '__format__',\n",
              " '__ge__',\n",
              " '__getattribute__',\n",
              " '__getitem__',\n",
              " '__getnewargs__',\n",
              " '__gt__',\n",
              " '__hash__',\n",
              " '__init__',\n",
              " '__init_subclass__',\n",
              " '__iter__',\n",
              " '__le__',\n",
              " '__len__',\n",
              " '__lt__',\n",
              " '__mul__',\n",
              " '__ne__',\n",
              " '__new__',\n",
              " '__reduce__',\n",
              " '__reduce_ex__',\n",
              " '__repr__',\n",
              " '__rmul__',\n",
              " '__setattr__',\n",
              " '__sizeof__',\n",
              " '__str__',\n",
              " '__subclasshook__',\n",
              " 'count',\n",
              " 'index']"
            ]
          },
          "metadata": {},
          "execution_count": 37
        }
      ]
    },
    {
      "cell_type": "code",
      "source": [
        "tuple_a = (10, 20, 30)\n",
        "tuple_b = (40, 50, 60)\n",
        "tuple_a + tuple_b"
      ],
      "metadata": {
        "colab": {
          "base_uri": "https://localhost:8080/"
        },
        "id": "9h4YZsn0twTZ",
        "outputId": "f1a739ba-70ad-437c-c4e1-74ffd2f80ded"
      },
      "execution_count": null,
      "outputs": [
        {
          "output_type": "execute_result",
          "data": {
            "text/plain": [
              "(10, 20, 30, 40, 50, 60)"
            ]
          },
          "metadata": {},
          "execution_count": 38
        }
      ]
    },
    {
      "cell_type": "markdown",
      "source": [
        "### Dictionary"
      ],
      "metadata": {
        "id": "MtCJqeOsuQVZ"
      }
    },
    {
      "cell_type": "code",
      "source": [
        "a = {}\n",
        "a = {'class': 'python', 'channel': 'oks', 'env': 'google colab'}\n",
        "a"
      ],
      "metadata": {
        "colab": {
          "base_uri": "https://localhost:8080/"
        },
        "id": "YtJP-iLSuG-T",
        "outputId": "4cdb25da-0809-42bd-996f-7609ac5a5104"
      },
      "execution_count": null,
      "outputs": [
        {
          "output_type": "execute_result",
          "data": {
            "text/plain": [
              "{'channel': 'oks', 'class': 'python', 'env': 'google colab'}"
            ]
          },
          "metadata": {},
          "execution_count": 39
        }
      ]
    },
    {
      "cell_type": "code",
      "source": [
        "a = {\n",
        "      'class': 'python',\n",
        "      'channel': 'oks',\n",
        "      'env': 'google colab'\n",
        "      }\n",
        "a['class']"
      ],
      "metadata": {
        "colab": {
          "base_uri": "https://localhost:8080/",
          "height": 36
        },
        "id": "THhKHMWxuv84",
        "outputId": "e3da75c1-401e-4e26-f0d5-7f20d73b9bdd"
      },
      "execution_count": null,
      "outputs": [
        {
          "output_type": "execute_result",
          "data": {
            "text/plain": [
              "'python'"
            ],
            "application/vnd.google.colaboratory.intrinsic+json": {
              "type": "string"
            }
          },
          "metadata": {},
          "execution_count": 40
        }
      ]
    },
    {
      "cell_type": "code",
      "source": [
        "a.keys()"
      ],
      "metadata": {
        "colab": {
          "base_uri": "https://localhost:8080/"
        },
        "id": "gH2zaUPMvDUo",
        "outputId": "b419ac55-02b7-4261-805f-0417b5159c5e"
      },
      "execution_count": null,
      "outputs": [
        {
          "output_type": "execute_result",
          "data": {
            "text/plain": [
              "dict_keys(['class', 'channel', 'env'])"
            ]
          },
          "metadata": {},
          "execution_count": 41
        }
      ]
    },
    {
      "cell_type": "code",
      "source": [
        "len(a)"
      ],
      "metadata": {
        "colab": {
          "base_uri": "https://localhost:8080/"
        },
        "id": "WT0wqqc3vIGQ",
        "outputId": "de17cfff-7130-48b2-f69c-5e9aa8b3af8f"
      },
      "execution_count": null,
      "outputs": [
        {
          "output_type": "execute_result",
          "data": {
            "text/plain": [
              "3"
            ]
          },
          "metadata": {},
          "execution_count": 42
        }
      ]
    },
    {
      "cell_type": "code",
      "source": [
        "for key in a:\n",
        "  print(a[key])"
      ],
      "metadata": {
        "colab": {
          "base_uri": "https://localhost:8080/"
        },
        "id": "uFOd3qVzvQiH",
        "outputId": "d16fd6e6-7c94-4c1e-d821-fa625d922227"
      },
      "execution_count": null,
      "outputs": [
        {
          "output_type": "stream",
          "name": "stdout",
          "text": [
            "python\n",
            "oks\n",
            "google colab\n"
          ]
        }
      ]
    },
    {
      "cell_type": "code",
      "source": [
        "for key in a:\n",
        "  print(key,'-->', a[key])"
      ],
      "metadata": {
        "colab": {
          "base_uri": "https://localhost:8080/"
        },
        "id": "QS-69ymhvYTn",
        "outputId": "fe91cfdb-7991-4959-e7ae-86282702093b"
      },
      "execution_count": null,
      "outputs": [
        {
          "output_type": "stream",
          "name": "stdout",
          "text": [
            "class --> python\n",
            "channel --> oks\n",
            "env --> google colab\n"
          ]
        }
      ]
    },
    {
      "cell_type": "code",
      "source": [
        "a['class'] = 'programming'\n",
        "a"
      ],
      "metadata": {
        "colab": {
          "base_uri": "https://localhost:8080/"
        },
        "id": "UfdDVJ_pvoUQ",
        "outputId": "295f453c-bf40-4554-ac51-43103f9640d8"
      },
      "execution_count": null,
      "outputs": [
        {
          "output_type": "execute_result",
          "data": {
            "text/plain": [
              "{'channel': 'oks', 'class': 'programming', 'env': 'google colab'}"
            ]
          },
          "metadata": {},
          "execution_count": 46
        }
      ]
    },
    {
      "cell_type": "code",
      "source": [
        "a['jhkfkjyhvfgj']"
      ],
      "metadata": {
        "colab": {
          "base_uri": "https://localhost:8080/",
          "height": 165
        },
        "id": "RIXDDB8Sv1Pv",
        "outputId": "32b083b4-3756-4f9d-8c6c-6c851269f665"
      },
      "execution_count": null,
      "outputs": [
        {
          "output_type": "error",
          "ename": "KeyError",
          "evalue": "ignored",
          "traceback": [
            "\u001b[0;31m---------------------------------------------------------------------------\u001b[0m",
            "\u001b[0;31mKeyError\u001b[0m                                  Traceback (most recent call last)",
            "\u001b[0;32m<ipython-input-48-172e514464a5>\u001b[0m in \u001b[0;36m<module>\u001b[0;34m()\u001b[0m\n\u001b[0;32m----> 1\u001b[0;31m \u001b[0ma\u001b[0m\u001b[0;34m[\u001b[0m\u001b[0;34m'jhkfkjyhvfgj'\u001b[0m\u001b[0;34m]\u001b[0m\u001b[0;34m\u001b[0m\u001b[0;34m\u001b[0m\u001b[0m\n\u001b[0m",
            "\u001b[0;31mKeyError\u001b[0m: 'jhkfkjyhvfgj'"
          ]
        }
      ]
    },
    {
      "cell_type": "code",
      "source": [
        "a.get('jhkfkjyhvfgj')"
      ],
      "metadata": {
        "id": "6xEJ4iwPv6aH"
      },
      "execution_count": null,
      "outputs": []
    },
    {
      "cell_type": "code",
      "source": [
        "a.get('class')"
      ],
      "metadata": {
        "colab": {
          "base_uri": "https://localhost:8080/",
          "height": 36
        },
        "id": "sHuNLmUvwHwI",
        "outputId": "7b7f6c34-1dda-4166-e64e-0907d3316fec"
      },
      "execution_count": null,
      "outputs": [
        {
          "output_type": "execute_result",
          "data": {
            "text/plain": [
              "'programming'"
            ],
            "application/vnd.google.colaboratory.intrinsic+json": {
              "type": "string"
            }
          },
          "metadata": {},
          "execution_count": 50
        }
      ]
    },
    {
      "cell_type": "code",
      "source": [
        "a.get('jhkfkjyhvfgj', 'not_found')"
      ],
      "metadata": {
        "colab": {
          "base_uri": "https://localhost:8080/",
          "height": 36
        },
        "id": "cOZgu3ecwLmP",
        "outputId": "7a529128-5368-4ffd-fa46-e7b5021331be"
      },
      "execution_count": null,
      "outputs": [
        {
          "output_type": "execute_result",
          "data": {
            "text/plain": [
              "'not_found'"
            ],
            "application/vnd.google.colaboratory.intrinsic+json": {
              "type": "string"
            }
          },
          "metadata": {},
          "execution_count": 51
        }
      ]
    },
    {
      "cell_type": "code",
      "source": [
        "a.get('class', 'not_found')"
      ],
      "metadata": {
        "colab": {
          "base_uri": "https://localhost:8080/",
          "height": 36
        },
        "id": "Iyjbvk7DwPT6",
        "outputId": "7cfc5ed6-7f00-4d9b-dfc7-8d4156cde21d"
      },
      "execution_count": null,
      "outputs": [
        {
          "output_type": "execute_result",
          "data": {
            "text/plain": [
              "'programming'"
            ],
            "application/vnd.google.colaboratory.intrinsic+json": {
              "type": "string"
            }
          },
          "metadata": {},
          "execution_count": 54
        }
      ]
    },
    {
      "cell_type": "code",
      "source": [
        "a"
      ],
      "metadata": {
        "colab": {
          "base_uri": "https://localhost:8080/"
        },
        "id": "0S1h23y9wf_Q",
        "outputId": "628dfb62-b46d-4fd3-ddf9-b98272e2f6b5"
      },
      "execution_count": null,
      "outputs": [
        {
          "output_type": "execute_result",
          "data": {
            "text/plain": [
              "{'channel': 'oks', 'class': 'programming', 'env': 'google colab'}"
            ]
          },
          "metadata": {},
          "execution_count": 55
        }
      ]
    },
    {
      "cell_type": "code",
      "source": [
        "a.update({'class': 'python', 'when': 'every weekday'})\n",
        "a"
      ],
      "metadata": {
        "colab": {
          "base_uri": "https://localhost:8080/"
        },
        "id": "DEQqRQstwUin",
        "outputId": "be8bc5d2-fe1c-45fa-cc0d-3284f9d7fbeb"
      },
      "execution_count": null,
      "outputs": [
        {
          "output_type": "execute_result",
          "data": {
            "text/plain": [
              "{'channel': 'oks',\n",
              " 'class': 'python',\n",
              " 'env': 'google colab',\n",
              " 'when': 'every weekday'}"
            ]
          },
          "metadata": {},
          "execution_count": 58
        }
      ]
    },
    {
      "cell_type": "code",
      "source": [
        ""
      ],
      "metadata": {
        "id": "N2MiskERwzuT"
      },
      "execution_count": null,
      "outputs": []
    },
    {
      "cell_type": "markdown",
      "source": [
        "### Sets"
      ],
      "metadata": {
        "id": "wqNT87D3msPQ"
      }
    },
    {
      "cell_type": "code",
      "source": [
        "a = set()"
      ],
      "metadata": {
        "id": "EaJ36guMmvtD"
      },
      "execution_count": null,
      "outputs": []
    },
    {
      "cell_type": "code",
      "source": [
        "a = {1, 2, 3 ,4 ,5}\n",
        "a"
      ],
      "metadata": {
        "colab": {
          "base_uri": "https://localhost:8080/"
        },
        "id": "PUbckzkYmvv0",
        "outputId": "31282f35-816f-42ff-e288-a86af05d9c71"
      },
      "execution_count": null,
      "outputs": [
        {
          "output_type": "execute_result",
          "data": {
            "text/plain": [
              "{1, 2, 3, 4, 5}"
            ]
          },
          "metadata": {},
          "execution_count": 2
        }
      ]
    },
    {
      "cell_type": "code",
      "source": [
        "a = {}\n",
        "a"
      ],
      "metadata": {
        "colab": {
          "base_uri": "https://localhost:8080/"
        },
        "id": "z2zNhKBfmvy5",
        "outputId": "df802eb1-a634-4298-a1fb-3bb463a2cfae"
      },
      "execution_count": null,
      "outputs": [
        {
          "output_type": "execute_result",
          "data": {
            "text/plain": [
              "{}"
            ]
          },
          "metadata": {},
          "execution_count": 3
        }
      ]
    },
    {
      "cell_type": "code",
      "source": [
        "type(a)"
      ],
      "metadata": {
        "colab": {
          "base_uri": "https://localhost:8080/"
        },
        "id": "b_E7dzBemv1m",
        "outputId": "44c73647-092d-4565-e5ab-05b9fb363f6b"
      },
      "execution_count": null,
      "outputs": [
        {
          "output_type": "execute_result",
          "data": {
            "text/plain": [
              "set"
            ]
          },
          "metadata": {},
          "execution_count": 8
        }
      ]
    },
    {
      "cell_type": "code",
      "source": [
        "a = {1, 2, 3 ,4 ,5, 5, 2, 3, 1}\n",
        "a"
      ],
      "metadata": {
        "colab": {
          "base_uri": "https://localhost:8080/"
        },
        "id": "kZp0dlREmv4W",
        "outputId": "a38ecafb-b9fd-411f-fb49-ad068323f252"
      },
      "execution_count": null,
      "outputs": [
        {
          "output_type": "execute_result",
          "data": {
            "text/plain": [
              "{1, 2, 3, 4, 5}"
            ]
          },
          "metadata": {},
          "execution_count": 9
        }
      ]
    },
    {
      "cell_type": "code",
      "source": [
        "a = {1, 2, 3 ,4, 5}\n",
        "b = {3, 4, 5, 'python', 'program', 1000, 200}"
      ],
      "metadata": {
        "id": "Po5ZRSMTmv7S"
      },
      "execution_count": null,
      "outputs": []
    },
    {
      "cell_type": "code",
      "source": [
        "# Intersection\n",
        "\n",
        "a.intersection(b)"
      ],
      "metadata": {
        "colab": {
          "base_uri": "https://localhost:8080/"
        },
        "id": "ksMIpgz-mv91",
        "outputId": "c3be317b-2a9f-463b-9495-3adcce7eb103"
      },
      "execution_count": null,
      "outputs": [
        {
          "output_type": "execute_result",
          "data": {
            "text/plain": [
              "{3, 4, 5}"
            ]
          },
          "metadata": {},
          "execution_count": 12
        }
      ]
    },
    {
      "cell_type": "code",
      "source": [
        "a.union(b)"
      ],
      "metadata": {
        "colab": {
          "base_uri": "https://localhost:8080/"
        },
        "id": "Lblup9kxmwBE",
        "outputId": "9b3f2a12-eb99-4ac0-86bd-cebe41cac8cf"
      },
      "execution_count": null,
      "outputs": [
        {
          "output_type": "execute_result",
          "data": {
            "text/plain": [
              "{1, 1000, 2, 200, 3, 4, 5, 'program', 'python'}"
            ]
          },
          "metadata": {},
          "execution_count": 13
        }
      ]
    },
    {
      "cell_type": "code",
      "source": [
        "len(a)"
      ],
      "metadata": {
        "colab": {
          "base_uri": "https://localhost:8080/"
        },
        "id": "Qs2ASsiZmwDu",
        "outputId": "e9698d3c-5c41-4fa9-833a-3493c74db2f6"
      },
      "execution_count": null,
      "outputs": [
        {
          "output_type": "execute_result",
          "data": {
            "text/plain": [
              "5"
            ]
          },
          "metadata": {},
          "execution_count": 14
        }
      ]
    },
    {
      "cell_type": "code",
      "source": [
        "a = {1, 2, 3 ,4, 5}\n",
        "b = {3, 4, 5, 'python', 'program', 1000, 200}\n",
        "a - b"
      ],
      "metadata": {
        "colab": {
          "base_uri": "https://localhost:8080/"
        },
        "id": "bngF4Y2QmwHG",
        "outputId": "3d13d673-03ff-4287-90a5-7e30bbceca8f"
      },
      "execution_count": null,
      "outputs": [
        {
          "output_type": "execute_result",
          "data": {
            "text/plain": [
              "{1, 2}"
            ]
          },
          "metadata": {},
          "execution_count": 16
        }
      ]
    },
    {
      "cell_type": "code",
      "source": [
        "b - a"
      ],
      "metadata": {
        "colab": {
          "base_uri": "https://localhost:8080/"
        },
        "id": "HOmOCOQ1oD2F",
        "outputId": "eee95119-c2d4-486a-da30-aad773fb9947"
      },
      "execution_count": null,
      "outputs": [
        {
          "output_type": "execute_result",
          "data": {
            "text/plain": [
              "{1000, 200, 'program', 'python'}"
            ]
          },
          "metadata": {},
          "execution_count": 17
        }
      ]
    },
    {
      "cell_type": "code",
      "source": [
        "a = {1, 2, 3 ,4, 5}\n",
        "a.add(10)\n",
        "a"
      ],
      "metadata": {
        "colab": {
          "base_uri": "https://localhost:8080/"
        },
        "id": "Rf71Y-gioEBG",
        "outputId": "3713cf15-39ed-446f-a5f3-a0311a07345b"
      },
      "execution_count": null,
      "outputs": [
        {
          "output_type": "execute_result",
          "data": {
            "text/plain": [
              "{1, 2, 3, 4, 5, 10}"
            ]
          },
          "metadata": {},
          "execution_count": 21
        }
      ]
    },
    {
      "cell_type": "code",
      "source": [
        ""
      ],
      "metadata": {
        "id": "tdl8UMu6oEDi"
      },
      "execution_count": null,
      "outputs": []
    },
    {
      "cell_type": "code",
      "source": [
        ""
      ],
      "metadata": {
        "id": "0krQJo-ooEhV"
      },
      "execution_count": null,
      "outputs": []
    },
    {
      "cell_type": "code",
      "source": [
        ""
      ],
      "metadata": {
        "id": "xCAa-28WoEj-"
      },
      "execution_count": null,
      "outputs": []
    },
    {
      "cell_type": "markdown",
      "source": [
        "## Functions"
      ],
      "metadata": {
        "id": "KTlvgoSUSCwZ"
      }
    },
    {
      "cell_type": "code",
      "source": [
        "def function_name(input_1, input_2):\n",
        "  codeline1\n",
        "  codeline2\n",
        "  codeline3\n",
        "  return output\n",
        "codeline4 is out of scope of function\n",
        "\n",
        "\n",
        "\n",
        "output_of_function = function_name(value_for_input1, value_for_input_2)"
      ],
      "metadata": {
        "id": "3jSCJ48rSFld"
      },
      "execution_count": null,
      "outputs": []
    },
    {
      "cell_type": "code",
      "source": [
        "code1\n",
        "code2\n",
        "code3\n",
        "---\n",
        "\n",
        "--\n",
        "\n",
        "code100\n",
        "code101\n",
        "code102\n",
        "code2\n",
        "code3\n",
        "---\n",
        "---\n",
        "--\n"
      ],
      "metadata": {
        "id": "eY70Tbz0Uvzn"
      },
      "execution_count": null,
      "outputs": []
    },
    {
      "cell_type": "code",
      "source": [
        "def function1():\n",
        "  code2\n",
        "  code3\n",
        "\n",
        "code1\n",
        "function1()\n",
        "---\n",
        "\n",
        "--\n",
        "\n",
        "code100\n",
        "code101\n",
        "code102\n",
        "function1()\n",
        "---\n",
        "---\n",
        "--"
      ],
      "metadata": {
        "id": "1GrbjcI7V2Dt"
      },
      "execution_count": null,
      "outputs": []
    },
    {
      "cell_type": "code",
      "source": [
        "a = 10\n",
        "b = 20\n",
        "\n",
        "for i in range(a, b+1):\n",
        "  if i%2 == 0:\n",
        "    print(i)\n",
        "\n",
        "c = 100\n",
        "d = 120\n",
        "for i in range(c, d+1):\n",
        "  if i%2 == 0:\n",
        "    print(i)"
      ],
      "metadata": {
        "colab": {
          "base_uri": "https://localhost:8080/"
        },
        "id": "4YgfJSqcWL5x",
        "outputId": "47660686-ebcc-43a9-ccd0-25eb17fe8867"
      },
      "execution_count": null,
      "outputs": [
        {
          "output_type": "stream",
          "name": "stdout",
          "text": [
            "10\n",
            "12\n",
            "14\n",
            "16\n",
            "18\n",
            "20\n",
            "100\n",
            "102\n",
            "104\n",
            "106\n",
            "108\n",
            "110\n",
            "112\n",
            "114\n",
            "116\n",
            "118\n",
            "120\n"
          ]
        }
      ]
    },
    {
      "cell_type": "code",
      "source": [
        "def print_even_numbers(input_1, input_2):\n",
        "  for i in range(input_1, input_2+1):\n",
        "    if i%2 == 0:\n",
        "      print(i)\n",
        "\n",
        "a = 10\n",
        "b = 20\n",
        "print_even_numbers(a, b)\n",
        "c = 100\n",
        "d = 120\n",
        "print_even_numbers(c, d)"
      ],
      "metadata": {
        "colab": {
          "base_uri": "https://localhost:8080/"
        },
        "id": "vrBG2mgGWav-",
        "outputId": "b0ad95f0-9fc7-459a-f568-98162765f8bb"
      },
      "execution_count": null,
      "outputs": [
        {
          "output_type": "stream",
          "name": "stdout",
          "text": [
            "10\n",
            "12\n",
            "14\n",
            "16\n",
            "18\n",
            "20\n",
            "100\n",
            "102\n",
            "104\n",
            "106\n",
            "108\n",
            "110\n",
            "112\n",
            "114\n",
            "116\n",
            "118\n",
            "120\n"
          ]
        }
      ]
    },
    {
      "cell_type": "code",
      "source": [
        "# Function without input arguments and no return\n",
        "\n",
        "def hello_world():\n",
        "  print(\"Hello World!!\")\n",
        "  print(\"Welcome to OpenKnowledgeShare!!!\")\n",
        "\n",
        "\n",
        "a = hello_world()\n",
        "print(\"The value of a is\", a)"
      ],
      "metadata": {
        "colab": {
          "base_uri": "https://localhost:8080/"
        },
        "id": "ozXRM3QUXHGm",
        "outputId": "b73c6740-7744-4aa2-9523-77107a87a595"
      },
      "execution_count": null,
      "outputs": [
        {
          "output_type": "stream",
          "name": "stdout",
          "text": [
            "Hello World!!\n",
            "Welcome to OpenKnowledgeShare!!!\n",
            "The value of a is None\n"
          ]
        }
      ]
    },
    {
      "cell_type": "code",
      "source": [
        "# Function without input arguments and have a return value\n",
        "\n",
        "def hello_world():\n",
        "  print(\"Hello World!!\")\n",
        "  print(\"Welcome to OpenKnowledgeShare!!!\")\n",
        "  return 100\n",
        "\n",
        "a = hello_world()\n",
        "print(\"The value of a is\", a)"
      ],
      "metadata": {
        "colab": {
          "base_uri": "https://localhost:8080/"
        },
        "id": "xQZlC2yqXyB9",
        "outputId": "270d683a-5684-48ee-8be2-f50b3a5eed63"
      },
      "execution_count": null,
      "outputs": [
        {
          "output_type": "stream",
          "name": "stdout",
          "text": [
            "Hello World!!\n",
            "Welcome to OpenKnowledgeShare!!!\n",
            "The value of a is 100\n"
          ]
        }
      ]
    },
    {
      "cell_type": "code",
      "source": [
        "def print_even_numbers(input_1, input_2):\n",
        "  for i in range(input_1, input_2+1):\n",
        "    if i%2 == 0:\n",
        "      print(i)\n",
        "print_even_numbers(10, 20)"
      ],
      "metadata": {
        "colab": {
          "base_uri": "https://localhost:8080/"
        },
        "id": "7I98LpiAX_iV",
        "outputId": "fb0512fc-1a18-4fb7-a8f5-6d4c23e72448"
      },
      "execution_count": null,
      "outputs": [
        {
          "output_type": "stream",
          "name": "stdout",
          "text": [
            "10\n",
            "12\n",
            "14\n",
            "16\n",
            "18\n",
            "20\n"
          ]
        }
      ]
    },
    {
      "cell_type": "code",
      "source": [
        "print_even_numbers(10)"
      ],
      "metadata": {
        "colab": {
          "base_uri": "https://localhost:8080/",
          "height": 165
        },
        "id": "tuIAMBX-YRh1",
        "outputId": "a8180463-6fcc-4c9d-91a9-943d95d09e56"
      },
      "execution_count": null,
      "outputs": [
        {
          "output_type": "error",
          "ename": "TypeError",
          "evalue": "ignored",
          "traceback": [
            "\u001b[0;31m---------------------------------------------------------------------------\u001b[0m",
            "\u001b[0;31mTypeError\u001b[0m                                 Traceback (most recent call last)",
            "\u001b[0;32m<ipython-input-13-15da25658228>\u001b[0m in \u001b[0;36m<module>\u001b[0;34m()\u001b[0m\n\u001b[0;32m----> 1\u001b[0;31m \u001b[0mprint_even_numbers\u001b[0m\u001b[0;34m(\u001b[0m\u001b[0;36m10\u001b[0m\u001b[0;34m)\u001b[0m\u001b[0;34m\u001b[0m\u001b[0;34m\u001b[0m\u001b[0m\n\u001b[0m",
            "\u001b[0;31mTypeError\u001b[0m: print_even_numbers() missing 1 required positional argument: 'input_2'"
          ]
        }
      ]
    },
    {
      "cell_type": "code",
      "source": [
        "def add_10_and_print(input_1, input_2):\n",
        "  input_1 = input_1 + 10\n",
        "  input_2 = input_2 + 20\n",
        "  return input_1 + input_2\n",
        "a = 10\n",
        "b = 20\n",
        "output_value = add_10_and_print(a, b)\n",
        "print(\"output Value is \", output_value)\n",
        "print(\"a=\", a)\n",
        "print(\"b=\", b)"
      ],
      "metadata": {
        "colab": {
          "base_uri": "https://localhost:8080/"
        },
        "id": "He1n0tQxd8UI",
        "outputId": "138fdd27-578c-4a4d-bd64-89b25fffc586"
      },
      "execution_count": null,
      "outputs": [
        {
          "output_type": "stream",
          "name": "stdout",
          "text": [
            "output Value is  60\n",
            "a= 10\n",
            "b= 20\n"
          ]
        }
      ]
    },
    {
      "cell_type": "code",
      "source": [
        "def add_10(input_1):\n",
        "  input_1 = input_1 + 10\n",
        "  return input_1\n",
        "a = 10\n",
        "a = add_10(a)\n",
        "print(\"output Value is \", output_value)\n",
        "print(\"a=\", a)"
      ],
      "metadata": {
        "colab": {
          "base_uri": "https://localhost:8080/"
        },
        "id": "MVNqsyv4d8aZ",
        "outputId": "a22652d1-d387-4627-80b2-c3443cab6975"
      },
      "execution_count": null,
      "outputs": [
        {
          "output_type": "stream",
          "name": "stdout",
          "text": [
            "output Value is  60\n",
            "a= 20\n"
          ]
        }
      ]
    },
    {
      "cell_type": "code",
      "source": [
        ""
      ],
      "metadata": {
        "id": "2GvxVSQBd8db"
      },
      "execution_count": null,
      "outputs": []
    },
    {
      "cell_type": "code",
      "source": [
        ""
      ],
      "metadata": {
        "id": "46o6vRAId8go"
      },
      "execution_count": null,
      "outputs": []
    },
    {
      "cell_type": "markdown",
      "source": [
        "Default value in Function"
      ],
      "metadata": {
        "id": "1u7MZ55WYo1j"
      }
    },
    {
      "cell_type": "code",
      "source": [
        "def print_even_numbers_till_30(input_1, input_2=30):\n",
        "  for i in range(input_1, input_2+1):\n",
        "    if i%2 == 0:\n",
        "      print(i)\n",
        "\n",
        "print_even_numbers_till_30(10, 20)"
      ],
      "metadata": {
        "colab": {
          "base_uri": "https://localhost:8080/"
        },
        "id": "WPojmRoJYaEV",
        "outputId": "b596a675-2c1f-422d-88ba-d0e7edb5f3ad"
      },
      "execution_count": null,
      "outputs": [
        {
          "output_type": "stream",
          "name": "stdout",
          "text": [
            "10\n",
            "12\n",
            "14\n",
            "16\n",
            "18\n",
            "20\n"
          ]
        }
      ]
    },
    {
      "cell_type": "code",
      "source": [
        "print_even_numbers_till_30(10)"
      ],
      "metadata": {
        "colab": {
          "base_uri": "https://localhost:8080/"
        },
        "id": "sr7iZQo9YwvY",
        "outputId": "6ba1088a-6617-4cca-8c44-020b473b1319"
      },
      "execution_count": null,
      "outputs": [
        {
          "output_type": "stream",
          "name": "stdout",
          "text": [
            "10\n",
            "12\n",
            "14\n",
            "16\n",
            "18\n",
            "20\n",
            "22\n",
            "24\n",
            "26\n",
            "28\n",
            "30\n"
          ]
        }
      ]
    },
    {
      "cell_type": "markdown",
      "source": [
        "### Keyword Arguments"
      ],
      "metadata": {
        "id": "_fwrD2rbZDun"
      }
    },
    {
      "cell_type": "code",
      "source": [
        "def function_with_keywords(input_1, input_2, **keywords):\n",
        "  print(\"value of input1 is\", input_1)\n",
        "  print(\"value of input2 is\", input_2)\n",
        "  print(\"value of keywords\", keywords)\n",
        "  for kw in keywords:\n",
        "    print(kw, \"--->\", keywords[kw])\n",
        "\n",
        "function_with_keywords(100, 'hello', input_3=200, input_4=400)"
      ],
      "metadata": {
        "colab": {
          "base_uri": "https://localhost:8080/"
        },
        "id": "QT4tysxzY4Jf",
        "outputId": "906abc2a-98ec-4755-9a9b-1cfe2ec3834e"
      },
      "execution_count": null,
      "outputs": [
        {
          "output_type": "stream",
          "name": "stdout",
          "text": [
            "value of input1 is 100\n",
            "value of input2 is hello\n",
            "value of keywords {'input_3': 200, 'input_4': 400}\n",
            "input_3 ---> 200\n",
            "input_4 ---> 400\n"
          ]
        }
      ]
    },
    {
      "cell_type": "markdown",
      "source": [
        "## Single Line If else for loop"
      ],
      "metadata": {
        "id": "lmr9AHDAbw3R"
      }
    },
    {
      "cell_type": "code",
      "source": [
        "input_list = [10, 20, 30, 50, 100]\n",
        "for item in input_list:\n",
        "  if item > 30:\n",
        "    print(item)"
      ],
      "metadata": {
        "colab": {
          "base_uri": "https://localhost:8080/"
        },
        "id": "ym6ruvmXbEEu",
        "outputId": "200cdc0a-a577-48f7-e2f1-4ed2ae135a8c"
      },
      "execution_count": null,
      "outputs": [
        {
          "output_type": "stream",
          "name": "stdout",
          "text": [
            "50\n",
            "100\n"
          ]
        }
      ]
    },
    {
      "cell_type": "code",
      "source": [
        "[print(item) for item in input_list if item > 30]\n"
      ],
      "metadata": {
        "colab": {
          "base_uri": "https://localhost:8080/"
        },
        "id": "DBxZfp-QcQk2",
        "outputId": "0e513573-4a8c-4f1d-c07b-0c6061302266"
      },
      "execution_count": null,
      "outputs": [
        {
          "output_type": "stream",
          "name": "stdout",
          "text": [
            "50\n",
            "100\n"
          ]
        }
      ]
    },
    {
      "cell_type": "code",
      "source": [
        "input_list = [11, 25, 31, 50, 100]\n",
        "output_list = []\n",
        "for item in input_list:\n",
        "  if item%2==0:\n",
        "    output_list.append(item+10)\n",
        "  else:\n",
        "    output_list.append(item+1000)\n",
        "output_list"
      ],
      "metadata": {
        "colab": {
          "base_uri": "https://localhost:8080/"
        },
        "id": "naXpXvv8cZu1",
        "outputId": "7f4ba2f3-45c7-46ec-ffff-c3f34d855b2a"
      },
      "execution_count": null,
      "outputs": [
        {
          "output_type": "execute_result",
          "data": {
            "text/plain": [
              "[1011, 1025, 1031, 60, 110]"
            ]
          },
          "metadata": {},
          "execution_count": 26
        }
      ]
    },
    {
      "cell_type": "code",
      "source": [
        "[item+10 if item%2==0 else item+1000 for item in input_list ]"
      ],
      "metadata": {
        "colab": {
          "base_uri": "https://localhost:8080/"
        },
        "id": "22ZKkY7kc_OV",
        "outputId": "8453a0c6-d373-4b1c-cb40-7eb1c136f730"
      },
      "execution_count": null,
      "outputs": [
        {
          "output_type": "execute_result",
          "data": {
            "text/plain": [
              "[1011, 1025, 1031, 60, 110]"
            ]
          },
          "metadata": {},
          "execution_count": 28
        }
      ]
    },
    {
      "cell_type": "code",
      "source": [
        ""
      ],
      "metadata": {
        "id": "5odJNXFGdaO-"
      },
      "execution_count": null,
      "outputs": []
    },
    {
      "cell_type": "markdown",
      "source": [
        "## Break and Continue"
      ],
      "metadata": {
        "id": "9LxBALaxci36"
      }
    },
    {
      "cell_type": "markdown",
      "source": [
        "### Break"
      ],
      "metadata": {
        "id": "zjlefI-pfFUT"
      }
    },
    {
      "cell_type": "code",
      "source": [
        "while condition:\n",
        "  codeline1\n",
        "  codenline2\n",
        "  if condition2:\n",
        "    break\n",
        "  codeline3\n",
        "  codeline4\n",
        "codeline5\n",
        "codeline6"
      ],
      "metadata": {
        "id": "_JEK7nmycxxj"
      },
      "execution_count": null,
      "outputs": []
    },
    {
      "cell_type": "code",
      "source": [
        "# Infinite Loop\n",
        "i = 0\n",
        "while True:\n",
        "  print(\"The value of i is \", i)\n",
        "  i = i + 1"
      ],
      "metadata": {
        "colab": {
          "base_uri": "https://localhost:8080/",
          "height": 1000
        },
        "id": "hbYfZo--deK5",
        "outputId": "49de37bd-e8c3-4ff2-9f87-8780e616150c"
      },
      "execution_count": null,
      "outputs": [
        {
          "output_type": "stream",
          "name": "stdout",
          "text": [
            "\u001b[1;30;43mStreaming output truncated to the last 5000 lines.\u001b[0m\n",
            "The value of i is  66020\n",
            "The value of i is  66021\n",
            "The value of i is  66022\n",
            "The value of i is  66023\n",
            "The value of i is  66024\n",
            "The value of i is  66025\n",
            "The value of i is  66026\n",
            "The value of i is  66027\n",
            "The value of i is  66028\n",
            "The value of i is  66029\n",
            "The value of i is  66030\n",
            "The value of i is  66031\n",
            "The value of i is  66032\n",
            "The value of i is  66033\n",
            "The value of i is  66034\n",
            "The value of i is  66035\n",
            "The value of i is  66036\n",
            "The value of i is  66037\n",
            "The value of i is  66038\n",
            "The value of i is  66039\n",
            "The value of i is  66040\n",
            "The value of i is  66041\n",
            "The value of i is  66042\n",
            "The value of i is  66043\n",
            "The value of i is  66044\n",
            "The value of i is  66045\n",
            "The value of i is  66046\n",
            "The value of i is  66047\n",
            "The value of i is  66048\n",
            "The value of i is  66049\n",
            "The value of i is  66050\n",
            "The value of i is  66051\n",
            "The value of i is  66052\n",
            "The value of i is  66053\n",
            "The value of i is  66054\n",
            "The value of i is  66055\n",
            "The value of i is  66056\n",
            "The value of i is  66057\n",
            "The value of i is  66058\n",
            "The value of i is  66059\n",
            "The value of i is  66060\n",
            "The value of i is  66061\n",
            "The value of i is  66062\n",
            "The value of i is  66063\n",
            "The value of i is  66064\n",
            "The value of i is  66065\n",
            "The value of i is  66066\n",
            "The value of i is  66067\n",
            "The value of i is  66068\n",
            "The value of i is  66069\n",
            "The value of i is  66070\n",
            "The value of i is  66071\n",
            "The value of i is  66072\n",
            "The value of i is  66073\n",
            "The value of i is  66074\n",
            "The value of i is  66075\n",
            "The value of i is  66076\n",
            "The value of i is  66077\n",
            "The value of i is  66078\n",
            "The value of i is  66079\n",
            "The value of i is  66080\n",
            "The value of i is  66081\n",
            "The value of i is  66082\n",
            "The value of i is  66083\n",
            "The value of i is  66084\n",
            "The value of i is  66085\n",
            "The value of i is  66086\n",
            "The value of i is  66087\n",
            "The value of i is  66088\n",
            "The value of i is  66089\n",
            "The value of i is  66090\n",
            "The value of i is  66091\n",
            "The value of i is  66092\n",
            "The value of i is  66093\n",
            "The value of i is  66094\n",
            "The value of i is  66095\n",
            "The value of i is  66096\n",
            "The value of i is  66097\n",
            "The value of i is  66098\n",
            "The value of i is  66099\n",
            "The value of i is  66100\n",
            "The value of i is  66101\n",
            "The value of i is  66102\n",
            "The value of i is  66103\n",
            "The value of i is  66104\n",
            "The value of i is  66105\n",
            "The value of i is  66106\n",
            "The value of i is  66107\n",
            "The value of i is  66108\n",
            "The value of i is  66109\n",
            "The value of i is  66110\n",
            "The value of i is  66111\n",
            "The value of i is  66112\n",
            "The value of i is  66113\n",
            "The value of i is  66114\n",
            "The value of i is  66115\n",
            "The value of i is  66116\n",
            "The value of i is  66117\n",
            "The value of i is  66118\n",
            "The value of i is  66119\n",
            "The value of i is  66120\n",
            "The value of i is  66121\n",
            "The value of i is  66122\n",
            "The value of i is  66123\n",
            "The value of i is  66124\n",
            "The value of i is  66125\n",
            "The value of i is  66126\n",
            "The value of i is  66127\n",
            "The value of i is  66128\n",
            "The value of i is  66129\n",
            "The value of i is  66130\n",
            "The value of i is  66131\n",
            "The value of i is  66132\n",
            "The value of i is  66133\n",
            "The value of i is  66134\n",
            "The value of i is  66135\n",
            "The value of i is  66136\n",
            "The value of i is  66137\n",
            "The value of i is  66138\n",
            "The value of i is  66139\n",
            "The value of i is  66140\n",
            "The value of i is  66141\n",
            "The value of i is  66142\n",
            "The value of i is  66143\n",
            "The value of i is  66144\n",
            "The value of i is  66145\n",
            "The value of i is  66146\n",
            "The value of i is  66147\n",
            "The value of i is  66148\n",
            "The value of i is  66149\n",
            "The value of i is  66150\n",
            "The value of i is  66151\n",
            "The value of i is  66152\n",
            "The value of i is  66153\n",
            "The value of i is  66154\n",
            "The value of i is  66155\n",
            "The value of i is  66156\n",
            "The value of i is  66157\n",
            "The value of i is  66158\n",
            "The value of i is  66159\n",
            "The value of i is  66160\n",
            "The value of i is  66161\n",
            "The value of i is  66162\n",
            "The value of i is  66163\n",
            "The value of i is  66164\n",
            "The value of i is  66165\n",
            "The value of i is  66166\n",
            "The value of i is  66167\n",
            "The value of i is  66168\n",
            "The value of i is  66169\n",
            "The value of i is  66170\n",
            "The value of i is  66171\n",
            "The value of i is  66172\n",
            "The value of i is  66173\n",
            "The value of i is  66174\n",
            "The value of i is  66175\n",
            "The value of i is  66176\n",
            "The value of i is  66177\n",
            "The value of i is  66178\n",
            "The value of i is  66179\n",
            "The value of i is  66180\n",
            "The value of i is  66181\n",
            "The value of i is  66182\n",
            "The value of i is  66183\n",
            "The value of i is  66184\n",
            "The value of i is  66185\n",
            "The value of i is  66186\n",
            "The value of i is  66187\n",
            "The value of i is  66188\n",
            "The value of i is  66189\n",
            "The value of i is  66190\n",
            "The value of i is  66191\n",
            "The value of i is  66192\n",
            "The value of i is  66193\n",
            "The value of i is  66194\n",
            "The value of i is  66195\n",
            "The value of i is  66196\n",
            "The value of i is  66197\n",
            "The value of i is  66198\n",
            "The value of i is  66199\n",
            "The value of i is  66200\n",
            "The value of i is  66201\n",
            "The value of i is  66202\n",
            "The value of i is  66203\n",
            "The value of i is  66204\n",
            "The value of i is  66205\n",
            "The value of i is  66206\n",
            "The value of i is  66207\n",
            "The value of i is  66208\n",
            "The value of i is  66209\n",
            "The value of i is  66210\n",
            "The value of i is  66211\n",
            "The value of i is  66212\n",
            "The value of i is  66213\n",
            "The value of i is  66214\n",
            "The value of i is  66215\n",
            "The value of i is  66216\n",
            "The value of i is  66217\n",
            "The value of i is  66218\n",
            "The value of i is  66219\n",
            "The value of i is  66220\n",
            "The value of i is  66221\n",
            "The value of i is  66222\n",
            "The value of i is  66223\n",
            "The value of i is  66224\n",
            "The value of i is  66225\n",
            "The value of i is  66226\n",
            "The value of i is  66227\n",
            "The value of i is  66228\n",
            "The value of i is  66229\n",
            "The value of i is  66230\n",
            "The value of i is  66231\n",
            "The value of i is  66232\n",
            "The value of i is  66233\n",
            "The value of i is  66234\n",
            "The value of i is  66235\n",
            "The value of i is  66236\n",
            "The value of i is  66237\n",
            "The value of i is  66238\n",
            "The value of i is  66239\n",
            "The value of i is  66240\n",
            "The value of i is  66241\n",
            "The value of i is  66242\n",
            "The value of i is  66243\n",
            "The value of i is  66244\n",
            "The value of i is  66245\n",
            "The value of i is  66246\n",
            "The value of i is  66247\n",
            "The value of i is  66248\n",
            "The value of i is  66249\n",
            "The value of i is  66250\n",
            "The value of i is  66251\n",
            "The value of i is  66252\n",
            "The value of i is  66253\n",
            "The value of i is  66254\n",
            "The value of i is  66255\n",
            "The value of i is  66256\n",
            "The value of i is  66257\n",
            "The value of i is  66258\n",
            "The value of i is  66259\n",
            "The value of i is  66260\n",
            "The value of i is  66261\n",
            "The value of i is  66262\n",
            "The value of i is  66263\n",
            "The value of i is  66264\n",
            "The value of i is  66265\n",
            "The value of i is  66266\n",
            "The value of i is  66267\n",
            "The value of i is  66268\n",
            "The value of i is  66269\n",
            "The value of i is  66270\n",
            "The value of i is  66271\n",
            "The value of i is  66272\n",
            "The value of i is  66273\n",
            "The value of i is  66274\n",
            "The value of i is  66275\n",
            "The value of i is  66276\n",
            "The value of i is  66277\n",
            "The value of i is  66278\n",
            "The value of i is  66279\n",
            "The value of i is  66280\n",
            "The value of i is  66281\n",
            "The value of i is  66282\n",
            "The value of i is  66283\n",
            "The value of i is  66284\n",
            "The value of i is  66285\n",
            "The value of i is  66286\n",
            "The value of i is  66287\n",
            "The value of i is  66288\n",
            "The value of i is  66289\n",
            "The value of i is  66290\n",
            "The value of i is  66291\n",
            "The value of i is  66292\n",
            "The value of i is  66293\n",
            "The value of i is  66294\n",
            "The value of i is  66295\n",
            "The value of i is  66296\n",
            "The value of i is  66297\n",
            "The value of i is  66298\n",
            "The value of i is  66299\n",
            "The value of i is  66300\n",
            "The value of i is  66301\n",
            "The value of i is  66302\n",
            "The value of i is  66303\n",
            "The value of i is  66304\n",
            "The value of i is  66305\n",
            "The value of i is  66306\n",
            "The value of i is  66307\n",
            "The value of i is  66308\n",
            "The value of i is  66309\n",
            "The value of i is  66310\n",
            "The value of i is  66311\n",
            "The value of i is  66312\n",
            "The value of i is  66313\n",
            "The value of i is  66314\n",
            "The value of i is  66315\n",
            "The value of i is  66316\n",
            "The value of i is  66317\n",
            "The value of i is  66318\n",
            "The value of i is  66319\n",
            "The value of i is  66320\n",
            "The value of i is  66321\n",
            "The value of i is  66322\n",
            "The value of i is  66323\n",
            "The value of i is  66324\n",
            "The value of i is  66325\n",
            "The value of i is  66326\n",
            "The value of i is  66327\n",
            "The value of i is  66328\n",
            "The value of i is  66329\n",
            "The value of i is  66330\n",
            "The value of i is  66331\n",
            "The value of i is  66332\n",
            "The value of i is  66333\n",
            "The value of i is  66334\n",
            "The value of i is  66335\n",
            "The value of i is  66336\n",
            "The value of i is  66337\n",
            "The value of i is  66338\n",
            "The value of i is  66339\n",
            "The value of i is  66340\n",
            "The value of i is  66341\n",
            "The value of i is  66342\n",
            "The value of i is  66343\n",
            "The value of i is  66344\n",
            "The value of i is  66345\n",
            "The value of i is  66346\n",
            "The value of i is  66347\n",
            "The value of i is  66348\n",
            "The value of i is  66349\n",
            "The value of i is  66350\n",
            "The value of i is  66351\n",
            "The value of i is  66352\n",
            "The value of i is  66353\n",
            "The value of i is  66354\n",
            "The value of i is  66355\n",
            "The value of i is  66356\n",
            "The value of i is  66357\n",
            "The value of i is  66358\n",
            "The value of i is  66359\n",
            "The value of i is  66360\n",
            "The value of i is  66361\n",
            "The value of i is  66362\n",
            "The value of i is  66363\n",
            "The value of i is  66364\n",
            "The value of i is  66365\n",
            "The value of i is  66366\n",
            "The value of i is  66367\n",
            "The value of i is  66368\n",
            "The value of i is  66369\n",
            "The value of i is  66370\n",
            "The value of i is  66371\n",
            "The value of i is  66372\n",
            "The value of i is  66373\n",
            "The value of i is  66374\n",
            "The value of i is  66375\n",
            "The value of i is  66376\n",
            "The value of i is  66377\n",
            "The value of i is  66378\n",
            "The value of i is  66379\n",
            "The value of i is  66380\n",
            "The value of i is  66381\n",
            "The value of i is  66382\n",
            "The value of i is  66383\n",
            "The value of i is  66384\n",
            "The value of i is  66385\n",
            "The value of i is  66386\n",
            "The value of i is  66387\n",
            "The value of i is  66388\n",
            "The value of i is  66389\n",
            "The value of i is  66390\n",
            "The value of i is  66391\n",
            "The value of i is  66392\n",
            "The value of i is  66393\n",
            "The value of i is  66394\n",
            "The value of i is  66395\n",
            "The value of i is  66396\n",
            "The value of i is  66397\n",
            "The value of i is  66398\n",
            "The value of i is  66399\n",
            "The value of i is  66400\n",
            "The value of i is  66401\n",
            "The value of i is  66402\n",
            "The value of i is  66403\n",
            "The value of i is  66404\n",
            "The value of i is  66405\n",
            "The value of i is  66406\n",
            "The value of i is  66407\n",
            "The value of i is  66408\n",
            "The value of i is  66409\n",
            "The value of i is  66410\n",
            "The value of i is  66411\n",
            "The value of i is  66412\n",
            "The value of i is  66413\n",
            "The value of i is  66414\n",
            "The value of i is  66415\n",
            "The value of i is  66416\n",
            "The value of i is  66417\n",
            "The value of i is  66418\n",
            "The value of i is  66419\n",
            "The value of i is  66420\n",
            "The value of i is  66421\n",
            "The value of i is  66422\n",
            "The value of i is  66423\n",
            "The value of i is  66424\n",
            "The value of i is  66425\n",
            "The value of i is  66426\n",
            "The value of i is  66427\n",
            "The value of i is  66428\n",
            "The value of i is  66429\n",
            "The value of i is  66430\n",
            "The value of i is  66431\n",
            "The value of i is  66432\n",
            "The value of i is  66433\n",
            "The value of i is  66434\n",
            "The value of i is  66435\n",
            "The value of i is  66436\n",
            "The value of i is  66437\n",
            "The value of i is  66438\n",
            "The value of i is  66439\n",
            "The value of i is  66440\n",
            "The value of i is  66441\n",
            "The value of i is  66442\n",
            "The value of i is  66443\n",
            "The value of i is  66444\n",
            "The value of i is  66445\n",
            "The value of i is  66446\n",
            "The value of i is  66447\n",
            "The value of i is  66448\n",
            "The value of i is  66449\n",
            "The value of i is  66450\n",
            "The value of i is  66451\n",
            "The value of i is  66452\n",
            "The value of i is  66453\n",
            "The value of i is  66454\n",
            "The value of i is  66455\n",
            "The value of i is  66456\n",
            "The value of i is  66457\n",
            "The value of i is  66458\n",
            "The value of i is  66459\n",
            "The value of i is  66460\n",
            "The value of i is  66461\n",
            "The value of i is  66462\n",
            "The value of i is  66463\n",
            "The value of i is  66464\n",
            "The value of i is  66465\n",
            "The value of i is  66466\n",
            "The value of i is  66467\n",
            "The value of i is  66468\n",
            "The value of i is  66469\n",
            "The value of i is  66470\n",
            "The value of i is  66471\n",
            "The value of i is  66472\n",
            "The value of i is  66473\n",
            "The value of i is  66474\n",
            "The value of i is  66475\n",
            "The value of i is  66476\n",
            "The value of i is  66477\n",
            "The value of i is  66478\n",
            "The value of i is  66479\n",
            "The value of i is  66480\n",
            "The value of i is  66481\n",
            "The value of i is  66482\n",
            "The value of i is  66483\n",
            "The value of i is  66484\n",
            "The value of i is  66485\n",
            "The value of i is  66486\n",
            "The value of i is  66487\n",
            "The value of i is  66488\n",
            "The value of i is  66489\n",
            "The value of i is  66490\n",
            "The value of i is  66491\n",
            "The value of i is  66492\n",
            "The value of i is  66493\n",
            "The value of i is  66494\n",
            "The value of i is  66495\n",
            "The value of i is  66496\n",
            "The value of i is  66497\n",
            "The value of i is  66498\n",
            "The value of i is  66499\n",
            "The value of i is  66500\n",
            "The value of i is  66501\n",
            "The value of i is  66502\n",
            "The value of i is  66503\n",
            "The value of i is  66504\n",
            "The value of i is  66505\n",
            "The value of i is  66506\n",
            "The value of i is  66507\n",
            "The value of i is  66508\n",
            "The value of i is  66509\n",
            "The value of i is  66510\n",
            "The value of i is  66511\n",
            "The value of i is  66512\n",
            "The value of i is  66513\n",
            "The value of i is  66514\n",
            "The value of i is  66515\n",
            "The value of i is  66516\n",
            "The value of i is  66517\n",
            "The value of i is  66518\n",
            "The value of i is  66519\n",
            "The value of i is  66520\n",
            "The value of i is  66521\n",
            "The value of i is  66522\n",
            "The value of i is  66523\n",
            "The value of i is  66524\n",
            "The value of i is  66525\n",
            "The value of i is  66526\n",
            "The value of i is  66527\n",
            "The value of i is  66528\n",
            "The value of i is  66529\n",
            "The value of i is  66530\n",
            "The value of i is  66531\n",
            "The value of i is  66532\n",
            "The value of i is  66533\n",
            "The value of i is  66534\n",
            "The value of i is  66535\n",
            "The value of i is  66536\n",
            "The value of i is  66537\n",
            "The value of i is  66538\n",
            "The value of i is  66539\n",
            "The value of i is  66540\n",
            "The value of i is  66541\n",
            "The value of i is  66542\n",
            "The value of i is  66543\n",
            "The value of i is  66544\n",
            "The value of i is  66545\n",
            "The value of i is  66546\n",
            "The value of i is  66547\n",
            "The value of i is  66548\n",
            "The value of i is  66549\n",
            "The value of i is  66550\n",
            "The value of i is  66551\n",
            "The value of i is  66552\n",
            "The value of i is  66553\n",
            "The value of i is  66554\n",
            "The value of i is  66555\n",
            "The value of i is  66556\n",
            "The value of i is  66557\n",
            "The value of i is  66558\n",
            "The value of i is  66559\n",
            "The value of i is  66560\n",
            "The value of i is  66561\n",
            "The value of i is  66562\n",
            "The value of i is  66563\n",
            "The value of i is  66564\n",
            "The value of i is  66565\n",
            "The value of i is  66566\n",
            "The value of i is  66567\n",
            "The value of i is  66568\n",
            "The value of i is  66569\n",
            "The value of i is  66570\n",
            "The value of i is  66571\n",
            "The value of i is  66572\n",
            "The value of i is  66573\n",
            "The value of i is  66574\n",
            "The value of i is  66575\n",
            "The value of i is  66576\n",
            "The value of i is  66577\n",
            "The value of i is  66578\n",
            "The value of i is  66579\n",
            "The value of i is  66580\n",
            "The value of i is  66581\n",
            "The value of i is  66582\n",
            "The value of i is  66583\n",
            "The value of i is  66584\n",
            "The value of i is  66585\n",
            "The value of i is  66586\n",
            "The value of i is  66587\n",
            "The value of i is  66588\n",
            "The value of i is  66589\n",
            "The value of i is  66590\n",
            "The value of i is  66591\n",
            "The value of i is  66592\n",
            "The value of i is  66593\n",
            "The value of i is  66594\n",
            "The value of i is  66595\n",
            "The value of i is  66596\n",
            "The value of i is  66597\n",
            "The value of i is  66598\n",
            "The value of i is  66599\n",
            "The value of i is  66600\n",
            "The value of i is  66601\n",
            "The value of i is  66602\n",
            "The value of i is  66603\n",
            "The value of i is  66604\n",
            "The value of i is  66605\n",
            "The value of i is  66606\n",
            "The value of i is  66607\n",
            "The value of i is  66608\n",
            "The value of i is  66609\n",
            "The value of i is  66610\n",
            "The value of i is  66611\n",
            "The value of i is  66612\n",
            "The value of i is  66613\n",
            "The value of i is  66614\n",
            "The value of i is  66615\n",
            "The value of i is  66616\n",
            "The value of i is  66617\n",
            "The value of i is  66618\n",
            "The value of i is  66619\n",
            "The value of i is  66620\n",
            "The value of i is  66621\n",
            "The value of i is  66622\n",
            "The value of i is  66623\n",
            "The value of i is  66624\n",
            "The value of i is  66625\n",
            "The value of i is  66626\n",
            "The value of i is  66627\n",
            "The value of i is  66628\n",
            "The value of i is  66629\n",
            "The value of i is  66630\n",
            "The value of i is  66631\n",
            "The value of i is  66632\n",
            "The value of i is  66633\n",
            "The value of i is  66634\n",
            "The value of i is  66635\n",
            "The value of i is  66636\n",
            "The value of i is  66637\n",
            "The value of i is  66638\n",
            "The value of i is  66639\n",
            "The value of i is  66640\n",
            "The value of i is  66641\n",
            "The value of i is  66642\n",
            "The value of i is  66643\n",
            "The value of i is  66644\n",
            "The value of i is  66645\n",
            "The value of i is  66646\n",
            "The value of i is  66647\n",
            "The value of i is  66648\n",
            "The value of i is  66649\n",
            "The value of i is  66650\n",
            "The value of i is  66651\n",
            "The value of i is  66652\n",
            "The value of i is  66653\n",
            "The value of i is  66654\n",
            "The value of i is  66655\n",
            "The value of i is  66656\n",
            "The value of i is  66657\n",
            "The value of i is  66658\n",
            "The value of i is  66659\n",
            "The value of i is  66660\n",
            "The value of i is  66661\n",
            "The value of i is  66662\n",
            "The value of i is  66663\n",
            "The value of i is  66664\n",
            "The value of i is  66665\n",
            "The value of i is  66666\n",
            "The value of i is  66667\n",
            "The value of i is  66668\n",
            "The value of i is  66669\n",
            "The value of i is  66670\n",
            "The value of i is  66671\n",
            "The value of i is  66672\n",
            "The value of i is  66673\n",
            "The value of i is  66674\n",
            "The value of i is  66675\n",
            "The value of i is  66676\n",
            "The value of i is  66677\n",
            "The value of i is  66678\n",
            "The value of i is  66679\n",
            "The value of i is  66680\n",
            "The value of i is  66681\n",
            "The value of i is  66682\n",
            "The value of i is  66683\n",
            "The value of i is  66684\n",
            "The value of i is  66685\n",
            "The value of i is  66686\n",
            "The value of i is  66687\n",
            "The value of i is  66688\n",
            "The value of i is  66689\n",
            "The value of i is  66690\n",
            "The value of i is  66691\n",
            "The value of i is  66692\n",
            "The value of i is  66693\n",
            "The value of i is  66694\n",
            "The value of i is  66695\n",
            "The value of i is  66696\n",
            "The value of i is  66697\n",
            "The value of i is  66698\n",
            "The value of i is  66699\n",
            "The value of i is  66700\n",
            "The value of i is  66701\n",
            "The value of i is  66702\n",
            "The value of i is  66703\n",
            "The value of i is  66704\n",
            "The value of i is  66705\n",
            "The value of i is  66706\n",
            "The value of i is  66707\n",
            "The value of i is  66708\n",
            "The value of i is  66709\n",
            "The value of i is  66710\n",
            "The value of i is  66711\n",
            "The value of i is  66712\n",
            "The value of i is  66713\n",
            "The value of i is  66714\n",
            "The value of i is  66715\n",
            "The value of i is  66716\n",
            "The value of i is  66717\n",
            "The value of i is  66718\n",
            "The value of i is  66719\n",
            "The value of i is  66720\n",
            "The value of i is  66721\n",
            "The value of i is  66722\n",
            "The value of i is  66723\n",
            "The value of i is  66724\n",
            "The value of i is  66725\n",
            "The value of i is  66726\n",
            "The value of i is  66727\n",
            "The value of i is  66728\n",
            "The value of i is  66729\n",
            "The value of i is  66730\n",
            "The value of i is  66731\n",
            "The value of i is  66732\n",
            "The value of i is  66733\n",
            "The value of i is  66734\n",
            "The value of i is  66735\n",
            "The value of i is  66736\n",
            "The value of i is  66737\n",
            "The value of i is  66738\n",
            "The value of i is  66739\n",
            "The value of i is  66740\n",
            "The value of i is  66741\n",
            "The value of i is  66742\n",
            "The value of i is  66743\n",
            "The value of i is  66744\n",
            "The value of i is  66745\n",
            "The value of i is  66746\n",
            "The value of i is  66747\n",
            "The value of i is  66748\n",
            "The value of i is  66749\n",
            "The value of i is  66750\n",
            "The value of i is  66751\n",
            "The value of i is  66752\n",
            "The value of i is  66753\n",
            "The value of i is  66754\n",
            "The value of i is  66755\n",
            "The value of i is  66756\n",
            "The value of i is  66757\n",
            "The value of i is  66758\n",
            "The value of i is  66759\n",
            "The value of i is  66760\n",
            "The value of i is  66761\n",
            "The value of i is  66762\n",
            "The value of i is  66763\n",
            "The value of i is  66764\n",
            "The value of i is  66765\n",
            "The value of i is  66766\n",
            "The value of i is  66767\n",
            "The value of i is  66768\n",
            "The value of i is  66769\n",
            "The value of i is  66770\n",
            "The value of i is  66771\n",
            "The value of i is  66772\n",
            "The value of i is  66773\n",
            "The value of i is  66774\n",
            "The value of i is  66775\n",
            "The value of i is  66776\n",
            "The value of i is  66777\n",
            "The value of i is  66778\n",
            "The value of i is  66779\n",
            "The value of i is  66780\n",
            "The value of i is  66781\n",
            "The value of i is  66782\n",
            "The value of i is  66783\n",
            "The value of i is  66784\n",
            "The value of i is  66785\n",
            "The value of i is  66786\n",
            "The value of i is  66787\n",
            "The value of i is  66788\n",
            "The value of i is  66789\n",
            "The value of i is  66790\n",
            "The value of i is  66791\n",
            "The value of i is  66792\n",
            "The value of i is  66793\n",
            "The value of i is  66794\n",
            "The value of i is  66795\n",
            "The value of i is  66796\n",
            "The value of i is  66797\n",
            "The value of i is  66798\n",
            "The value of i is  66799\n",
            "The value of i is  66800\n",
            "The value of i is  66801\n",
            "The value of i is  66802\n",
            "The value of i is  66803\n",
            "The value of i is  66804\n",
            "The value of i is  66805\n",
            "The value of i is  66806\n",
            "The value of i is  66807\n",
            "The value of i is  66808\n",
            "The value of i is  66809\n",
            "The value of i is  66810\n",
            "The value of i is  66811\n",
            "The value of i is  66812\n",
            "The value of i is  66813\n",
            "The value of i is  66814\n",
            "The value of i is  66815\n",
            "The value of i is  66816\n",
            "The value of i is  66817\n",
            "The value of i is  66818\n",
            "The value of i is  66819\n",
            "The value of i is  66820\n",
            "The value of i is  66821\n",
            "The value of i is  66822\n",
            "The value of i is  66823\n",
            "The value of i is  66824\n",
            "The value of i is  66825\n",
            "The value of i is  66826\n",
            "The value of i is  66827\n",
            "The value of i is  66828\n",
            "The value of i is  66829\n",
            "The value of i is  66830\n",
            "The value of i is  66831\n",
            "The value of i is  66832\n",
            "The value of i is  66833\n",
            "The value of i is  66834\n",
            "The value of i is  66835\n",
            "The value of i is  66836\n",
            "The value of i is  66837\n",
            "The value of i is  66838\n",
            "The value of i is  66839\n",
            "The value of i is  66840\n",
            "The value of i is  66841\n",
            "The value of i is  66842\n",
            "The value of i is  66843\n",
            "The value of i is  66844\n",
            "The value of i is  66845\n",
            "The value of i is  66846\n",
            "The value of i is  66847\n",
            "The value of i is  66848\n",
            "The value of i is  66849\n",
            "The value of i is  66850\n",
            "The value of i is  66851\n",
            "The value of i is  66852\n",
            "The value of i is  66853\n",
            "The value of i is  66854\n",
            "The value of i is  66855\n",
            "The value of i is  66856\n",
            "The value of i is  66857\n",
            "The value of i is  66858\n",
            "The value of i is  66859\n",
            "The value of i is  66860\n",
            "The value of i is  66861\n",
            "The value of i is  66862\n",
            "The value of i is  66863\n",
            "The value of i is  66864\n",
            "The value of i is  66865\n",
            "The value of i is  66866\n",
            "The value of i is  66867\n",
            "The value of i is  66868\n",
            "The value of i is  66869\n",
            "The value of i is  66870\n",
            "The value of i is  66871\n",
            "The value of i is  66872\n",
            "The value of i is  66873\n",
            "The value of i is  66874\n",
            "The value of i is  66875\n",
            "The value of i is  66876\n",
            "The value of i is  66877\n",
            "The value of i is  66878\n",
            "The value of i is  66879\n",
            "The value of i is  66880\n",
            "The value of i is  66881\n",
            "The value of i is  66882\n",
            "The value of i is  66883\n",
            "The value of i is  66884\n",
            "The value of i is  66885\n",
            "The value of i is  66886\n",
            "The value of i is  66887\n",
            "The value of i is  66888\n",
            "The value of i is  66889\n",
            "The value of i is  66890\n",
            "The value of i is  66891\n",
            "The value of i is  66892\n",
            "The value of i is  66893\n",
            "The value of i is  66894\n",
            "The value of i is  66895\n",
            "The value of i is  66896\n",
            "The value of i is  66897\n",
            "The value of i is  66898\n",
            "The value of i is  66899\n",
            "The value of i is  66900\n",
            "The value of i is  66901\n",
            "The value of i is  66902\n",
            "The value of i is  66903\n",
            "The value of i is  66904\n",
            "The value of i is  66905\n",
            "The value of i is  66906\n",
            "The value of i is  66907\n",
            "The value of i is  66908\n",
            "The value of i is  66909\n",
            "The value of i is  66910\n",
            "The value of i is  66911\n",
            "The value of i is  66912\n",
            "The value of i is  66913\n",
            "The value of i is  66914\n",
            "The value of i is  66915\n",
            "The value of i is  66916\n",
            "The value of i is  66917\n",
            "The value of i is  66918\n",
            "The value of i is  66919\n",
            "The value of i is  66920\n",
            "The value of i is  66921\n",
            "The value of i is  66922\n",
            "The value of i is  66923\n",
            "The value of i is  66924\n",
            "The value of i is  66925\n",
            "The value of i is  66926\n",
            "The value of i is  66927\n",
            "The value of i is  66928\n",
            "The value of i is  66929\n",
            "The value of i is  66930\n",
            "The value of i is  66931\n",
            "The value of i is  66932\n",
            "The value of i is  66933\n",
            "The value of i is  66934\n",
            "The value of i is  66935\n",
            "The value of i is  66936\n",
            "The value of i is  66937\n",
            "The value of i is  66938\n",
            "The value of i is  66939\n",
            "The value of i is  66940\n",
            "The value of i is  66941\n",
            "The value of i is  66942\n",
            "The value of i is  66943\n",
            "The value of i is  66944\n",
            "The value of i is  66945\n",
            "The value of i is  66946\n",
            "The value of i is  66947\n",
            "The value of i is  66948\n",
            "The value of i is  66949\n",
            "The value of i is  66950\n",
            "The value of i is  66951\n",
            "The value of i is  66952\n",
            "The value of i is  66953\n",
            "The value of i is  66954\n",
            "The value of i is  66955\n",
            "The value of i is  66956\n",
            "The value of i is  66957\n",
            "The value of i is  66958\n",
            "The value of i is  66959\n",
            "The value of i is  66960\n",
            "The value of i is  66961\n",
            "The value of i is  66962\n",
            "The value of i is  66963\n",
            "The value of i is  66964\n",
            "The value of i is  66965\n",
            "The value of i is  66966\n",
            "The value of i is  66967\n",
            "The value of i is  66968\n",
            "The value of i is  66969\n",
            "The value of i is  66970\n",
            "The value of i is  66971\n",
            "The value of i is  66972\n",
            "The value of i is  66973\n",
            "The value of i is  66974\n",
            "The value of i is  66975\n",
            "The value of i is  66976\n",
            "The value of i is  66977\n",
            "The value of i is  66978\n",
            "The value of i is  66979\n",
            "The value of i is  66980\n",
            "The value of i is  66981\n",
            "The value of i is  66982\n",
            "The value of i is  66983\n",
            "The value of i is  66984\n",
            "The value of i is  66985\n",
            "The value of i is  66986\n",
            "The value of i is  66987\n",
            "The value of i is  66988\n",
            "The value of i is  66989\n",
            "The value of i is  66990\n",
            "The value of i is  66991\n",
            "The value of i is  66992\n",
            "The value of i is  66993\n",
            "The value of i is  66994\n",
            "The value of i is  66995\n",
            "The value of i is  66996\n",
            "The value of i is  66997\n",
            "The value of i is  66998\n",
            "The value of i is  66999\n",
            "The value of i is  67000\n",
            "The value of i is  67001\n",
            "The value of i is  67002\n",
            "The value of i is  67003\n",
            "The value of i is  67004\n",
            "The value of i is  67005\n",
            "The value of i is  67006\n",
            "The value of i is  67007\n",
            "The value of i is  67008\n",
            "The value of i is  67009\n",
            "The value of i is  67010\n",
            "The value of i is  67011\n",
            "The value of i is  67012\n",
            "The value of i is  67013\n",
            "The value of i is  67014\n",
            "The value of i is  67015\n",
            "The value of i is  67016\n",
            "The value of i is  67017\n",
            "The value of i is  67018\n",
            "The value of i is  67019\n",
            "The value of i is  67020\n",
            "The value of i is  67021\n",
            "The value of i is  67022\n",
            "The value of i is  67023\n",
            "The value of i is  67024\n",
            "The value of i is  67025\n",
            "The value of i is  67026\n",
            "The value of i is  67027\n",
            "The value of i is  67028\n",
            "The value of i is  67029\n",
            "The value of i is  67030\n",
            "The value of i is  67031\n",
            "The value of i is  67032\n",
            "The value of i is  67033\n",
            "The value of i is  67034\n",
            "The value of i is  67035\n",
            "The value of i is  67036\n",
            "The value of i is  67037\n",
            "The value of i is  67038\n",
            "The value of i is  67039\n",
            "The value of i is  67040\n",
            "The value of i is  67041\n",
            "The value of i is  67042\n",
            "The value of i is  67043\n",
            "The value of i is  67044\n",
            "The value of i is  67045\n",
            "The value of i is  67046\n",
            "The value of i is  67047\n",
            "The value of i is  67048\n",
            "The value of i is  67049\n",
            "The value of i is  67050\n",
            "The value of i is  67051\n",
            "The value of i is  67052\n",
            "The value of i is  67053\n",
            "The value of i is  67054\n",
            "The value of i is  67055\n",
            "The value of i is  67056\n",
            "The value of i is  67057\n",
            "The value of i is  67058\n",
            "The value of i is  67059\n",
            "The value of i is  67060\n",
            "The value of i is  67061\n",
            "The value of i is  67062\n",
            "The value of i is  67063\n",
            "The value of i is  67064\n",
            "The value of i is  67065\n",
            "The value of i is  67066\n",
            "The value of i is  67067\n",
            "The value of i is  67068\n",
            "The value of i is  67069\n",
            "The value of i is  67070\n",
            "The value of i is  67071\n",
            "The value of i is  67072\n",
            "The value of i is  67073\n",
            "The value of i is  67074\n",
            "The value of i is  67075\n",
            "The value of i is  67076\n",
            "The value of i is  67077\n",
            "The value of i is  67078\n",
            "The value of i is  67079\n",
            "The value of i is  67080\n",
            "The value of i is  67081\n",
            "The value of i is  67082\n",
            "The value of i is  67083\n",
            "The value of i is  67084\n",
            "The value of i is  67085\n",
            "The value of i is  67086\n",
            "The value of i is  67087\n",
            "The value of i is  67088\n",
            "The value of i is  67089\n",
            "The value of i is  67090\n",
            "The value of i is  67091\n",
            "The value of i is  67092\n",
            "The value of i is  67093\n",
            "The value of i is  67094\n",
            "The value of i is  67095\n",
            "The value of i is  67096\n",
            "The value of i is  67097\n",
            "The value of i is  67098\n",
            "The value of i is  67099\n",
            "The value of i is  67100\n",
            "The value of i is  67101\n",
            "The value of i is  67102\n",
            "The value of i is  67103\n",
            "The value of i is  67104\n",
            "The value of i is  67105\n",
            "The value of i is  67106\n",
            "The value of i is  67107\n",
            "The value of i is  67108\n",
            "The value of i is  67109\n",
            "The value of i is  67110\n",
            "The value of i is  67111\n",
            "The value of i is  67112\n",
            "The value of i is  67113\n",
            "The value of i is  67114\n",
            "The value of i is  67115\n",
            "The value of i is  67116\n",
            "The value of i is  67117\n",
            "The value of i is  67118\n",
            "The value of i is  67119\n",
            "The value of i is  67120\n",
            "The value of i is  67121\n",
            "The value of i is  67122\n",
            "The value of i is  67123\n",
            "The value of i is  67124\n",
            "The value of i is  67125\n",
            "The value of i is  67126\n",
            "The value of i is  67127\n",
            "The value of i is  67128\n",
            "The value of i is  67129\n",
            "The value of i is  67130\n",
            "The value of i is  67131\n",
            "The value of i is  67132\n",
            "The value of i is  67133\n",
            "The value of i is  67134\n",
            "The value of i is  67135\n",
            "The value of i is  67136\n",
            "The value of i is  67137\n",
            "The value of i is  67138\n",
            "The value of i is  67139\n",
            "The value of i is  67140\n",
            "The value of i is  67141\n",
            "The value of i is  67142\n",
            "The value of i is  67143\n",
            "The value of i is  67144\n",
            "The value of i is  67145\n",
            "The value of i is  67146\n",
            "The value of i is  67147\n",
            "The value of i is  67148\n",
            "The value of i is  67149\n",
            "The value of i is  67150\n",
            "The value of i is  67151\n",
            "The value of i is  67152\n",
            "The value of i is  67153\n",
            "The value of i is  67154\n",
            "The value of i is  67155\n",
            "The value of i is  67156\n",
            "The value of i is  67157\n",
            "The value of i is  67158\n",
            "The value of i is  67159\n",
            "The value of i is  67160\n",
            "The value of i is  67161\n",
            "The value of i is  67162\n",
            "The value of i is  67163\n",
            "The value of i is  67164\n",
            "The value of i is  67165\n",
            "The value of i is  67166\n",
            "The value of i is  67167\n",
            "The value of i is  67168\n",
            "The value of i is  67169\n",
            "The value of i is  67170\n",
            "The value of i is  67171\n",
            "The value of i is  67172\n",
            "The value of i is  67173\n",
            "The value of i is  67174\n",
            "The value of i is  67175\n",
            "The value of i is  67176\n",
            "The value of i is  67177\n",
            "The value of i is  67178\n",
            "The value of i is  67179\n",
            "The value of i is  67180\n",
            "The value of i is  67181\n",
            "The value of i is  67182\n",
            "The value of i is  67183\n",
            "The value of i is  67184\n",
            "The value of i is  67185\n",
            "The value of i is  67186\n",
            "The value of i is  67187\n",
            "The value of i is  67188\n",
            "The value of i is  67189\n",
            "The value of i is  67190\n",
            "The value of i is  67191\n",
            "The value of i is  67192\n",
            "The value of i is  67193\n",
            "The value of i is  67194\n",
            "The value of i is  67195\n",
            "The value of i is  67196\n",
            "The value of i is  67197\n",
            "The value of i is  67198\n",
            "The value of i is  67199\n",
            "The value of i is  67200\n",
            "The value of i is  67201\n",
            "The value of i is  67202\n",
            "The value of i is  67203\n",
            "The value of i is  67204\n",
            "The value of i is  67205\n",
            "The value of i is  67206\n",
            "The value of i is  67207\n",
            "The value of i is  67208\n",
            "The value of i is  67209\n",
            "The value of i is  67210\n",
            "The value of i is  67211\n",
            "The value of i is  67212\n",
            "The value of i is  67213\n",
            "The value of i is  67214\n",
            "The value of i is  67215\n",
            "The value of i is  67216\n",
            "The value of i is  67217\n",
            "The value of i is  67218\n",
            "The value of i is  67219\n",
            "The value of i is  67220\n",
            "The value of i is  67221\n",
            "The value of i is  67222\n",
            "The value of i is  67223\n",
            "The value of i is  67224\n",
            "The value of i is  67225\n",
            "The value of i is  67226\n",
            "The value of i is  67227\n",
            "The value of i is  67228\n",
            "The value of i is  67229\n",
            "The value of i is  67230\n",
            "The value of i is  67231\n",
            "The value of i is  67232\n",
            "The value of i is  67233\n",
            "The value of i is  67234\n",
            "The value of i is  67235\n",
            "The value of i is  67236\n",
            "The value of i is  67237\n",
            "The value of i is  67238\n",
            "The value of i is  67239\n",
            "The value of i is  67240\n",
            "The value of i is  67241\n",
            "The value of i is  67242\n",
            "The value of i is  67243\n",
            "The value of i is  67244\n",
            "The value of i is  67245\n",
            "The value of i is  67246\n",
            "The value of i is  67247\n",
            "The value of i is  67248\n",
            "The value of i is  67249\n",
            "The value of i is  67250\n",
            "The value of i is  67251\n",
            "The value of i is  67252\n",
            "The value of i is  67253\n",
            "The value of i is  67254\n",
            "The value of i is  67255\n",
            "The value of i is  67256\n",
            "The value of i is  67257\n",
            "The value of i is  67258\n",
            "The value of i is  67259\n",
            "The value of i is  67260\n",
            "The value of i is  67261\n",
            "The value of i is  67262\n",
            "The value of i is  67263\n",
            "The value of i is  67264\n",
            "The value of i is  67265\n",
            "The value of i is  67266\n",
            "The value of i is  67267\n",
            "The value of i is  67268\n",
            "The value of i is  67269\n",
            "The value of i is  67270\n",
            "The value of i is  67271\n",
            "The value of i is  67272\n",
            "The value of i is  67273\n",
            "The value of i is  67274\n",
            "The value of i is  67275\n",
            "The value of i is  67276\n",
            "The value of i is  67277\n",
            "The value of i is  67278\n",
            "The value of i is  67279\n",
            "The value of i is  67280\n",
            "The value of i is  67281\n",
            "The value of i is  67282\n",
            "The value of i is  67283\n",
            "The value of i is  67284\n",
            "The value of i is  67285\n",
            "The value of i is  67286\n",
            "The value of i is  67287\n",
            "The value of i is  67288\n",
            "The value of i is  67289\n",
            "The value of i is  67290\n",
            "The value of i is  67291\n",
            "The value of i is  67292\n",
            "The value of i is  67293\n",
            "The value of i is  67294\n",
            "The value of i is  67295\n",
            "The value of i is  67296\n",
            "The value of i is  67297\n",
            "The value of i is  67298\n",
            "The value of i is  67299\n",
            "The value of i is  67300\n",
            "The value of i is  67301\n",
            "The value of i is  67302\n",
            "The value of i is  67303\n",
            "The value of i is  67304\n",
            "The value of i is  67305\n",
            "The value of i is  67306\n",
            "The value of i is  67307\n",
            "The value of i is  67308\n",
            "The value of i is  67309\n",
            "The value of i is  67310\n",
            "The value of i is  67311\n",
            "The value of i is  67312\n",
            "The value of i is  67313\n",
            "The value of i is  67314\n",
            "The value of i is  67315\n",
            "The value of i is  67316\n",
            "The value of i is  67317\n",
            "The value of i is  67318\n",
            "The value of i is  67319\n",
            "The value of i is  67320\n",
            "The value of i is  67321\n",
            "The value of i is  67322\n",
            "The value of i is  67323\n",
            "The value of i is  67324\n",
            "The value of i is  67325\n",
            "The value of i is  67326\n",
            "The value of i is  67327\n",
            "The value of i is  67328\n",
            "The value of i is  67329\n",
            "The value of i is  67330\n",
            "The value of i is  67331\n",
            "The value of i is  67332\n",
            "The value of i is  67333\n",
            "The value of i is  67334\n",
            "The value of i is  67335\n",
            "The value of i is  67336\n",
            "The value of i is  67337\n",
            "The value of i is  67338\n",
            "The value of i is  67339\n",
            "The value of i is  67340\n",
            "The value of i is  67341\n",
            "The value of i is  67342\n",
            "The value of i is  67343\n",
            "The value of i is  67344\n",
            "The value of i is  67345\n",
            "The value of i is  67346\n",
            "The value of i is  67347\n",
            "The value of i is  67348\n",
            "The value of i is  67349\n",
            "The value of i is  67350\n",
            "The value of i is  67351\n",
            "The value of i is  67352\n",
            "The value of i is  67353\n",
            "The value of i is  67354\n",
            "The value of i is  67355\n",
            "The value of i is  67356\n",
            "The value of i is  67357\n",
            "The value of i is  67358\n",
            "The value of i is  67359\n",
            "The value of i is  67360\n",
            "The value of i is  67361\n",
            "The value of i is  67362\n",
            "The value of i is  67363\n",
            "The value of i is  67364\n",
            "The value of i is  67365\n",
            "The value of i is  67366\n",
            "The value of i is  67367\n",
            "The value of i is  67368\n",
            "The value of i is  67369\n",
            "The value of i is  67370\n",
            "The value of i is  67371\n",
            "The value of i is  67372\n",
            "The value of i is  67373\n",
            "The value of i is  67374\n",
            "The value of i is  67375\n",
            "The value of i is  67376\n",
            "The value of i is  67377\n",
            "The value of i is  67378\n",
            "The value of i is  67379\n",
            "The value of i is  67380\n",
            "The value of i is  67381\n",
            "The value of i is  67382\n",
            "The value of i is  67383\n",
            "The value of i is  67384\n",
            "The value of i is  67385\n",
            "The value of i is  67386\n",
            "The value of i is  67387\n",
            "The value of i is  67388\n",
            "The value of i is  67389\n",
            "The value of i is  67390\n",
            "The value of i is  67391\n",
            "The value of i is  67392\n",
            "The value of i is  67393\n",
            "The value of i is  67394\n",
            "The value of i is  67395\n",
            "The value of i is  67396\n",
            "The value of i is  67397\n",
            "The value of i is  67398\n",
            "The value of i is  67399\n",
            "The value of i is  67400\n",
            "The value of i is  67401\n",
            "The value of i is  67402\n",
            "The value of i is  67403\n",
            "The value of i is  67404\n",
            "The value of i is  67405\n",
            "The value of i is  67406\n",
            "The value of i is  67407\n",
            "The value of i is  67408\n",
            "The value of i is  67409\n",
            "The value of i is  67410\n",
            "The value of i is  67411\n",
            "The value of i is  67412\n",
            "The value of i is  67413\n",
            "The value of i is  67414\n",
            "The value of i is  67415\n",
            "The value of i is  67416\n",
            "The value of i is  67417\n",
            "The value of i is  67418\n",
            "The value of i is  67419\n",
            "The value of i is  67420\n",
            "The value of i is  67421\n",
            "The value of i is  67422\n",
            "The value of i is  67423\n",
            "The value of i is  67424\n",
            "The value of i is  67425\n",
            "The value of i is  67426\n",
            "The value of i is  67427\n",
            "The value of i is  67428\n",
            "The value of i is  67429\n",
            "The value of i is  67430\n",
            "The value of i is  67431\n",
            "The value of i is  67432\n",
            "The value of i is  67433\n",
            "The value of i is  67434\n",
            "The value of i is  67435\n",
            "The value of i is  67436\n",
            "The value of i is  67437\n",
            "The value of i is  67438\n",
            "The value of i is  67439\n",
            "The value of i is  67440\n",
            "The value of i is  67441\n",
            "The value of i is  67442\n",
            "The value of i is  67443\n",
            "The value of i is  67444\n",
            "The value of i is  67445\n",
            "The value of i is  67446\n",
            "The value of i is  67447\n",
            "The value of i is  67448\n",
            "The value of i is  67449\n",
            "The value of i is  67450\n",
            "The value of i is  67451\n",
            "The value of i is  67452\n",
            "The value of i is  67453\n",
            "The value of i is  67454\n",
            "The value of i is  67455\n",
            "The value of i is  67456\n",
            "The value of i is  67457\n",
            "The value of i is  67458\n",
            "The value of i is  67459\n",
            "The value of i is  67460\n",
            "The value of i is  67461\n",
            "The value of i is  67462\n",
            "The value of i is  67463\n",
            "The value of i is  67464\n",
            "The value of i is  67465\n",
            "The value of i is  67466\n",
            "The value of i is  67467\n",
            "The value of i is  67468\n",
            "The value of i is  67469\n",
            "The value of i is  67470\n",
            "The value of i is  67471\n",
            "The value of i is  67472\n",
            "The value of i is  67473\n",
            "The value of i is  67474\n",
            "The value of i is  67475\n",
            "The value of i is  67476\n",
            "The value of i is  67477\n",
            "The value of i is  67478\n",
            "The value of i is  67479\n",
            "The value of i is  67480\n",
            "The value of i is  67481\n",
            "The value of i is  67482\n",
            "The value of i is  67483\n",
            "The value of i is  67484\n",
            "The value of i is  67485\n",
            "The value of i is  67486\n",
            "The value of i is  67487\n",
            "The value of i is  67488\n",
            "The value of i is  67489\n",
            "The value of i is  67490\n",
            "The value of i is  67491\n",
            "The value of i is  67492\n",
            "The value of i is  67493\n",
            "The value of i is  67494\n",
            "The value of i is  67495\n",
            "The value of i is  67496\n",
            "The value of i is  67497\n",
            "The value of i is  67498\n",
            "The value of i is  67499\n",
            "The value of i is  67500\n",
            "The value of i is  67501\n",
            "The value of i is  67502\n",
            "The value of i is  67503\n",
            "The value of i is  67504\n",
            "The value of i is  67505\n",
            "The value of i is  67506\n",
            "The value of i is  67507\n",
            "The value of i is  67508\n",
            "The value of i is  67509\n",
            "The value of i is  67510\n",
            "The value of i is  67511\n",
            "The value of i is  67512\n",
            "The value of i is  67513\n",
            "The value of i is  67514\n",
            "The value of i is  67515\n",
            "The value of i is  67516\n",
            "The value of i is  67517\n",
            "The value of i is  67518\n",
            "The value of i is  67519\n",
            "The value of i is  67520\n",
            "The value of i is  67521\n",
            "The value of i is  67522\n",
            "The value of i is  67523\n",
            "The value of i is  67524\n",
            "The value of i is  67525\n",
            "The value of i is  67526\n",
            "The value of i is  67527\n",
            "The value of i is  67528\n",
            "The value of i is  67529\n",
            "The value of i is  67530\n",
            "The value of i is  67531\n",
            "The value of i is  67532\n",
            "The value of i is  67533\n",
            "The value of i is  67534\n",
            "The value of i is  67535\n",
            "The value of i is  67536\n",
            "The value of i is  67537\n",
            "The value of i is  67538\n",
            "The value of i is  67539\n",
            "The value of i is  67540\n",
            "The value of i is  67541\n",
            "The value of i is  67542\n",
            "The value of i is  67543\n",
            "The value of i is  67544\n",
            "The value of i is  67545\n",
            "The value of i is  67546\n",
            "The value of i is  67547\n",
            "The value of i is  67548\n",
            "The value of i is  67549\n",
            "The value of i is  67550\n",
            "The value of i is  67551\n",
            "The value of i is  67552\n",
            "The value of i is  67553\n",
            "The value of i is  67554\n",
            "The value of i is  67555\n",
            "The value of i is  67556\n",
            "The value of i is  67557\n",
            "The value of i is  67558\n",
            "The value of i is  67559\n",
            "The value of i is  67560\n",
            "The value of i is  67561\n",
            "The value of i is  67562\n",
            "The value of i is  67563\n",
            "The value of i is  67564\n",
            "The value of i is  67565\n",
            "The value of i is  67566\n",
            "The value of i is  67567\n",
            "The value of i is  67568\n",
            "The value of i is  67569\n",
            "The value of i is  67570\n",
            "The value of i is  67571\n",
            "The value of i is  67572\n",
            "The value of i is  67573\n",
            "The value of i is  67574\n",
            "The value of i is  67575\n",
            "The value of i is  67576\n",
            "The value of i is  67577\n",
            "The value of i is  67578\n",
            "The value of i is  67579\n",
            "The value of i is  67580\n",
            "The value of i is  67581\n",
            "The value of i is  67582\n",
            "The value of i is  67583\n",
            "The value of i is  67584\n",
            "The value of i is  67585\n",
            "The value of i is  67586\n",
            "The value of i is  67587\n",
            "The value of i is  67588\n",
            "The value of i is  67589\n",
            "The value of i is  67590\n",
            "The value of i is  67591\n",
            "The value of i is  67592\n",
            "The value of i is  67593\n",
            "The value of i is  67594\n",
            "The value of i is  67595\n",
            "The value of i is  67596\n",
            "The value of i is  67597\n",
            "The value of i is  67598\n",
            "The value of i is  67599\n",
            "The value of i is  67600\n",
            "The value of i is  67601\n",
            "The value of i is  67602\n",
            "The value of i is  67603\n",
            "The value of i is  67604\n",
            "The value of i is  67605\n",
            "The value of i is  67606\n",
            "The value of i is  67607\n",
            "The value of i is  67608\n",
            "The value of i is  67609\n",
            "The value of i is  67610\n",
            "The value of i is  67611\n",
            "The value of i is  67612\n",
            "The value of i is  67613\n",
            "The value of i is  67614\n",
            "The value of i is  67615\n",
            "The value of i is  67616\n",
            "The value of i is  67617\n",
            "The value of i is  67618\n",
            "The value of i is  67619\n",
            "The value of i is  67620\n",
            "The value of i is  67621\n",
            "The value of i is  67622\n",
            "The value of i is  67623\n",
            "The value of i is  67624\n",
            "The value of i is  67625\n",
            "The value of i is  67626\n",
            "The value of i is  67627\n",
            "The value of i is  67628\n",
            "The value of i is  67629\n",
            "The value of i is  67630\n",
            "The value of i is  67631\n",
            "The value of i is  67632\n",
            "The value of i is  67633\n",
            "The value of i is  67634\n",
            "The value of i is  67635\n",
            "The value of i is  67636\n",
            "The value of i is  67637\n",
            "The value of i is  67638\n",
            "The value of i is  67639\n",
            "The value of i is  67640\n",
            "The value of i is  67641\n",
            "The value of i is  67642\n",
            "The value of i is  67643\n",
            "The value of i is  67644\n",
            "The value of i is  67645\n",
            "The value of i is  67646\n",
            "The value of i is  67647\n",
            "The value of i is  67648\n",
            "The value of i is  67649\n",
            "The value of i is  67650\n",
            "The value of i is  67651\n",
            "The value of i is  67652\n",
            "The value of i is  67653\n",
            "The value of i is  67654\n",
            "The value of i is  67655\n",
            "The value of i is  67656\n",
            "The value of i is  67657\n",
            "The value of i is  67658\n",
            "The value of i is  67659\n",
            "The value of i is  67660\n",
            "The value of i is  67661\n",
            "The value of i is  67662\n",
            "The value of i is  67663\n",
            "The value of i is  67664\n",
            "The value of i is  67665\n",
            "The value of i is  67666\n",
            "The value of i is  67667\n",
            "The value of i is  67668\n",
            "The value of i is  67669\n",
            "The value of i is  67670\n",
            "The value of i is  67671\n",
            "The value of i is  67672\n",
            "The value of i is  67673\n",
            "The value of i is  67674\n",
            "The value of i is  67675\n",
            "The value of i is  67676\n",
            "The value of i is  67677\n",
            "The value of i is  67678\n",
            "The value of i is  67679\n",
            "The value of i is  67680\n",
            "The value of i is  67681\n",
            "The value of i is  67682\n",
            "The value of i is  67683\n",
            "The value of i is  67684\n",
            "The value of i is  67685\n",
            "The value of i is  67686\n",
            "The value of i is  67687\n",
            "The value of i is  67688\n",
            "The value of i is  67689\n",
            "The value of i is  67690\n",
            "The value of i is  67691\n",
            "The value of i is  67692\n",
            "The value of i is  67693\n",
            "The value of i is  67694\n",
            "The value of i is  67695\n",
            "The value of i is  67696\n",
            "The value of i is  67697\n",
            "The value of i is  67698\n",
            "The value of i is  67699\n",
            "The value of i is  67700\n",
            "The value of i is  67701\n",
            "The value of i is  67702\n",
            "The value of i is  67703\n",
            "The value of i is  67704\n",
            "The value of i is  67705\n",
            "The value of i is  67706\n",
            "The value of i is  67707\n",
            "The value of i is  67708\n",
            "The value of i is  67709\n",
            "The value of i is  67710\n",
            "The value of i is  67711\n",
            "The value of i is  67712\n",
            "The value of i is  67713\n",
            "The value of i is  67714\n",
            "The value of i is  67715\n",
            "The value of i is  67716\n",
            "The value of i is  67717\n",
            "The value of i is  67718\n",
            "The value of i is  67719\n",
            "The value of i is  67720\n",
            "The value of i is  67721\n",
            "The value of i is  67722\n",
            "The value of i is  67723\n",
            "The value of i is  67724\n",
            "The value of i is  67725\n",
            "The value of i is  67726\n",
            "The value of i is  67727\n",
            "The value of i is  67728\n",
            "The value of i is  67729\n",
            "The value of i is  67730\n",
            "The value of i is  67731\n",
            "The value of i is  67732\n",
            "The value of i is  67733\n",
            "The value of i is  67734\n",
            "The value of i is  67735\n",
            "The value of i is  67736\n",
            "The value of i is  67737\n",
            "The value of i is  67738\n",
            "The value of i is  67739\n",
            "The value of i is  67740\n",
            "The value of i is  67741\n",
            "The value of i is  67742\n",
            "The value of i is  67743\n",
            "The value of i is  67744\n",
            "The value of i is  67745\n",
            "The value of i is  67746\n",
            "The value of i is  67747\n",
            "The value of i is  67748\n",
            "The value of i is  67749\n",
            "The value of i is  67750\n",
            "The value of i is  67751\n",
            "The value of i is  67752\n",
            "The value of i is  67753\n",
            "The value of i is  67754\n",
            "The value of i is  67755\n",
            "The value of i is  67756\n",
            "The value of i is  67757\n",
            "The value of i is  67758\n",
            "The value of i is  67759\n",
            "The value of i is  67760\n",
            "The value of i is  67761\n",
            "The value of i is  67762\n",
            "The value of i is  67763\n",
            "The value of i is  67764\n",
            "The value of i is  67765\n",
            "The value of i is  67766\n",
            "The value of i is  67767\n",
            "The value of i is  67768\n",
            "The value of i is  67769\n",
            "The value of i is  67770\n",
            "The value of i is  67771\n",
            "The value of i is  67772\n",
            "The value of i is  67773\n",
            "The value of i is  67774\n",
            "The value of i is  67775\n",
            "The value of i is  67776\n",
            "The value of i is  67777\n",
            "The value of i is  67778\n",
            "The value of i is  67779\n",
            "The value of i is  67780\n",
            "The value of i is  67781\n",
            "The value of i is  67782\n",
            "The value of i is  67783\n",
            "The value of i is  67784\n",
            "The value of i is  67785\n",
            "The value of i is  67786\n",
            "The value of i is  67787\n",
            "The value of i is  67788\n",
            "The value of i is  67789\n",
            "The value of i is  67790\n",
            "The value of i is  67791\n",
            "The value of i is  67792\n",
            "The value of i is  67793\n",
            "The value of i is  67794\n",
            "The value of i is  67795\n",
            "The value of i is  67796\n",
            "The value of i is  67797\n",
            "The value of i is  67798\n",
            "The value of i is  67799\n",
            "The value of i is  67800\n",
            "The value of i is  67801\n",
            "The value of i is  67802\n",
            "The value of i is  67803\n",
            "The value of i is  67804\n",
            "The value of i is  67805\n",
            "The value of i is  67806\n",
            "The value of i is  67807\n",
            "The value of i is  67808\n",
            "The value of i is  67809\n",
            "The value of i is  67810\n",
            "The value of i is  67811\n",
            "The value of i is  67812\n",
            "The value of i is  67813\n",
            "The value of i is  67814\n",
            "The value of i is  67815\n",
            "The value of i is  67816\n",
            "The value of i is  67817\n",
            "The value of i is  67818\n",
            "The value of i is  67819\n",
            "The value of i is  67820\n",
            "The value of i is  67821\n",
            "The value of i is  67822\n",
            "The value of i is  67823\n",
            "The value of i is  67824\n",
            "The value of i is  67825\n",
            "The value of i is  67826\n",
            "The value of i is  67827\n",
            "The value of i is  67828\n",
            "The value of i is  67829\n",
            "The value of i is  67830\n",
            "The value of i is  67831\n",
            "The value of i is  67832\n",
            "The value of i is  67833\n",
            "The value of i is  67834\n",
            "The value of i is  67835\n",
            "The value of i is  67836\n",
            "The value of i is  67837\n",
            "The value of i is  67838\n",
            "The value of i is  67839\n",
            "The value of i is  67840\n",
            "The value of i is  67841\n",
            "The value of i is  67842\n",
            "The value of i is  67843\n",
            "The value of i is  67844\n",
            "The value of i is  67845\n",
            "The value of i is  67846\n",
            "The value of i is  67847\n",
            "The value of i is  67848\n",
            "The value of i is  67849\n",
            "The value of i is  67850\n",
            "The value of i is  67851\n",
            "The value of i is  67852\n",
            "The value of i is  67853\n",
            "The value of i is  67854\n",
            "The value of i is  67855\n",
            "The value of i is  67856\n",
            "The value of i is  67857\n",
            "The value of i is  67858\n",
            "The value of i is  67859\n",
            "The value of i is  67860\n",
            "The value of i is  67861\n",
            "The value of i is  67862\n",
            "The value of i is  67863\n",
            "The value of i is  67864\n",
            "The value of i is  67865\n",
            "The value of i is  67866\n",
            "The value of i is  67867\n",
            "The value of i is  67868\n",
            "The value of i is  67869\n",
            "The value of i is  67870\n",
            "The value of i is  67871\n",
            "The value of i is  67872\n",
            "The value of i is  67873\n",
            "The value of i is  67874\n",
            "The value of i is  67875\n",
            "The value of i is  67876\n",
            "The value of i is  67877\n",
            "The value of i is  67878\n",
            "The value of i is  67879\n",
            "The value of i is  67880\n",
            "The value of i is  67881\n",
            "The value of i is  67882\n",
            "The value of i is  67883\n",
            "The value of i is  67884\n",
            "The value of i is  67885\n",
            "The value of i is  67886\n",
            "The value of i is  67887\n",
            "The value of i is  67888\n",
            "The value of i is  67889\n",
            "The value of i is  67890\n",
            "The value of i is  67891\n",
            "The value of i is  67892\n",
            "The value of i is  67893\n",
            "The value of i is  67894\n",
            "The value of i is  67895\n",
            "The value of i is  67896\n",
            "The value of i is  67897\n",
            "The value of i is  67898\n",
            "The value of i is  67899\n",
            "The value of i is  67900\n",
            "The value of i is  67901\n",
            "The value of i is  67902\n",
            "The value of i is  67903\n",
            "The value of i is  67904\n",
            "The value of i is  67905\n",
            "The value of i is  67906\n",
            "The value of i is  67907\n",
            "The value of i is  67908\n",
            "The value of i is  67909\n",
            "The value of i is  67910\n",
            "The value of i is  67911\n",
            "The value of i is  67912\n",
            "The value of i is  67913\n",
            "The value of i is  67914\n",
            "The value of i is  67915\n",
            "The value of i is  67916\n",
            "The value of i is  67917\n",
            "The value of i is  67918\n",
            "The value of i is  67919\n",
            "The value of i is  67920\n",
            "The value of i is  67921\n",
            "The value of i is  67922\n",
            "The value of i is  67923\n",
            "The value of i is  67924\n",
            "The value of i is  67925\n",
            "The value of i is  67926\n",
            "The value of i is  67927\n",
            "The value of i is  67928\n",
            "The value of i is  67929\n",
            "The value of i is  67930\n",
            "The value of i is  67931\n",
            "The value of i is  67932\n",
            "The value of i is  67933\n",
            "The value of i is  67934\n",
            "The value of i is  67935\n",
            "The value of i is  67936\n",
            "The value of i is  67937\n",
            "The value of i is  67938\n",
            "The value of i is  67939\n",
            "The value of i is  67940\n",
            "The value of i is  67941\n",
            "The value of i is  67942\n",
            "The value of i is  67943\n",
            "The value of i is  67944\n",
            "The value of i is  67945\n",
            "The value of i is  67946\n",
            "The value of i is  67947\n",
            "The value of i is  67948\n",
            "The value of i is  67949\n",
            "The value of i is  67950\n",
            "The value of i is  67951\n",
            "The value of i is  67952\n",
            "The value of i is  67953\n",
            "The value of i is  67954\n",
            "The value of i is  67955\n",
            "The value of i is  67956\n",
            "The value of i is  67957\n",
            "The value of i is  67958\n",
            "The value of i is  67959\n",
            "The value of i is  67960\n",
            "The value of i is  67961\n",
            "The value of i is  67962\n",
            "The value of i is  67963\n",
            "The value of i is  67964\n",
            "The value of i is  67965\n",
            "The value of i is  67966\n",
            "The value of i is  67967\n",
            "The value of i is  67968\n",
            "The value of i is  67969\n",
            "The value of i is  67970\n",
            "The value of i is  67971\n",
            "The value of i is  67972\n",
            "The value of i is  67973\n",
            "The value of i is  67974\n",
            "The value of i is  67975\n",
            "The value of i is  67976\n",
            "The value of i is  67977\n",
            "The value of i is  67978\n",
            "The value of i is  67979\n",
            "The value of i is  67980\n",
            "The value of i is  67981\n",
            "The value of i is  67982\n",
            "The value of i is  67983\n",
            "The value of i is  67984\n",
            "The value of i is  67985\n",
            "The value of i is  67986\n",
            "The value of i is  67987\n",
            "The value of i is  67988\n",
            "The value of i is  67989\n",
            "The value of i is  67990\n",
            "The value of i is  67991\n",
            "The value of i is  67992\n",
            "The value of i is  67993\n",
            "The value of i is  67994\n",
            "The value of i is  67995\n",
            "The value of i is  67996\n",
            "The value of i is  67997\n",
            "The value of i is  67998\n",
            "The value of i is  67999\n",
            "The value of i is  68000\n",
            "The value of i is  68001\n",
            "The value of i is  68002\n",
            "The value of i is  68003\n",
            "The value of i is  68004\n",
            "The value of i is  68005\n",
            "The value of i is  68006\n",
            "The value of i is  68007\n",
            "The value of i is  68008\n",
            "The value of i is  68009\n",
            "The value of i is  68010\n",
            "The value of i is  68011\n",
            "The value of i is  68012\n",
            "The value of i is  68013\n",
            "The value of i is  68014\n",
            "The value of i is  68015\n",
            "The value of i is  68016\n",
            "The value of i is  68017\n",
            "The value of i is  68018\n",
            "The value of i is  68019\n",
            "The value of i is  68020\n",
            "The value of i is  68021\n",
            "The value of i is  68022\n",
            "The value of i is  68023\n",
            "The value of i is  68024\n",
            "The value of i is  68025\n",
            "The value of i is  68026\n",
            "The value of i is  68027\n",
            "The value of i is  68028\n",
            "The value of i is  68029\n",
            "The value of i is  68030\n",
            "The value of i is  68031\n",
            "The value of i is  68032\n",
            "The value of i is  68033\n",
            "The value of i is  68034\n",
            "The value of i is  68035\n",
            "The value of i is  68036\n",
            "The value of i is  68037\n",
            "The value of i is  68038\n",
            "The value of i is  68039\n",
            "The value of i is  68040\n",
            "The value of i is  68041\n",
            "The value of i is  68042\n",
            "The value of i is  68043\n",
            "The value of i is  68044\n",
            "The value of i is  68045\n",
            "The value of i is  68046\n",
            "The value of i is  68047\n",
            "The value of i is  68048\n",
            "The value of i is  68049\n",
            "The value of i is  68050\n",
            "The value of i is  68051\n",
            "The value of i is  68052\n",
            "The value of i is  68053\n",
            "The value of i is  68054\n",
            "The value of i is  68055\n",
            "The value of i is  68056\n",
            "The value of i is  68057\n",
            "The value of i is  68058\n",
            "The value of i is  68059\n",
            "The value of i is  68060\n",
            "The value of i is  68061\n",
            "The value of i is  68062\n",
            "The value of i is  68063\n",
            "The value of i is  68064\n",
            "The value of i is  68065\n",
            "The value of i is  68066\n",
            "The value of i is  68067\n",
            "The value of i is  68068\n",
            "The value of i is  68069\n",
            "The value of i is  68070\n",
            "The value of i is  68071\n",
            "The value of i is  68072\n",
            "The value of i is  68073\n",
            "The value of i is  68074\n",
            "The value of i is  68075\n",
            "The value of i is  68076\n",
            "The value of i is  68077\n",
            "The value of i is  68078\n",
            "The value of i is  68079\n",
            "The value of i is  68080\n",
            "The value of i is  68081\n",
            "The value of i is  68082\n",
            "The value of i is  68083\n",
            "The value of i is  68084\n",
            "The value of i is  68085\n",
            "The value of i is  68086\n",
            "The value of i is  68087\n",
            "The value of i is  68088\n",
            "The value of i is  68089\n",
            "The value of i is  68090\n",
            "The value of i is  68091\n",
            "The value of i is  68092\n",
            "The value of i is  68093\n",
            "The value of i is  68094\n",
            "The value of i is  68095\n",
            "The value of i is  68096\n",
            "The value of i is  68097\n",
            "The value of i is  68098\n",
            "The value of i is  68099\n",
            "The value of i is  68100\n",
            "The value of i is  68101\n",
            "The value of i is  68102\n",
            "The value of i is  68103\n",
            "The value of i is  68104\n",
            "The value of i is  68105\n",
            "The value of i is  68106\n",
            "The value of i is  68107\n",
            "The value of i is  68108\n",
            "The value of i is  68109\n",
            "The value of i is  68110\n",
            "The value of i is  68111\n",
            "The value of i is  68112\n",
            "The value of i is  68113\n",
            "The value of i is  68114\n",
            "The value of i is  68115\n",
            "The value of i is  68116\n",
            "The value of i is  68117\n",
            "The value of i is  68118\n",
            "The value of i is  68119\n",
            "The value of i is  68120\n",
            "The value of i is  68121\n",
            "The value of i is  68122\n",
            "The value of i is  68123\n",
            "The value of i is  68124\n",
            "The value of i is  68125\n",
            "The value of i is  68126\n",
            "The value of i is  68127\n",
            "The value of i is  68128\n",
            "The value of i is  68129\n",
            "The value of i is  68130\n",
            "The value of i is  68131\n",
            "The value of i is  68132\n",
            "The value of i is  68133\n",
            "The value of i is  68134\n",
            "The value of i is  68135\n",
            "The value of i is  68136\n",
            "The value of i is  68137\n",
            "The value of i is  68138\n",
            "The value of i is  68139\n",
            "The value of i is  68140\n",
            "The value of i is  68141\n",
            "The value of i is  68142\n",
            "The value of i is  68143\n",
            "The value of i is  68144\n",
            "The value of i is  68145\n",
            "The value of i is  68146\n",
            "The value of i is  68147\n",
            "The value of i is  68148\n",
            "The value of i is  68149\n",
            "The value of i is  68150\n",
            "The value of i is  68151\n",
            "The value of i is  68152\n",
            "The value of i is  68153\n",
            "The value of i is  68154\n",
            "The value of i is  68155\n",
            "The value of i is  68156\n",
            "The value of i is  68157\n",
            "The value of i is  68158\n",
            "The value of i is  68159\n",
            "The value of i is  68160\n",
            "The value of i is  68161\n",
            "The value of i is  68162\n",
            "The value of i is  68163\n",
            "The value of i is  68164\n",
            "The value of i is  68165\n",
            "The value of i is  68166\n",
            "The value of i is  68167\n",
            "The value of i is  68168\n",
            "The value of i is  68169\n",
            "The value of i is  68170\n",
            "The value of i is  68171\n",
            "The value of i is  68172\n",
            "The value of i is  68173\n",
            "The value of i is  68174\n",
            "The value of i is  68175\n",
            "The value of i is  68176\n",
            "The value of i is  68177\n",
            "The value of i is  68178\n",
            "The value of i is  68179\n",
            "The value of i is  68180\n",
            "The value of i is  68181\n",
            "The value of i is  68182\n",
            "The value of i is  68183\n",
            "The value of i is  68184\n",
            "The value of i is  68185\n",
            "The value of i is  68186\n",
            "The value of i is  68187\n",
            "The value of i is  68188\n",
            "The value of i is  68189\n",
            "The value of i is  68190\n",
            "The value of i is  68191\n",
            "The value of i is  68192\n",
            "The value of i is  68193\n",
            "The value of i is  68194\n",
            "The value of i is  68195\n",
            "The value of i is  68196\n",
            "The value of i is  68197\n",
            "The value of i is  68198\n",
            "The value of i is  68199\n",
            "The value of i is  68200\n",
            "The value of i is  68201\n",
            "The value of i is  68202\n",
            "The value of i is  68203\n",
            "The value of i is  68204\n",
            "The value of i is  68205\n",
            "The value of i is  68206\n",
            "The value of i is  68207\n",
            "The value of i is  68208\n",
            "The value of i is  68209\n",
            "The value of i is  68210\n",
            "The value of i is  68211\n",
            "The value of i is  68212\n",
            "The value of i is  68213\n",
            "The value of i is  68214\n",
            "The value of i is  68215\n",
            "The value of i is  68216\n",
            "The value of i is  68217\n",
            "The value of i is  68218\n",
            "The value of i is  68219\n",
            "The value of i is  68220\n",
            "The value of i is  68221\n",
            "The value of i is  68222\n",
            "The value of i is  68223\n",
            "The value of i is  68224\n",
            "The value of i is  68225\n",
            "The value of i is  68226\n",
            "The value of i is  68227\n",
            "The value of i is  68228\n",
            "The value of i is  68229\n",
            "The value of i is  68230\n",
            "The value of i is  68231\n",
            "The value of i is  68232\n",
            "The value of i is  68233\n",
            "The value of i is  68234\n",
            "The value of i is  68235\n",
            "The value of i is  68236\n",
            "The value of i is  68237\n",
            "The value of i is  68238\n",
            "The value of i is  68239\n",
            "The value of i is  68240\n",
            "The value of i is  68241\n",
            "The value of i is  68242\n",
            "The value of i is  68243\n",
            "The value of i is  68244\n",
            "The value of i is  68245\n",
            "The value of i is  68246\n",
            "The value of i is  68247\n",
            "The value of i is  68248\n",
            "The value of i is  68249\n",
            "The value of i is  68250\n",
            "The value of i is  68251\n",
            "The value of i is  68252\n",
            "The value of i is  68253\n",
            "The value of i is  68254\n",
            "The value of i is  68255\n",
            "The value of i is  68256\n",
            "The value of i is  68257\n",
            "The value of i is  68258\n",
            "The value of i is  68259\n",
            "The value of i is  68260\n",
            "The value of i is  68261\n",
            "The value of i is  68262\n",
            "The value of i is  68263\n",
            "The value of i is  68264\n",
            "The value of i is  68265\n",
            "The value of i is  68266\n",
            "The value of i is  68267\n",
            "The value of i is  68268\n",
            "The value of i is  68269\n",
            "The value of i is  68270\n",
            "The value of i is  68271\n",
            "The value of i is  68272\n",
            "The value of i is  68273\n",
            "The value of i is  68274\n",
            "The value of i is  68275\n",
            "The value of i is  68276\n",
            "The value of i is  68277\n",
            "The value of i is  68278\n",
            "The value of i is  68279\n",
            "The value of i is  68280\n",
            "The value of i is  68281\n",
            "The value of i is  68282\n",
            "The value of i is  68283\n",
            "The value of i is  68284\n",
            "The value of i is  68285\n",
            "The value of i is  68286\n",
            "The value of i is  68287\n",
            "The value of i is  68288\n",
            "The value of i is  68289\n",
            "The value of i is  68290\n",
            "The value of i is  68291\n",
            "The value of i is  68292\n",
            "The value of i is  68293\n",
            "The value of i is  68294\n",
            "The value of i is  68295\n",
            "The value of i is  68296\n",
            "The value of i is  68297\n",
            "The value of i is  68298\n",
            "The value of i is  68299\n",
            "The value of i is  68300\n",
            "The value of i is  68301\n",
            "The value of i is  68302\n",
            "The value of i is  68303\n",
            "The value of i is  68304\n",
            "The value of i is  68305\n",
            "The value of i is  68306\n",
            "The value of i is  68307\n",
            "The value of i is  68308\n",
            "The value of i is  68309\n",
            "The value of i is  68310\n",
            "The value of i is  68311\n",
            "The value of i is  68312\n",
            "The value of i is  68313\n",
            "The value of i is  68314\n",
            "The value of i is  68315\n",
            "The value of i is  68316\n",
            "The value of i is  68317\n",
            "The value of i is  68318\n",
            "The value of i is  68319\n",
            "The value of i is  68320\n",
            "The value of i is  68321\n",
            "The value of i is  68322\n",
            "The value of i is  68323\n",
            "The value of i is  68324\n",
            "The value of i is  68325\n",
            "The value of i is  68326\n",
            "The value of i is  68327\n",
            "The value of i is  68328\n",
            "The value of i is  68329\n",
            "The value of i is  68330\n",
            "The value of i is  68331\n",
            "The value of i is  68332\n",
            "The value of i is  68333\n",
            "The value of i is  68334\n",
            "The value of i is  68335\n",
            "The value of i is  68336\n",
            "The value of i is  68337\n",
            "The value of i is  68338\n",
            "The value of i is  68339\n",
            "The value of i is  68340\n",
            "The value of i is  68341\n",
            "The value of i is  68342\n",
            "The value of i is  68343\n",
            "The value of i is  68344\n",
            "The value of i is  68345\n",
            "The value of i is  68346\n",
            "The value of i is  68347\n",
            "The value of i is  68348\n",
            "The value of i is  68349\n",
            "The value of i is  68350\n",
            "The value of i is  68351\n",
            "The value of i is  68352\n",
            "The value of i is  68353\n",
            "The value of i is  68354\n",
            "The value of i is  68355\n",
            "The value of i is  68356\n",
            "The value of i is  68357\n",
            "The value of i is  68358\n",
            "The value of i is  68359\n",
            "The value of i is  68360\n",
            "The value of i is  68361\n",
            "The value of i is  68362\n",
            "The value of i is  68363\n",
            "The value of i is  68364\n",
            "The value of i is  68365\n",
            "The value of i is  68366\n",
            "The value of i is  68367\n",
            "The value of i is  68368\n",
            "The value of i is  68369\n",
            "The value of i is  68370\n",
            "The value of i is  68371\n",
            "The value of i is  68372\n",
            "The value of i is  68373\n",
            "The value of i is  68374\n",
            "The value of i is  68375\n",
            "The value of i is  68376\n",
            "The value of i is  68377\n",
            "The value of i is  68378\n",
            "The value of i is  68379\n",
            "The value of i is  68380\n",
            "The value of i is  68381\n",
            "The value of i is  68382\n",
            "The value of i is  68383\n",
            "The value of i is  68384\n",
            "The value of i is  68385\n",
            "The value of i is  68386\n",
            "The value of i is  68387\n",
            "The value of i is  68388\n",
            "The value of i is  68389\n",
            "The value of i is  68390\n",
            "The value of i is  68391\n",
            "The value of i is  68392\n",
            "The value of i is  68393\n",
            "The value of i is  68394\n",
            "The value of i is  68395\n",
            "The value of i is  68396\n",
            "The value of i is  68397\n",
            "The value of i is  68398\n",
            "The value of i is  68399\n",
            "The value of i is  68400\n",
            "The value of i is  68401\n",
            "The value of i is  68402\n",
            "The value of i is  68403\n",
            "The value of i is  68404\n",
            "The value of i is  68405\n",
            "The value of i is  68406\n",
            "The value of i is  68407\n",
            "The value of i is  68408\n",
            "The value of i is  68409\n",
            "The value of i is  68410\n",
            "The value of i is  68411\n",
            "The value of i is  68412\n",
            "The value of i is  68413\n",
            "The value of i is  68414\n",
            "The value of i is  68415\n",
            "The value of i is  68416\n",
            "The value of i is  68417\n",
            "The value of i is  68418\n",
            "The value of i is  68419\n",
            "The value of i is  68420\n",
            "The value of i is  68421\n",
            "The value of i is  68422\n",
            "The value of i is  68423\n",
            "The value of i is  68424\n",
            "The value of i is  68425\n",
            "The value of i is  68426\n",
            "The value of i is  68427\n",
            "The value of i is  68428\n",
            "The value of i is  68429\n",
            "The value of i is  68430\n",
            "The value of i is  68431\n",
            "The value of i is  68432\n",
            "The value of i is  68433\n",
            "The value of i is  68434\n",
            "The value of i is  68435\n",
            "The value of i is  68436\n",
            "The value of i is  68437\n",
            "The value of i is  68438\n",
            "The value of i is  68439\n",
            "The value of i is  68440\n",
            "The value of i is  68441\n",
            "The value of i is  68442\n",
            "The value of i is  68443\n",
            "The value of i is  68444\n",
            "The value of i is  68445\n",
            "The value of i is  68446\n",
            "The value of i is  68447\n",
            "The value of i is  68448\n",
            "The value of i is  68449\n",
            "The value of i is  68450\n",
            "The value of i is  68451\n",
            "The value of i is  68452\n",
            "The value of i is  68453\n",
            "The value of i is  68454\n",
            "The value of i is  68455\n",
            "The value of i is  68456\n",
            "The value of i is  68457\n",
            "The value of i is  68458\n",
            "The value of i is  68459\n",
            "The value of i is  68460\n",
            "The value of i is  68461\n",
            "The value of i is  68462\n",
            "The value of i is  68463\n",
            "The value of i is  68464\n",
            "The value of i is  68465\n",
            "The value of i is  68466\n",
            "The value of i is  68467\n",
            "The value of i is  68468\n",
            "The value of i is  68469\n",
            "The value of i is  68470\n",
            "The value of i is  68471\n",
            "The value of i is  68472\n",
            "The value of i is  68473\n",
            "The value of i is  68474\n",
            "The value of i is  68475\n",
            "The value of i is  68476\n",
            "The value of i is  68477\n",
            "The value of i is  68478\n",
            "The value of i is  68479\n",
            "The value of i is  68480\n",
            "The value of i is  68481\n",
            "The value of i is  68482\n",
            "The value of i is  68483\n",
            "The value of i is  68484\n",
            "The value of i is  68485\n",
            "The value of i is  68486\n",
            "The value of i is  68487\n",
            "The value of i is  68488\n",
            "The value of i is  68489\n",
            "The value of i is  68490\n",
            "The value of i is  68491\n",
            "The value of i is  68492\n",
            "The value of i is  68493\n",
            "The value of i is  68494\n",
            "The value of i is  68495\n",
            "The value of i is  68496\n",
            "The value of i is  68497\n",
            "The value of i is  68498\n",
            "The value of i is  68499\n",
            "The value of i is  68500\n",
            "The value of i is  68501\n",
            "The value of i is  68502\n",
            "The value of i is  68503\n",
            "The value of i is  68504\n",
            "The value of i is  68505\n",
            "The value of i is  68506\n",
            "The value of i is  68507\n",
            "The value of i is  68508\n",
            "The value of i is  68509\n",
            "The value of i is  68510\n",
            "The value of i is  68511\n",
            "The value of i is  68512\n",
            "The value of i is  68513\n",
            "The value of i is  68514\n",
            "The value of i is  68515\n",
            "The value of i is  68516\n",
            "The value of i is  68517\n",
            "The value of i is  68518\n",
            "The value of i is  68519\n",
            "The value of i is  68520\n",
            "The value of i is  68521\n",
            "The value of i is  68522\n",
            "The value of i is  68523\n",
            "The value of i is  68524\n",
            "The value of i is  68525\n",
            "The value of i is  68526\n",
            "The value of i is  68527\n",
            "The value of i is  68528\n",
            "The value of i is  68529\n",
            "The value of i is  68530\n",
            "The value of i is  68531\n",
            "The value of i is  68532\n",
            "The value of i is  68533\n",
            "The value of i is  68534\n",
            "The value of i is  68535\n",
            "The value of i is  68536\n",
            "The value of i is  68537\n",
            "The value of i is  68538\n",
            "The value of i is  68539\n",
            "The value of i is  68540\n",
            "The value of i is  68541\n",
            "The value of i is  68542\n",
            "The value of i is  68543\n",
            "The value of i is  68544\n",
            "The value of i is  68545\n",
            "The value of i is  68546\n",
            "The value of i is  68547\n",
            "The value of i is  68548\n",
            "The value of i is  68549\n",
            "The value of i is  68550\n",
            "The value of i is  68551\n",
            "The value of i is  68552\n",
            "The value of i is  68553\n",
            "The value of i is  68554\n",
            "The value of i is  68555\n",
            "The value of i is  68556\n",
            "The value of i is  68557\n",
            "The value of i is  68558\n",
            "The value of i is  68559\n",
            "The value of i is  68560\n",
            "The value of i is  68561\n",
            "The value of i is  68562\n",
            "The value of i is  68563\n",
            "The value of i is  68564\n",
            "The value of i is  68565\n",
            "The value of i is  68566\n",
            "The value of i is  68567\n",
            "The value of i is  68568\n",
            "The value of i is  68569\n",
            "The value of i is  68570\n",
            "The value of i is  68571\n",
            "The value of i is  68572\n",
            "The value of i is  68573\n",
            "The value of i is  68574\n",
            "The value of i is  68575\n",
            "The value of i is  68576\n",
            "The value of i is  68577\n",
            "The value of i is  68578\n",
            "The value of i is  68579\n",
            "The value of i is  68580\n",
            "The value of i is  68581\n",
            "The value of i is  68582\n",
            "The value of i is  68583\n",
            "The value of i is  68584\n",
            "The value of i is  68585\n",
            "The value of i is  68586\n",
            "The value of i is  68587\n",
            "The value of i is  68588\n",
            "The value of i is  68589\n",
            "The value of i is  68590\n",
            "The value of i is  68591\n",
            "The value of i is  68592\n",
            "The value of i is  68593\n",
            "The value of i is  68594\n",
            "The value of i is  68595\n",
            "The value of i is  68596\n",
            "The value of i is  68597\n",
            "The value of i is  68598\n",
            "The value of i is  68599\n",
            "The value of i is  68600\n",
            "The value of i is  68601\n",
            "The value of i is  68602\n",
            "The value of i is  68603\n",
            "The value of i is  68604\n",
            "The value of i is  68605\n",
            "The value of i is  68606\n",
            "The value of i is  68607\n",
            "The value of i is  68608\n",
            "The value of i is  68609\n",
            "The value of i is  68610\n",
            "The value of i is  68611\n",
            "The value of i is  68612\n",
            "The value of i is  68613\n",
            "The value of i is  68614\n",
            "The value of i is  68615\n",
            "The value of i is  68616\n",
            "The value of i is  68617\n",
            "The value of i is  68618\n",
            "The value of i is  68619\n",
            "The value of i is  68620\n",
            "The value of i is  68621\n",
            "The value of i is  68622\n",
            "The value of i is  68623\n",
            "The value of i is  68624\n",
            "The value of i is  68625\n",
            "The value of i is  68626\n",
            "The value of i is  68627\n",
            "The value of i is  68628\n",
            "The value of i is  68629\n",
            "The value of i is  68630\n",
            "The value of i is  68631\n",
            "The value of i is  68632\n",
            "The value of i is  68633\n",
            "The value of i is  68634\n",
            "The value of i is  68635\n",
            "The value of i is  68636\n",
            "The value of i is  68637\n",
            "The value of i is  68638\n",
            "The value of i is  68639\n",
            "The value of i is  68640\n",
            "The value of i is  68641\n",
            "The value of i is  68642\n",
            "The value of i is  68643\n",
            "The value of i is  68644\n",
            "The value of i is  68645\n",
            "The value of i is  68646\n",
            "The value of i is  68647\n",
            "The value of i is  68648\n",
            "The value of i is  68649\n",
            "The value of i is  68650\n",
            "The value of i is  68651\n",
            "The value of i is  68652\n",
            "The value of i is  68653\n",
            "The value of i is  68654\n",
            "The value of i is  68655\n",
            "The value of i is  68656\n",
            "The value of i is  68657\n",
            "The value of i is  68658\n",
            "The value of i is  68659\n",
            "The value of i is  68660\n",
            "The value of i is  68661\n",
            "The value of i is  68662\n",
            "The value of i is  68663\n",
            "The value of i is  68664\n",
            "The value of i is  68665\n",
            "The value of i is  68666\n",
            "The value of i is  68667\n",
            "The value of i is  68668\n",
            "The value of i is  68669\n",
            "The value of i is  68670\n",
            "The value of i is  68671\n",
            "The value of i is  68672\n",
            "The value of i is  68673\n",
            "The value of i is  68674\n",
            "The value of i is  68675\n",
            "The value of i is  68676\n",
            "The value of i is  68677\n",
            "The value of i is  68678\n",
            "The value of i is  68679\n",
            "The value of i is  68680\n",
            "The value of i is  68681\n",
            "The value of i is  68682\n",
            "The value of i is  68683\n",
            "The value of i is  68684\n",
            "The value of i is  68685\n",
            "The value of i is  68686\n",
            "The value of i is  68687\n",
            "The value of i is  68688\n",
            "The value of i is  68689\n",
            "The value of i is  68690\n",
            "The value of i is  68691\n",
            "The value of i is  68692\n",
            "The value of i is  68693\n",
            "The value of i is  68694\n",
            "The value of i is  68695\n",
            "The value of i is  68696\n",
            "The value of i is  68697\n",
            "The value of i is  68698\n",
            "The value of i is  68699\n",
            "The value of i is  68700\n",
            "The value of i is  68701\n",
            "The value of i is  68702\n",
            "The value of i is  68703\n",
            "The value of i is  68704\n",
            "The value of i is  68705\n",
            "The value of i is  68706\n",
            "The value of i is  68707\n",
            "The value of i is  68708\n",
            "The value of i is  68709\n",
            "The value of i is  68710\n",
            "The value of i is  68711\n",
            "The value of i is  68712\n",
            "The value of i is  68713\n",
            "The value of i is  68714\n",
            "The value of i is  68715\n",
            "The value of i is  68716\n",
            "The value of i is  68717\n",
            "The value of i is  68718\n",
            "The value of i is  68719\n",
            "The value of i is  68720\n",
            "The value of i is  68721\n",
            "The value of i is  68722\n",
            "The value of i is  68723\n",
            "The value of i is  68724\n",
            "The value of i is  68725\n",
            "The value of i is  68726\n",
            "The value of i is  68727\n",
            "The value of i is  68728\n",
            "The value of i is  68729\n",
            "The value of i is  68730\n",
            "The value of i is  68731\n",
            "The value of i is  68732\n",
            "The value of i is  68733\n",
            "The value of i is  68734\n",
            "The value of i is  68735\n",
            "The value of i is  68736\n",
            "The value of i is  68737\n",
            "The value of i is  68738\n",
            "The value of i is  68739\n",
            "The value of i is  68740\n",
            "The value of i is  68741\n",
            "The value of i is  68742\n",
            "The value of i is  68743\n",
            "The value of i is  68744\n",
            "The value of i is  68745\n",
            "The value of i is  68746\n",
            "The value of i is  68747\n",
            "The value of i is  68748\n",
            "The value of i is  68749\n",
            "The value of i is  68750\n",
            "The value of i is  68751\n",
            "The value of i is  68752\n",
            "The value of i is  68753\n",
            "The value of i is  68754\n",
            "The value of i is  68755\n",
            "The value of i is  68756\n",
            "The value of i is  68757\n",
            "The value of i is  68758\n",
            "The value of i is  68759\n",
            "The value of i is  68760\n",
            "The value of i is  68761\n",
            "The value of i is  68762\n",
            "The value of i is  68763\n",
            "The value of i is  68764\n",
            "The value of i is  68765\n",
            "The value of i is  68766\n",
            "The value of i is  68767\n",
            "The value of i is  68768\n",
            "The value of i is  68769\n",
            "The value of i is  68770\n",
            "The value of i is  68771\n",
            "The value of i is  68772\n",
            "The value of i is  68773\n",
            "The value of i is  68774\n",
            "The value of i is  68775\n",
            "The value of i is  68776\n",
            "The value of i is  68777\n",
            "The value of i is  68778\n",
            "The value of i is  68779\n",
            "The value of i is  68780\n",
            "The value of i is  68781\n",
            "The value of i is  68782\n",
            "The value of i is  68783\n",
            "The value of i is  68784\n",
            "The value of i is  68785\n",
            "The value of i is  68786\n",
            "The value of i is  68787\n",
            "The value of i is  68788\n",
            "The value of i is  68789\n",
            "The value of i is  68790\n",
            "The value of i is  68791\n",
            "The value of i is  68792\n",
            "The value of i is  68793\n",
            "The value of i is  68794\n",
            "The value of i is  68795\n",
            "The value of i is  68796\n",
            "The value of i is  68797\n",
            "The value of i is  68798\n",
            "The value of i is  68799\n",
            "The value of i is  68800\n",
            "The value of i is  68801\n",
            "The value of i is  68802\n",
            "The value of i is  68803\n",
            "The value of i is  68804\n",
            "The value of i is  68805\n",
            "The value of i is  68806\n",
            "The value of i is  68807\n",
            "The value of i is  68808\n",
            "The value of i is  68809\n",
            "The value of i is  68810\n",
            "The value of i is  68811\n",
            "The value of i is  68812\n",
            "The value of i is  68813\n",
            "The value of i is  68814\n",
            "The value of i is  68815\n",
            "The value of i is  68816\n",
            "The value of i is  68817\n",
            "The value of i is  68818\n",
            "The value of i is  68819\n",
            "The value of i is  68820\n",
            "The value of i is  68821\n",
            "The value of i is  68822\n",
            "The value of i is  68823\n",
            "The value of i is  68824\n",
            "The value of i is  68825\n",
            "The value of i is  68826\n",
            "The value of i is  68827\n",
            "The value of i is  68828\n",
            "The value of i is  68829\n",
            "The value of i is  68830\n",
            "The value of i is  68831\n",
            "The value of i is  68832\n",
            "The value of i is  68833\n",
            "The value of i is  68834\n",
            "The value of i is  68835\n",
            "The value of i is  68836\n",
            "The value of i is  68837\n",
            "The value of i is  68838\n",
            "The value of i is  68839\n",
            "The value of i is  68840\n",
            "The value of i is  68841\n",
            "The value of i is  68842\n",
            "The value of i is  68843\n",
            "The value of i is  68844\n",
            "The value of i is  68845\n",
            "The value of i is  68846\n",
            "The value of i is  68847\n",
            "The value of i is  68848\n",
            "The value of i is  68849\n",
            "The value of i is  68850\n",
            "The value of i is  68851\n",
            "The value of i is  68852\n",
            "The value of i is  68853\n",
            "The value of i is  68854\n",
            "The value of i is  68855\n",
            "The value of i is  68856\n",
            "The value of i is  68857\n",
            "The value of i is  68858\n",
            "The value of i is  68859\n",
            "The value of i is  68860\n",
            "The value of i is  68861\n",
            "The value of i is  68862\n",
            "The value of i is  68863\n",
            "The value of i is  68864\n",
            "The value of i is  68865\n",
            "The value of i is  68866\n",
            "The value of i is  68867\n",
            "The value of i is  68868\n",
            "The value of i is  68869\n",
            "The value of i is  68870\n",
            "The value of i is  68871\n",
            "The value of i is  68872\n",
            "The value of i is  68873\n",
            "The value of i is  68874\n",
            "The value of i is  68875\n",
            "The value of i is  68876\n",
            "The value of i is  68877\n",
            "The value of i is  68878\n",
            "The value of i is  68879\n",
            "The value of i is  68880\n",
            "The value of i is  68881\n",
            "The value of i is  68882\n",
            "The value of i is  68883\n",
            "The value of i is  68884\n",
            "The value of i is  68885\n",
            "The value of i is  68886\n",
            "The value of i is  68887\n",
            "The value of i is  68888\n",
            "The value of i is  68889\n",
            "The value of i is  68890\n",
            "The value of i is  68891\n",
            "The value of i is  68892\n",
            "The value of i is  68893\n",
            "The value of i is  68894\n",
            "The value of i is  68895\n",
            "The value of i is  68896\n",
            "The value of i is  68897\n",
            "The value of i is  68898\n",
            "The value of i is  68899\n",
            "The value of i is  68900\n",
            "The value of i is  68901\n",
            "The value of i is  68902\n",
            "The value of i is  68903\n",
            "The value of i is  68904\n",
            "The value of i is  68905\n",
            "The value of i is  68906\n",
            "The value of i is  68907\n",
            "The value of i is  68908\n",
            "The value of i is  68909\n",
            "The value of i is  68910\n",
            "The value of i is  68911\n",
            "The value of i is  68912\n",
            "The value of i is  68913\n",
            "The value of i is  68914\n",
            "The value of i is  68915\n",
            "The value of i is  68916\n",
            "The value of i is  68917\n",
            "The value of i is  68918\n",
            "The value of i is  68919\n",
            "The value of i is  68920\n",
            "The value of i is  68921\n",
            "The value of i is  68922\n",
            "The value of i is  68923\n",
            "The value of i is  68924\n",
            "The value of i is  68925\n",
            "The value of i is  68926\n",
            "The value of i is  68927\n",
            "The value of i is  68928\n",
            "The value of i is  68929\n",
            "The value of i is  68930\n",
            "The value of i is  68931\n",
            "The value of i is  68932\n",
            "The value of i is  68933\n",
            "The value of i is  68934\n",
            "The value of i is  68935\n",
            "The value of i is  68936\n",
            "The value of i is  68937\n",
            "The value of i is  68938\n",
            "The value of i is  68939\n",
            "The value of i is  68940\n",
            "The value of i is  68941\n",
            "The value of i is  68942\n",
            "The value of i is  68943\n",
            "The value of i is  68944\n",
            "The value of i is  68945\n",
            "The value of i is  68946\n",
            "The value of i is  68947\n",
            "The value of i is  68948\n",
            "The value of i is  68949\n",
            "The value of i is  68950\n",
            "The value of i is  68951\n",
            "The value of i is  68952\n",
            "The value of i is  68953\n",
            "The value of i is  68954\n",
            "The value of i is  68955\n",
            "The value of i is  68956\n",
            "The value of i is  68957\n",
            "The value of i is  68958\n",
            "The value of i is  68959\n",
            "The value of i is  68960\n",
            "The value of i is  68961\n",
            "The value of i is  68962\n",
            "The value of i is  68963\n",
            "The value of i is  68964\n",
            "The value of i is  68965\n",
            "The value of i is  68966\n",
            "The value of i is  68967\n",
            "The value of i is  68968\n",
            "The value of i is  68969\n",
            "The value of i is  68970\n",
            "The value of i is  68971\n",
            "The value of i is  68972\n",
            "The value of i is  68973\n",
            "The value of i is  68974\n",
            "The value of i is  68975\n",
            "The value of i is  68976\n",
            "The value of i is  68977\n",
            "The value of i is  68978\n",
            "The value of i is  68979\n",
            "The value of i is  68980\n",
            "The value of i is  68981\n",
            "The value of i is  68982\n",
            "The value of i is  68983\n",
            "The value of i is  68984\n",
            "The value of i is  68985\n",
            "The value of i is  68986\n",
            "The value of i is  68987\n",
            "The value of i is  68988\n",
            "The value of i is  68989\n",
            "The value of i is  68990\n",
            "The value of i is  68991\n",
            "The value of i is  68992\n",
            "The value of i is  68993\n",
            "The value of i is  68994\n",
            "The value of i is  68995\n",
            "The value of i is  68996\n",
            "The value of i is  68997\n",
            "The value of i is  68998\n",
            "The value of i is  68999\n",
            "The value of i is  69000\n",
            "The value of i is  69001\n",
            "The value of i is  69002\n",
            "The value of i is  69003\n",
            "The value of i is  69004\n",
            "The value of i is  69005\n",
            "The value of i is  69006\n",
            "The value of i is  69007\n",
            "The value of i is  69008\n",
            "The value of i is  69009\n",
            "The value of i is  69010\n",
            "The value of i is  69011\n",
            "The value of i is  69012\n",
            "The value of i is  69013\n",
            "The value of i is  69014\n",
            "The value of i is  69015\n",
            "The value of i is  69016\n",
            "The value of i is  69017\n",
            "The value of i is  69018\n",
            "The value of i is  69019\n",
            "The value of i is  69020\n",
            "The value of i is  69021\n",
            "The value of i is  69022\n",
            "The value of i is  69023\n",
            "The value of i is  69024\n",
            "The value of i is  69025\n",
            "The value of i is  69026\n",
            "The value of i is  69027\n",
            "The value of i is  69028\n",
            "The value of i is  69029\n",
            "The value of i is  69030\n",
            "The value of i is  69031\n",
            "The value of i is  69032\n",
            "The value of i is  69033\n",
            "The value of i is  69034\n",
            "The value of i is  69035\n",
            "The value of i is  69036\n",
            "The value of i is  69037\n",
            "The value of i is  69038\n",
            "The value of i is  69039\n",
            "The value of i is  69040\n",
            "The value of i is  69041\n",
            "The value of i is  69042\n",
            "The value of i is  69043\n",
            "The value of i is  69044\n",
            "The value of i is  69045\n",
            "The value of i is  69046\n",
            "The value of i is  69047\n",
            "The value of i is  69048\n",
            "The value of i is  69049\n",
            "The value of i is  69050\n",
            "The value of i is  69051\n",
            "The value of i is  69052\n",
            "The value of i is  69053\n",
            "The value of i is  69054\n",
            "The value of i is  69055\n",
            "The value of i is  69056\n",
            "The value of i is  69057\n",
            "The value of i is  69058\n",
            "The value of i is  69059\n",
            "The value of i is  69060\n",
            "The value of i is  69061\n",
            "The value of i is  69062\n",
            "The value of i is  69063\n",
            "The value of i is  69064\n",
            "The value of i is  69065\n",
            "The value of i is  69066\n",
            "The value of i is  69067\n",
            "The value of i is  69068\n",
            "The value of i is  69069\n",
            "The value of i is  69070\n",
            "The value of i is  69071\n",
            "The value of i is  69072\n",
            "The value of i is  69073\n",
            "The value of i is  69074\n",
            "The value of i is  69075\n",
            "The value of i is  69076\n",
            "The value of i is  69077\n",
            "The value of i is  69078\n",
            "The value of i is  69079\n",
            "The value of i is  69080\n",
            "The value of i is  69081\n",
            "The value of i is  69082\n",
            "The value of i is  69083\n",
            "The value of i is  69084\n",
            "The value of i is  69085\n",
            "The value of i is  69086\n",
            "The value of i is  69087\n",
            "The value of i is  69088\n",
            "The value of i is  69089\n",
            "The value of i is  69090\n",
            "The value of i is  69091\n",
            "The value of i is  69092\n",
            "The value of i is  69093\n",
            "The value of i is  69094\n",
            "The value of i is  69095\n",
            "The value of i is  69096\n",
            "The value of i is  69097\n",
            "The value of i is  69098\n",
            "The value of i is  69099\n",
            "The value of i is  69100\n",
            "The value of i is  69101\n",
            "The value of i is  69102\n",
            "The value of i is  69103\n",
            "The value of i is  69104\n",
            "The value of i is  69105\n",
            "The value of i is  69106\n",
            "The value of i is  69107\n",
            "The value of i is  69108\n",
            "The value of i is  69109\n",
            "The value of i is  69110\n",
            "The value of i is  69111\n",
            "The value of i is  69112\n",
            "The value of i is  69113\n",
            "The value of i is  69114\n",
            "The value of i is  69115\n",
            "The value of i is  69116\n",
            "The value of i is  69117\n",
            "The value of i is  69118\n",
            "The value of i is  69119\n",
            "The value of i is  69120\n",
            "The value of i is  69121\n",
            "The value of i is  69122\n",
            "The value of i is  69123\n",
            "The value of i is  69124\n",
            "The value of i is  69125\n",
            "The value of i is  69126\n",
            "The value of i is  69127\n",
            "The value of i is  69128\n",
            "The value of i is  69129\n",
            "The value of i is  69130\n",
            "The value of i is  69131\n",
            "The value of i is  69132\n",
            "The value of i is  69133\n",
            "The value of i is  69134\n",
            "The value of i is  69135\n",
            "The value of i is  69136\n",
            "The value of i is  69137\n",
            "The value of i is  69138\n",
            "The value of i is  69139\n",
            "The value of i is  69140\n",
            "The value of i is  69141\n",
            "The value of i is  69142\n",
            "The value of i is  69143\n",
            "The value of i is  69144\n",
            "The value of i is  69145\n",
            "The value of i is  69146\n",
            "The value of i is  69147\n",
            "The value of i is  69148\n",
            "The value of i is  69149\n",
            "The value of i is  69150\n",
            "The value of i is  69151\n",
            "The value of i is  69152\n",
            "The value of i is  69153\n",
            "The value of i is  69154\n",
            "The value of i is  69155\n",
            "The value of i is  69156\n",
            "The value of i is  69157\n",
            "The value of i is  69158\n",
            "The value of i is  69159\n",
            "The value of i is  69160\n",
            "The value of i is  69161\n",
            "The value of i is  69162\n",
            "The value of i is  69163\n",
            "The value of i is  69164\n",
            "The value of i is  69165\n",
            "The value of i is  69166\n",
            "The value of i is  69167\n",
            "The value of i is  69168\n",
            "The value of i is  69169\n",
            "The value of i is  69170\n",
            "The value of i is  69171\n",
            "The value of i is  69172\n",
            "The value of i is  69173\n",
            "The value of i is  69174\n",
            "The value of i is  69175\n",
            "The value of i is  69176\n",
            "The value of i is  69177\n",
            "The value of i is  69178\n",
            "The value of i is  69179\n",
            "The value of i is  69180\n",
            "The value of i is  69181\n",
            "The value of i is  69182\n",
            "The value of i is  69183\n",
            "The value of i is  69184\n",
            "The value of i is  69185\n",
            "The value of i is  69186\n",
            "The value of i is  69187\n",
            "The value of i is  69188\n",
            "The value of i is  69189\n",
            "The value of i is  69190\n",
            "The value of i is  69191\n",
            "The value of i is  69192\n",
            "The value of i is  69193\n",
            "The value of i is  69194\n",
            "The value of i is  69195\n",
            "The value of i is  69196\n",
            "The value of i is  69197\n",
            "The value of i is  69198\n",
            "The value of i is  69199\n",
            "The value of i is  69200\n",
            "The value of i is  69201\n",
            "The value of i is  69202\n",
            "The value of i is  69203\n",
            "The value of i is  69204\n",
            "The value of i is  69205\n",
            "The value of i is  69206\n",
            "The value of i is  69207\n",
            "The value of i is  69208\n",
            "The value of i is  69209\n",
            "The value of i is  69210\n",
            "The value of i is  69211\n",
            "The value of i is  69212\n",
            "The value of i is  69213\n",
            "The value of i is  69214\n",
            "The value of i is  69215\n",
            "The value of i is  69216\n",
            "The value of i is  69217\n",
            "The value of i is  69218\n",
            "The value of i is  69219\n",
            "The value of i is  69220\n",
            "The value of i is  69221\n",
            "The value of i is  69222\n",
            "The value of i is  69223\n",
            "The value of i is  69224\n",
            "The value of i is  69225\n",
            "The value of i is  69226\n",
            "The value of i is  69227\n",
            "The value of i is  69228\n",
            "The value of i is  69229\n",
            "The value of i is  69230\n",
            "The value of i is  69231\n",
            "The value of i is  69232\n",
            "The value of i is  69233\n",
            "The value of i is  69234\n",
            "The value of i is  69235\n",
            "The value of i is  69236\n",
            "The value of i is  69237\n",
            "The value of i is  69238\n",
            "The value of i is  69239\n",
            "The value of i is  69240\n",
            "The value of i is  69241\n",
            "The value of i is  69242\n",
            "The value of i is  69243\n",
            "The value of i is  69244\n",
            "The value of i is  69245\n",
            "The value of i is  69246\n",
            "The value of i is  69247\n",
            "The value of i is  69248\n",
            "The value of i is  69249\n",
            "The value of i is  69250\n",
            "The value of i is  69251\n",
            "The value of i is  69252\n",
            "The value of i is  69253\n",
            "The value of i is  69254\n",
            "The value of i is  69255\n",
            "The value of i is  69256\n",
            "The value of i is  69257\n",
            "The value of i is  69258\n",
            "The value of i is  69259\n",
            "The value of i is  69260\n",
            "The value of i is  69261\n",
            "The value of i is  69262\n",
            "The value of i is  69263\n",
            "The value of i is  69264\n",
            "The value of i is  69265\n",
            "The value of i is  69266\n",
            "The value of i is  69267\n",
            "The value of i is  69268\n",
            "The value of i is  69269\n",
            "The value of i is  69270\n",
            "The value of i is  69271\n",
            "The value of i is  69272\n",
            "The value of i is  69273\n",
            "The value of i is  69274\n",
            "The value of i is  69275\n",
            "The value of i is  69276\n",
            "The value of i is  69277\n",
            "The value of i is  69278\n",
            "The value of i is  69279\n",
            "The value of i is  69280\n",
            "The value of i is  69281\n",
            "The value of i is  69282\n",
            "The value of i is  69283\n",
            "The value of i is  69284\n",
            "The value of i is  69285\n",
            "The value of i is  69286\n",
            "The value of i is  69287\n",
            "The value of i is  69288\n",
            "The value of i is  69289\n",
            "The value of i is  69290\n",
            "The value of i is  69291\n",
            "The value of i is  69292\n",
            "The value of i is  69293\n",
            "The value of i is  69294\n",
            "The value of i is  69295\n",
            "The value of i is  69296\n",
            "The value of i is  69297\n",
            "The value of i is  69298\n",
            "The value of i is  69299\n",
            "The value of i is  69300\n",
            "The value of i is  69301\n",
            "The value of i is  69302\n",
            "The value of i is  69303\n",
            "The value of i is  69304\n",
            "The value of i is  69305\n",
            "The value of i is  69306\n",
            "The value of i is  69307\n",
            "The value of i is  69308\n",
            "The value of i is  69309\n",
            "The value of i is  69310\n",
            "The value of i is  69311\n",
            "The value of i is  69312\n",
            "The value of i is  69313\n",
            "The value of i is  69314\n",
            "The value of i is  69315\n",
            "The value of i is  69316\n",
            "The value of i is  69317\n",
            "The value of i is  69318\n",
            "The value of i is  69319\n",
            "The value of i is  69320\n",
            "The value of i is  69321\n",
            "The value of i is  69322\n",
            "The value of i is  69323\n",
            "The value of i is  69324\n",
            "The value of i is  69325\n",
            "The value of i is  69326\n",
            "The value of i is  69327\n",
            "The value of i is  69328\n",
            "The value of i is  69329\n",
            "The value of i is  69330\n",
            "The value of i is  69331\n",
            "The value of i is  69332\n",
            "The value of i is  69333\n",
            "The value of i is  69334\n",
            "The value of i is  69335\n",
            "The value of i is  69336\n",
            "The value of i is  69337\n",
            "The value of i is  69338\n",
            "The value of i is  69339\n",
            "The value of i is  69340\n",
            "The value of i is  69341\n",
            "The value of i is  69342\n",
            "The value of i is  69343\n",
            "The value of i is  69344\n",
            "The value of i is  69345\n",
            "The value of i is  69346\n",
            "The value of i is  69347\n",
            "The value of i is  69348\n",
            "The value of i is  69349\n",
            "The value of i is  69350\n",
            "The value of i is  69351\n",
            "The value of i is  69352\n",
            "The value of i is  69353\n",
            "The value of i is  69354\n",
            "The value of i is  69355\n",
            "The value of i is  69356\n",
            "The value of i is  69357\n",
            "The value of i is  69358\n",
            "The value of i is  69359\n",
            "The value of i is  69360\n",
            "The value of i is  69361\n",
            "The value of i is  69362\n",
            "The value of i is  69363\n",
            "The value of i is  69364\n",
            "The value of i is  69365\n",
            "The value of i is  69366\n",
            "The value of i is  69367\n",
            "The value of i is  69368\n",
            "The value of i is  69369\n",
            "The value of i is  69370\n",
            "The value of i is  69371\n",
            "The value of i is  69372\n",
            "The value of i is  69373\n",
            "The value of i is  69374\n",
            "The value of i is  69375\n",
            "The value of i is  69376\n",
            "The value of i is  69377\n",
            "The value of i is  69378\n",
            "The value of i is  69379\n",
            "The value of i is  69380\n",
            "The value of i is  69381\n",
            "The value of i is  69382\n",
            "The value of i is  69383\n",
            "The value of i is  69384\n",
            "The value of i is  69385\n",
            "The value of i is  69386\n",
            "The value of i is  69387\n",
            "The value of i is  69388\n",
            "The value of i is  69389\n",
            "The value of i is  69390\n",
            "The value of i is  69391\n",
            "The value of i is  69392\n",
            "The value of i is  69393\n",
            "The value of i is  69394\n",
            "The value of i is  69395\n",
            "The value of i is  69396\n",
            "The value of i is  69397\n",
            "The value of i is  69398\n",
            "The value of i is  69399\n",
            "The value of i is  69400\n",
            "The value of i is  69401\n",
            "The value of i is  69402\n",
            "The value of i is  69403\n",
            "The value of i is  69404\n",
            "The value of i is  69405\n",
            "The value of i is  69406\n",
            "The value of i is  69407\n",
            "The value of i is  69408\n",
            "The value of i is  69409\n",
            "The value of i is  69410\n",
            "The value of i is  69411\n",
            "The value of i is  69412\n",
            "The value of i is  69413\n",
            "The value of i is  69414\n",
            "The value of i is  69415\n",
            "The value of i is  69416\n",
            "The value of i is  69417\n",
            "The value of i is  69418\n",
            "The value of i is  69419\n",
            "The value of i is  69420\n",
            "The value of i is  69421\n",
            "The value of i is  69422\n",
            "The value of i is  69423\n",
            "The value of i is  69424\n",
            "The value of i is  69425\n",
            "The value of i is  69426\n",
            "The value of i is  69427\n",
            "The value of i is  69428\n",
            "The value of i is  69429\n",
            "The value of i is  69430\n",
            "The value of i is  69431\n",
            "The value of i is  69432\n",
            "The value of i is  69433\n",
            "The value of i is  69434\n",
            "The value of i is  69435\n",
            "The value of i is  69436\n",
            "The value of i is  69437\n",
            "The value of i is  69438\n",
            "The value of i is  69439\n",
            "The value of i is  69440\n",
            "The value of i is  69441\n",
            "The value of i is  69442\n",
            "The value of i is  69443\n",
            "The value of i is  69444\n",
            "The value of i is  69445\n",
            "The value of i is  69446\n",
            "The value of i is  69447\n",
            "The value of i is  69448\n",
            "The value of i is  69449\n",
            "The value of i is  69450\n",
            "The value of i is  69451\n",
            "The value of i is  69452\n",
            "The value of i is  69453\n",
            "The value of i is  69454\n",
            "The value of i is  69455\n",
            "The value of i is  69456\n",
            "The value of i is  69457\n",
            "The value of i is  69458\n",
            "The value of i is  69459\n",
            "The value of i is  69460\n",
            "The value of i is  69461\n",
            "The value of i is  69462\n",
            "The value of i is  69463\n",
            "The value of i is  69464\n",
            "The value of i is  69465\n",
            "The value of i is  69466\n",
            "The value of i is  69467\n",
            "The value of i is  69468\n",
            "The value of i is  69469\n",
            "The value of i is  69470\n",
            "The value of i is  69471\n",
            "The value of i is  69472\n",
            "The value of i is  69473\n",
            "The value of i is  69474\n",
            "The value of i is  69475\n",
            "The value of i is  69476\n",
            "The value of i is  69477\n",
            "The value of i is  69478\n",
            "The value of i is  69479\n",
            "The value of i is  69480\n",
            "The value of i is  69481\n",
            "The value of i is  69482\n",
            "The value of i is  69483\n",
            "The value of i is  69484\n",
            "The value of i is  69485\n",
            "The value of i is  69486\n",
            "The value of i is  69487\n",
            "The value of i is  69488\n",
            "The value of i is  69489\n",
            "The value of i is  69490\n",
            "The value of i is  69491\n",
            "The value of i is  69492\n",
            "The value of i is  69493\n",
            "The value of i is  69494\n",
            "The value of i is  69495\n",
            "The value of i is  69496\n",
            "The value of i is  69497\n",
            "The value of i is  69498\n",
            "The value of i is  69499\n",
            "The value of i is  69500\n",
            "The value of i is  69501\n",
            "The value of i is  69502\n",
            "The value of i is  69503\n",
            "The value of i is  69504\n",
            "The value of i is  69505\n",
            "The value of i is  69506\n",
            "The value of i is  69507\n",
            "The value of i is  69508\n",
            "The value of i is  69509\n",
            "The value of i is  69510\n",
            "The value of i is  69511\n",
            "The value of i is  69512\n",
            "The value of i is  69513\n",
            "The value of i is  69514\n",
            "The value of i is  69515\n",
            "The value of i is  69516\n",
            "The value of i is  69517\n",
            "The value of i is  69518\n",
            "The value of i is  69519\n",
            "The value of i is  69520\n",
            "The value of i is  69521\n",
            "The value of i is  69522\n",
            "The value of i is  69523\n",
            "The value of i is  69524\n",
            "The value of i is  69525\n",
            "The value of i is  69526\n",
            "The value of i is  69527\n",
            "The value of i is  69528\n",
            "The value of i is  69529\n",
            "The value of i is  69530\n",
            "The value of i is  69531\n",
            "The value of i is  69532\n",
            "The value of i is  69533\n",
            "The value of i is  69534\n",
            "The value of i is  69535\n",
            "The value of i is  69536\n",
            "The value of i is  69537\n",
            "The value of i is  69538\n",
            "The value of i is  69539\n",
            "The value of i is  69540\n",
            "The value of i is  69541\n",
            "The value of i is  69542\n",
            "The value of i is  69543\n",
            "The value of i is  69544\n",
            "The value of i is  69545\n",
            "The value of i is  69546\n",
            "The value of i is  69547\n",
            "The value of i is  69548\n",
            "The value of i is  69549\n",
            "The value of i is  69550\n",
            "The value of i is  69551\n",
            "The value of i is  69552\n",
            "The value of i is  69553\n",
            "The value of i is  69554\n",
            "The value of i is  69555\n",
            "The value of i is  69556\n",
            "The value of i is  69557\n",
            "The value of i is  69558\n",
            "The value of i is  69559\n",
            "The value of i is  69560\n",
            "The value of i is  69561\n",
            "The value of i is  69562\n",
            "The value of i is  69563\n",
            "The value of i is  69564\n",
            "The value of i is  69565\n",
            "The value of i is  69566\n",
            "The value of i is  69567\n",
            "The value of i is  69568\n",
            "The value of i is  69569\n",
            "The value of i is  69570\n",
            "The value of i is  69571\n",
            "The value of i is  69572\n",
            "The value of i is  69573\n",
            "The value of i is  69574\n",
            "The value of i is  69575\n",
            "The value of i is  69576\n",
            "The value of i is  69577\n",
            "The value of i is  69578\n",
            "The value of i is  69579\n",
            "The value of i is  69580\n",
            "The value of i is  69581\n",
            "The value of i is  69582\n",
            "The value of i is  69583\n",
            "The value of i is  69584\n",
            "The value of i is  69585\n",
            "The value of i is  69586\n",
            "The value of i is  69587\n",
            "The value of i is  69588\n",
            "The value of i is  69589\n",
            "The value of i is  69590\n",
            "The value of i is  69591\n",
            "The value of i is  69592\n",
            "The value of i is  69593\n",
            "The value of i is  69594\n",
            "The value of i is  69595\n",
            "The value of i is  69596\n",
            "The value of i is  69597\n",
            "The value of i is  69598\n",
            "The value of i is  69599\n",
            "The value of i is  69600\n",
            "The value of i is  69601\n",
            "The value of i is  69602\n",
            "The value of i is  69603\n",
            "The value of i is  69604\n",
            "The value of i is  69605\n",
            "The value of i is  69606\n",
            "The value of i is  69607\n",
            "The value of i is  69608\n",
            "The value of i is  69609\n",
            "The value of i is  69610\n",
            "The value of i is  69611\n",
            "The value of i is  69612\n",
            "The value of i is  69613\n",
            "The value of i is  69614\n",
            "The value of i is  69615\n",
            "The value of i is  69616\n",
            "The value of i is  69617\n",
            "The value of i is  69618\n",
            "The value of i is  69619\n",
            "The value of i is  69620\n",
            "The value of i is  69621\n",
            "The value of i is  69622\n",
            "The value of i is  69623\n",
            "The value of i is  69624\n",
            "The value of i is  69625\n",
            "The value of i is  69626\n",
            "The value of i is  69627\n",
            "The value of i is  69628\n",
            "The value of i is  69629\n",
            "The value of i is  69630\n",
            "The value of i is  69631\n",
            "The value of i is  69632\n",
            "The value of i is  69633\n",
            "The value of i is  69634\n",
            "The value of i is  69635\n",
            "The value of i is  69636\n",
            "The value of i is  69637\n",
            "The value of i is  69638\n",
            "The value of i is  69639\n",
            "The value of i is  69640\n",
            "The value of i is  69641\n",
            "The value of i is  69642\n",
            "The value of i is  69643\n",
            "The value of i is  69644\n",
            "The value of i is  69645\n",
            "The value of i is  69646\n",
            "The value of i is  69647\n",
            "The value of i is  69648\n",
            "The value of i is  69649\n",
            "The value of i is  69650\n",
            "The value of i is  69651\n",
            "The value of i is  69652\n",
            "The value of i is  69653\n",
            "The value of i is  69654\n",
            "The value of i is  69655\n",
            "The value of i is  69656\n",
            "The value of i is  69657\n",
            "The value of i is  69658\n",
            "The value of i is  69659\n",
            "The value of i is  69660\n",
            "The value of i is  69661\n",
            "The value of i is  69662\n",
            "The value of i is  69663\n",
            "The value of i is  69664\n",
            "The value of i is  69665\n",
            "The value of i is  69666\n",
            "The value of i is  69667\n",
            "The value of i is  69668\n",
            "The value of i is  69669\n",
            "The value of i is  69670\n",
            "The value of i is  69671\n",
            "The value of i is  69672\n",
            "The value of i is  69673\n",
            "The value of i is  69674\n",
            "The value of i is  69675\n",
            "The value of i is  69676\n",
            "The value of i is  69677\n",
            "The value of i is  69678\n",
            "The value of i is  69679\n",
            "The value of i is  69680\n",
            "The value of i is  69681\n",
            "The value of i is  69682\n",
            "The value of i is  69683\n",
            "The value of i is  69684\n",
            "The value of i is  69685\n",
            "The value of i is  69686\n",
            "The value of i is  69687\n",
            "The value of i is  69688\n",
            "The value of i is  69689\n",
            "The value of i is  69690\n",
            "The value of i is  69691\n",
            "The value of i is  69692\n",
            "The value of i is  69693\n",
            "The value of i is  69694\n",
            "The value of i is  69695\n",
            "The value of i is  69696\n",
            "The value of i is  69697\n",
            "The value of i is  69698\n",
            "The value of i is  69699\n",
            "The value of i is  69700\n",
            "The value of i is  69701\n",
            "The value of i is  69702\n",
            "The value of i is  69703\n",
            "The value of i is  69704\n",
            "The value of i is  69705\n",
            "The value of i is  69706\n",
            "The value of i is  69707\n",
            "The value of i is  69708\n",
            "The value of i is  69709\n",
            "The value of i is  69710\n",
            "The value of i is  69711\n",
            "The value of i is  69712\n",
            "The value of i is  69713\n",
            "The value of i is  69714\n",
            "The value of i is  69715\n",
            "The value of i is  69716\n",
            "The value of i is  69717\n",
            "The value of i is  69718\n",
            "The value of i is  69719\n",
            "The value of i is  69720\n",
            "The value of i is  69721\n",
            "The value of i is  69722\n",
            "The value of i is  69723\n",
            "The value of i is  69724\n",
            "The value of i is  69725\n",
            "The value of i is  69726\n",
            "The value of i is  69727\n",
            "The value of i is  69728\n",
            "The value of i is  69729\n",
            "The value of i is  69730\n",
            "The value of i is  69731\n",
            "The value of i is  69732\n",
            "The value of i is  69733\n",
            "The value of i is  69734\n",
            "The value of i is  69735\n",
            "The value of i is  69736\n",
            "The value of i is  69737\n",
            "The value of i is  69738\n",
            "The value of i is  69739\n",
            "The value of i is  69740\n",
            "The value of i is  69741\n",
            "The value of i is  69742\n",
            "The value of i is  69743\n",
            "The value of i is  69744\n",
            "The value of i is  69745\n",
            "The value of i is  69746\n",
            "The value of i is  69747\n",
            "The value of i is  69748\n",
            "The value of i is  69749\n",
            "The value of i is  69750\n",
            "The value of i is  69751\n",
            "The value of i is  69752\n",
            "The value of i is  69753\n",
            "The value of i is  69754\n",
            "The value of i is  69755\n",
            "The value of i is  69756\n",
            "The value of i is  69757\n",
            "The value of i is  69758\n",
            "The value of i is  69759\n",
            "The value of i is  69760\n",
            "The value of i is  69761\n",
            "The value of i is  69762\n",
            "The value of i is  69763\n",
            "The value of i is  69764\n",
            "The value of i is  69765\n",
            "The value of i is  69766\n",
            "The value of i is  69767\n",
            "The value of i is  69768\n",
            "The value of i is  69769\n",
            "The value of i is  69770\n",
            "The value of i is  69771\n",
            "The value of i is  69772\n",
            "The value of i is  69773\n",
            "The value of i is  69774\n",
            "The value of i is  69775\n",
            "The value of i is  69776\n",
            "The value of i is  69777\n",
            "The value of i is  69778\n",
            "The value of i is  69779\n",
            "The value of i is  69780\n",
            "The value of i is  69781\n",
            "The value of i is  69782\n",
            "The value of i is  69783\n",
            "The value of i is  69784\n",
            "The value of i is  69785\n",
            "The value of i is  69786\n",
            "The value of i is  69787\n",
            "The value of i is  69788\n",
            "The value of i is  69789\n",
            "The value of i is  69790\n",
            "The value of i is  69791\n",
            "The value of i is  69792\n",
            "The value of i is  69793\n",
            "The value of i is  69794\n",
            "The value of i is  69795\n",
            "The value of i is  69796\n",
            "The value of i is  69797\n",
            "The value of i is  69798\n",
            "The value of i is  69799\n",
            "The value of i is  69800\n",
            "The value of i is  69801\n",
            "The value of i is  69802\n",
            "The value of i is  69803\n",
            "The value of i is  69804\n",
            "The value of i is  69805\n",
            "The value of i is  69806\n",
            "The value of i is  69807\n",
            "The value of i is  69808\n",
            "The value of i is  69809\n",
            "The value of i is  69810\n",
            "The value of i is  69811\n",
            "The value of i is  69812\n",
            "The value of i is  69813\n",
            "The value of i is  69814\n",
            "The value of i is  69815\n",
            "The value of i is  69816\n",
            "The value of i is  69817\n",
            "The value of i is  69818\n",
            "The value of i is  69819\n",
            "The value of i is  69820\n",
            "The value of i is  69821\n",
            "The value of i is  69822\n",
            "The value of i is  69823\n",
            "The value of i is  69824\n",
            "The value of i is  69825\n",
            "The value of i is  69826\n",
            "The value of i is  69827\n",
            "The value of i is  69828\n",
            "The value of i is  69829\n",
            "The value of i is  69830\n",
            "The value of i is  69831\n",
            "The value of i is  69832\n",
            "The value of i is  69833\n",
            "The value of i is  69834\n",
            "The value of i is  69835\n",
            "The value of i is  69836\n",
            "The value of i is  69837\n",
            "The value of i is  69838\n",
            "The value of i is  69839\n",
            "The value of i is  69840\n",
            "The value of i is  69841\n",
            "The value of i is  69842\n",
            "The value of i is  69843\n",
            "The value of i is  69844\n",
            "The value of i is  69845\n",
            "The value of i is  69846\n",
            "The value of i is  69847\n",
            "The value of i is  69848\n",
            "The value of i is  69849\n",
            "The value of i is  69850\n",
            "The value of i is  69851\n",
            "The value of i is  69852\n",
            "The value of i is  69853\n",
            "The value of i is  69854\n",
            "The value of i is  69855\n",
            "The value of i is  69856\n",
            "The value of i is  69857\n",
            "The value of i is  69858\n",
            "The value of i is  69859\n",
            "The value of i is  69860\n",
            "The value of i is  69861\n",
            "The value of i is  69862\n",
            "The value of i is  69863\n",
            "The value of i is  69864\n",
            "The value of i is  69865\n",
            "The value of i is  69866\n",
            "The value of i is  69867\n",
            "The value of i is  69868\n",
            "The value of i is  69869\n",
            "The value of i is  69870\n",
            "The value of i is  69871\n",
            "The value of i is  69872\n",
            "The value of i is  69873\n",
            "The value of i is  69874\n",
            "The value of i is  69875\n",
            "The value of i is  69876\n",
            "The value of i is  69877\n",
            "The value of i is  69878\n",
            "The value of i is  69879\n",
            "The value of i is  69880\n",
            "The value of i is  69881\n",
            "The value of i is  69882\n",
            "The value of i is  69883\n",
            "The value of i is  69884\n",
            "The value of i is  69885\n",
            "The value of i is  69886\n",
            "The value of i is  69887\n",
            "The value of i is  69888\n",
            "The value of i is  69889\n",
            "The value of i is  69890\n",
            "The value of i is  69891\n",
            "The value of i is  69892\n",
            "The value of i is  69893\n",
            "The value of i is  69894\n",
            "The value of i is  69895\n",
            "The value of i is  69896\n",
            "The value of i is  69897\n",
            "The value of i is  69898\n",
            "The value of i is  69899\n",
            "The value of i is  69900\n",
            "The value of i is  69901\n",
            "The value of i is  69902\n",
            "The value of i is  69903\n",
            "The value of i is  69904\n",
            "The value of i is  69905\n",
            "The value of i is  69906\n",
            "The value of i is  69907\n",
            "The value of i is  69908\n",
            "The value of i is  69909\n",
            "The value of i is  69910\n",
            "The value of i is  69911\n",
            "The value of i is  69912\n",
            "The value of i is  69913\n",
            "The value of i is  69914\n",
            "The value of i is  69915\n",
            "The value of i is  69916\n",
            "The value of i is  69917\n",
            "The value of i is  69918\n",
            "The value of i is  69919\n",
            "The value of i is  69920\n",
            "The value of i is  69921\n",
            "The value of i is  69922\n",
            "The value of i is  69923\n",
            "The value of i is  69924\n",
            "The value of i is  69925\n",
            "The value of i is  69926\n",
            "The value of i is  69927\n",
            "The value of i is  69928\n",
            "The value of i is  69929\n",
            "The value of i is  69930\n",
            "The value of i is  69931\n",
            "The value of i is  69932\n",
            "The value of i is  69933\n",
            "The value of i is  69934\n",
            "The value of i is  69935\n",
            "The value of i is  69936\n",
            "The value of i is  69937\n",
            "The value of i is  69938\n",
            "The value of i is  69939\n",
            "The value of i is  69940\n",
            "The value of i is  69941\n",
            "The value of i is  69942\n",
            "The value of i is  69943\n",
            "The value of i is  69944\n",
            "The value of i is  69945\n",
            "The value of i is  69946\n",
            "The value of i is  69947\n",
            "The value of i is  69948\n",
            "The value of i is  69949\n",
            "The value of i is  69950\n",
            "The value of i is  69951\n",
            "The value of i is  69952\n",
            "The value of i is  69953\n",
            "The value of i is  69954\n",
            "The value of i is  69955\n",
            "The value of i is  69956\n",
            "The value of i is  69957\n",
            "The value of i is  69958\n",
            "The value of i is  69959\n",
            "The value of i is  69960\n",
            "The value of i is  69961\n",
            "The value of i is  69962\n",
            "The value of i is  69963\n",
            "The value of i is  69964\n",
            "The value of i is  69965\n",
            "The value of i is  69966\n",
            "The value of i is  69967\n",
            "The value of i is  69968\n",
            "The value of i is  69969\n",
            "The value of i is  69970\n",
            "The value of i is  69971\n",
            "The value of i is  69972\n",
            "The value of i is  69973\n",
            "The value of i is  69974\n",
            "The value of i is  69975\n",
            "The value of i is  69976\n",
            "The value of i is  69977\n",
            "The value of i is  69978\n",
            "The value of i is  69979\n",
            "The value of i is  69980\n",
            "The value of i is  69981\n",
            "The value of i is  69982\n",
            "The value of i is  69983\n",
            "The value of i is  69984\n",
            "The value of i is  69985\n",
            "The value of i is  69986\n",
            "The value of i is  69987\n",
            "The value of i is  69988\n",
            "The value of i is  69989\n",
            "The value of i is  69990\n",
            "The value of i is  69991\n",
            "The value of i is  69992\n",
            "The value of i is  69993\n",
            "The value of i is  69994\n",
            "The value of i is  69995\n",
            "The value of i is  69996\n",
            "The value of i is  69997\n",
            "The value of i is  69998\n",
            "The value of i is  69999\n",
            "The value of i is  70000\n",
            "The value of i is  70001\n",
            "The value of i is  70002\n",
            "The value of i is  70003\n",
            "The value of i is  70004\n",
            "The value of i is  70005\n",
            "The value of i is  70006\n",
            "The value of i is  70007\n",
            "The value of i is  70008\n",
            "The value of i is  70009\n",
            "The value of i is  70010\n",
            "The value of i is  70011\n",
            "The value of i is  70012\n",
            "The value of i is  70013\n",
            "The value of i is  70014\n",
            "The value of i is  70015\n",
            "The value of i is  70016\n",
            "The value of i is  70017\n",
            "The value of i is  70018\n",
            "The value of i is  70019\n",
            "The value of i is  70020\n",
            "The value of i is  70021\n",
            "The value of i is  70022\n",
            "The value of i is  70023\n",
            "The value of i is  70024\n",
            "The value of i is  70025\n",
            "The value of i is  70026\n",
            "The value of i is  70027\n",
            "The value of i is  70028\n",
            "The value of i is  70029\n",
            "The value of i is  70030\n",
            "The value of i is  70031\n",
            "The value of i is  70032\n",
            "The value of i is  70033\n",
            "The value of i is  70034\n",
            "The value of i is  70035\n",
            "The value of i is  70036\n",
            "The value of i is  70037\n",
            "The value of i is  70038\n",
            "The value of i is  70039\n",
            "The value of i is  70040\n",
            "The value of i is  70041\n",
            "The value of i is  70042\n",
            "The value of i is  70043\n",
            "The value of i is  70044\n",
            "The value of i is  70045\n",
            "The value of i is  70046\n",
            "The value of i is  70047\n",
            "The value of i is  70048\n",
            "The value of i is  70049\n",
            "The value of i is  70050\n",
            "The value of i is  70051\n",
            "The value of i is  70052\n",
            "The value of i is  70053\n",
            "The value of i is  70054\n",
            "The value of i is  70055\n",
            "The value of i is  70056\n",
            "The value of i is  70057\n",
            "The value of i is  70058\n",
            "The value of i is  70059\n",
            "The value of i is  70060\n",
            "The value of i is  70061\n",
            "The value of i is  70062\n",
            "The value of i is  70063\n",
            "The value of i is  70064\n",
            "The value of i is  70065\n",
            "The value of i is  70066\n",
            "The value of i is  70067\n",
            "The value of i is  70068\n",
            "The value of i is  70069\n",
            "The value of i is  70070\n",
            "The value of i is  70071\n",
            "The value of i is  70072\n",
            "The value of i is  70073\n",
            "The value of i is  70074\n",
            "The value of i is  70075\n",
            "The value of i is  70076\n",
            "The value of i is  70077\n",
            "The value of i is  70078\n",
            "The value of i is  70079\n",
            "The value of i is  70080\n",
            "The value of i is  70081\n",
            "The value of i is  70082\n",
            "The value of i is  70083\n",
            "The value of i is  70084\n",
            "The value of i is  70085\n",
            "The value of i is  70086\n",
            "The value of i is  70087\n",
            "The value of i is  70088\n",
            "The value of i is  70089\n",
            "The value of i is  70090\n",
            "The value of i is  70091\n",
            "The value of i is  70092\n",
            "The value of i is  70093\n",
            "The value of i is  70094\n",
            "The value of i is  70095\n",
            "The value of i is  70096\n",
            "The value of i is  70097\n",
            "The value of i is  70098\n",
            "The value of i is  70099\n",
            "The value of i is  70100\n",
            "The value of i is  70101\n",
            "The value of i is  70102\n",
            "The value of i is  70103\n",
            "The value of i is  70104\n",
            "The value of i is  70105\n",
            "The value of i is  70106\n",
            "The value of i is  70107\n",
            "The value of i is  70108\n",
            "The value of i is  70109\n",
            "The value of i is  70110\n",
            "The value of i is  70111\n",
            "The value of i is  70112\n",
            "The value of i is  70113\n",
            "The value of i is  70114\n",
            "The value of i is  70115\n",
            "The value of i is  70116\n",
            "The value of i is  70117\n",
            "The value of i is  70118\n",
            "The value of i is  70119\n",
            "The value of i is  70120\n",
            "The value of i is  70121\n",
            "The value of i is  70122\n",
            "The value of i is  70123\n",
            "The value of i is  70124\n",
            "The value of i is  70125\n",
            "The value of i is  70126\n",
            "The value of i is  70127\n",
            "The value of i is  70128\n",
            "The value of i is  70129\n",
            "The value of i is  70130\n",
            "The value of i is  70131\n",
            "The value of i is  70132\n",
            "The value of i is  70133\n",
            "The value of i is  70134\n",
            "The value of i is  70135\n",
            "The value of i is  70136\n",
            "The value of i is  70137\n",
            "The value of i is  70138\n",
            "The value of i is  70139\n",
            "The value of i is  70140\n",
            "The value of i is  70141\n",
            "The value of i is  70142\n",
            "The value of i is  70143\n",
            "The value of i is  70144\n",
            "The value of i is  70145\n",
            "The value of i is  70146\n",
            "The value of i is  70147\n",
            "The value of i is  70148\n",
            "The value of i is  70149\n",
            "The value of i is  70150\n",
            "The value of i is  70151\n",
            "The value of i is  70152\n",
            "The value of i is  70153\n",
            "The value of i is  70154\n",
            "The value of i is  70155\n",
            "The value of i is  70156\n",
            "The value of i is  70157\n",
            "The value of i is  70158\n",
            "The value of i is  70159\n",
            "The value of i is  70160\n",
            "The value of i is  70161\n",
            "The value of i is  70162\n",
            "The value of i is  70163\n",
            "The value of i is  70164\n",
            "The value of i is  70165\n",
            "The value of i is  70166\n",
            "The value of i is  70167\n",
            "The value of i is  70168\n",
            "The value of i is  70169\n",
            "The value of i is  70170\n",
            "The value of i is  70171\n",
            "The value of i is  70172\n",
            "The value of i is  70173\n",
            "The value of i is  70174\n",
            "The value of i is  70175\n",
            "The value of i is  70176\n",
            "The value of i is  70177\n",
            "The value of i is  70178\n",
            "The value of i is  70179\n",
            "The value of i is  70180\n",
            "The value of i is  70181\n",
            "The value of i is  70182\n",
            "The value of i is  70183\n",
            "The value of i is  70184\n",
            "The value of i is  70185\n",
            "The value of i is  70186\n",
            "The value of i is  70187\n",
            "The value of i is  70188\n",
            "The value of i is  70189\n",
            "The value of i is  70190\n",
            "The value of i is  70191\n",
            "The value of i is  70192\n",
            "The value of i is  70193\n",
            "The value of i is  70194\n",
            "The value of i is  70195\n",
            "The value of i is  70196\n",
            "The value of i is  70197\n",
            "The value of i is  70198\n",
            "The value of i is  70199\n",
            "The value of i is  70200\n",
            "The value of i is  70201\n",
            "The value of i is  70202\n",
            "The value of i is  70203\n",
            "The value of i is  70204\n",
            "The value of i is  70205\n",
            "The value of i is  70206\n",
            "The value of i is  70207\n",
            "The value of i is  70208\n",
            "The value of i is  70209\n",
            "The value of i is  70210\n",
            "The value of i is  70211\n",
            "The value of i is  70212\n",
            "The value of i is  70213\n",
            "The value of i is  70214\n",
            "The value of i is  70215\n",
            "The value of i is  70216\n",
            "The value of i is  70217\n",
            "The value of i is  70218\n",
            "The value of i is  70219\n",
            "The value of i is  70220\n",
            "The value of i is  70221\n",
            "The value of i is  70222\n",
            "The value of i is  70223\n",
            "The value of i is  70224\n",
            "The value of i is  70225\n",
            "The value of i is  70226\n",
            "The value of i is  70227\n",
            "The value of i is  70228\n",
            "The value of i is  70229\n",
            "The value of i is  70230\n",
            "The value of i is  70231\n",
            "The value of i is  70232\n",
            "The value of i is  70233\n",
            "The value of i is  70234\n",
            "The value of i is  70235\n",
            "The value of i is  70236\n",
            "The value of i is  70237\n",
            "The value of i is  70238\n",
            "The value of i is  70239\n",
            "The value of i is  70240\n",
            "The value of i is  70241\n",
            "The value of i is  70242\n",
            "The value of i is  70243\n",
            "The value of i is  70244\n",
            "The value of i is  70245\n",
            "The value of i is  70246\n",
            "The value of i is  70247\n",
            "The value of i is  70248\n",
            "The value of i is  70249\n",
            "The value of i is  70250\n",
            "The value of i is  70251\n",
            "The value of i is  70252\n",
            "The value of i is  70253\n",
            "The value of i is  70254\n",
            "The value of i is  70255\n",
            "The value of i is  70256\n",
            "The value of i is  70257\n",
            "The value of i is  70258\n",
            "The value of i is  70259\n",
            "The value of i is  70260\n",
            "The value of i is  70261\n",
            "The value of i is  70262\n",
            "The value of i is  70263\n",
            "The value of i is  70264\n",
            "The value of i is  70265\n",
            "The value of i is  70266\n",
            "The value of i is  70267\n",
            "The value of i is  70268\n",
            "The value of i is  70269\n",
            "The value of i is  70270\n",
            "The value of i is  70271\n",
            "The value of i is  70272\n",
            "The value of i is  70273\n",
            "The value of i is  70274\n",
            "The value of i is  70275\n",
            "The value of i is  70276\n",
            "The value of i is  70277\n",
            "The value of i is  70278\n",
            "The value of i is  70279\n",
            "The value of i is  70280\n",
            "The value of i is  70281\n",
            "The value of i is  70282\n",
            "The value of i is  70283\n",
            "The value of i is  70284\n",
            "The value of i is  70285\n",
            "The value of i is  70286\n",
            "The value of i is  70287\n",
            "The value of i is  70288\n",
            "The value of i is  70289\n",
            "The value of i is  70290\n",
            "The value of i is  70291\n",
            "The value of i is  70292\n",
            "The value of i is  70293\n",
            "The value of i is  70294\n",
            "The value of i is  70295\n",
            "The value of i is  70296\n",
            "The value of i is  70297\n",
            "The value of i is  70298\n",
            "The value of i is  70299\n",
            "The value of i is  70300\n",
            "The value of i is  70301\n",
            "The value of i is  70302\n",
            "The value of i is  70303\n",
            "The value of i is  70304\n",
            "The value of i is  70305\n",
            "The value of i is  70306\n",
            "The value of i is  70307\n",
            "The value of i is  70308\n",
            "The value of i is  70309\n",
            "The value of i is  70310\n",
            "The value of i is  70311\n",
            "The value of i is  70312\n",
            "The value of i is  70313\n",
            "The value of i is  70314\n",
            "The value of i is  70315\n",
            "The value of i is  70316\n",
            "The value of i is  70317\n",
            "The value of i is  70318\n",
            "The value of i is  70319\n",
            "The value of i is  70320\n",
            "The value of i is  70321\n",
            "The value of i is  70322\n",
            "The value of i is  70323\n",
            "The value of i is  70324\n",
            "The value of i is  70325\n",
            "The value of i is  70326\n",
            "The value of i is  70327\n",
            "The value of i is  70328\n",
            "The value of i is  70329\n",
            "The value of i is  70330\n",
            "The value of i is  70331\n",
            "The value of i is  70332\n",
            "The value of i is  70333\n",
            "The value of i is  70334\n",
            "The value of i is  70335\n",
            "The value of i is  70336\n",
            "The value of i is  70337\n",
            "The value of i is  70338\n",
            "The value of i is  70339\n",
            "The value of i is  70340\n",
            "The value of i is  70341\n",
            "The value of i is  70342\n",
            "The value of i is  70343\n",
            "The value of i is  70344\n",
            "The value of i is  70345\n",
            "The value of i is  70346\n",
            "The value of i is  70347\n",
            "The value of i is  70348\n",
            "The value of i is  70349\n",
            "The value of i is  70350\n",
            "The value of i is  70351\n",
            "The value of i is  70352\n",
            "The value of i is  70353\n",
            "The value of i is  70354\n",
            "The value of i is  70355\n",
            "The value of i is  70356\n",
            "The value of i is  70357\n",
            "The value of i is  70358\n",
            "The value of i is  70359\n",
            "The value of i is  70360\n",
            "The value of i is  70361\n",
            "The value of i is  70362\n",
            "The value of i is  70363\n",
            "The value of i is  70364\n",
            "The value of i is  70365\n",
            "The value of i is  70366\n",
            "The value of i is  70367\n",
            "The value of i is  70368\n",
            "The value of i is  70369\n",
            "The value of i is  70370\n",
            "The value of i is  70371\n",
            "The value of i is  70372\n",
            "The value of i is  70373\n",
            "The value of i is  70374\n",
            "The value of i is  70375\n",
            "The value of i is  70376\n",
            "The value of i is  70377\n",
            "The value of i is  70378\n",
            "The value of i is  70379\n",
            "The value of i is  70380\n",
            "The value of i is  70381\n",
            "The value of i is  70382\n",
            "The value of i is  70383\n",
            "The value of i is  70384\n",
            "The value of i is  70385\n",
            "The value of i is  70386\n",
            "The value of i is  70387\n",
            "The value of i is  70388\n",
            "The value of i is  70389\n",
            "The value of i is  70390\n",
            "The value of i is  70391\n",
            "The value of i is  70392\n",
            "The value of i is  70393\n",
            "The value of i is  70394\n",
            "The value of i is  70395\n",
            "The value of i is  70396\n",
            "The value of i is  70397\n",
            "The value of i is  70398\n",
            "The value of i is  70399\n",
            "The value of i is  70400\n",
            "The value of i is  70401\n",
            "The value of i is  70402\n",
            "The value of i is  70403\n",
            "The value of i is  70404\n",
            "The value of i is  70405\n",
            "The value of i is  70406\n",
            "The value of i is  70407\n",
            "The value of i is  70408\n",
            "The value of i is  70409\n",
            "The value of i is  70410\n",
            "The value of i is  70411\n",
            "The value of i is  70412\n",
            "The value of i is  70413\n",
            "The value of i is  70414\n",
            "The value of i is  70415\n",
            "The value of i is  70416\n",
            "The value of i is  70417\n",
            "The value of i is  70418\n",
            "The value of i is  70419\n",
            "The value of i is  70420\n",
            "The value of i is  70421\n",
            "The value of i is  70422\n",
            "The value of i is  70423\n",
            "The value of i is  70424\n",
            "The value of i is  70425\n",
            "The value of i is  70426\n",
            "The value of i is  70427\n",
            "The value of i is  70428\n",
            "The value of i is  70429\n",
            "The value of i is  70430\n",
            "The value of i is  70431\n",
            "The value of i is  70432\n",
            "The value of i is  70433\n",
            "The value of i is  70434\n",
            "The value of i is  70435\n",
            "The value of i is  70436\n",
            "The value of i is  70437\n",
            "The value of i is  70438\n",
            "The value of i is  70439\n",
            "The value of i is  70440\n",
            "The value of i is  70441\n",
            "The value of i is  70442\n",
            "The value of i is  70443\n",
            "The value of i is  70444\n",
            "The value of i is  70445\n",
            "The value of i is  70446\n",
            "The value of i is  70447\n",
            "The value of i is  70448\n",
            "The value of i is  70449\n",
            "The value of i is  70450\n",
            "The value of i is  70451\n",
            "The value of i is  70452\n",
            "The value of i is  70453\n",
            "The value of i is  70454\n",
            "The value of i is  70455\n",
            "The value of i is  70456\n",
            "The value of i is  70457\n",
            "The value of i is  70458\n",
            "The value of i is  70459\n",
            "The value of i is  70460\n",
            "The value of i is  70461\n",
            "The value of i is  70462\n",
            "The value of i is  70463\n",
            "The value of i is  70464\n",
            "The value of i is  70465\n",
            "The value of i is  70466\n",
            "The value of i is  70467\n",
            "The value of i is  70468\n",
            "The value of i is  70469\n",
            "The value of i is  70470\n",
            "The value of i is  70471\n",
            "The value of i is  70472\n",
            "The value of i is  70473\n",
            "The value of i is  70474\n",
            "The value of i is  70475\n",
            "The value of i is  70476\n",
            "The value of i is  70477\n",
            "The value of i is  70478\n",
            "The value of i is  70479\n",
            "The value of i is  70480\n",
            "The value of i is  70481\n",
            "The value of i is  70482\n",
            "The value of i is  70483\n",
            "The value of i is  70484\n",
            "The value of i is  70485\n",
            "The value of i is  70486\n",
            "The value of i is  70487\n",
            "The value of i is  70488\n",
            "The value of i is  70489\n",
            "The value of i is  70490\n",
            "The value of i is  70491\n",
            "The value of i is  70492\n",
            "The value of i is  70493\n",
            "The value of i is  70494\n",
            "The value of i is  70495\n",
            "The value of i is  70496\n",
            "The value of i is  70497\n",
            "The value of i is  70498\n",
            "The value of i is  70499\n",
            "The value of i is  70500\n",
            "The value of i is  70501\n",
            "The value of i is  70502\n",
            "The value of i is  70503\n",
            "The value of i is  70504\n",
            "The value of i is  70505\n",
            "The value of i is  70506\n",
            "The value of i is  70507\n",
            "The value of i is  70508\n",
            "The value of i is  70509\n",
            "The value of i is  70510\n",
            "The value of i is  70511\n",
            "The value of i is  70512\n",
            "The value of i is  70513\n",
            "The value of i is  70514\n",
            "The value of i is  70515\n",
            "The value of i is  70516\n",
            "The value of i is  70517\n",
            "The value of i is  70518\n",
            "The value of i is  70519\n",
            "The value of i is  70520\n",
            "The value of i is  70521\n",
            "The value of i is  70522\n",
            "The value of i is  70523\n",
            "The value of i is  70524\n",
            "The value of i is  70525\n",
            "The value of i is  70526\n",
            "The value of i is  70527\n",
            "The value of i is  70528\n",
            "The value of i is  70529\n",
            "The value of i is  70530\n",
            "The value of i is  70531\n",
            "The value of i is  70532\n",
            "The value of i is  70533\n",
            "The value of i is  70534\n",
            "The value of i is  70535\n",
            "The value of i is  70536\n",
            "The value of i is  70537\n",
            "The value of i is  70538\n",
            "The value of i is  70539\n",
            "The value of i is  70540\n",
            "The value of i is  70541\n",
            "The value of i is  70542\n",
            "The value of i is  70543\n",
            "The value of i is  70544\n",
            "The value of i is  70545\n",
            "The value of i is  70546\n",
            "The value of i is  70547\n",
            "The value of i is  70548\n",
            "The value of i is  70549\n",
            "The value of i is  70550\n",
            "The value of i is  70551\n",
            "The value of i is  70552\n",
            "The value of i is  70553\n",
            "The value of i is  70554\n",
            "The value of i is  70555\n",
            "The value of i is  70556\n",
            "The value of i is  70557\n",
            "The value of i is  70558\n",
            "The value of i is  70559\n",
            "The value of i is  70560\n",
            "The value of i is  70561\n",
            "The value of i is  70562\n",
            "The value of i is  70563\n",
            "The value of i is  70564\n",
            "The value of i is  70565\n",
            "The value of i is  70566\n",
            "The value of i is  70567\n",
            "The value of i is  70568\n",
            "The value of i is  70569\n",
            "The value of i is  70570\n",
            "The value of i is  70571\n",
            "The value of i is  70572\n",
            "The value of i is  70573\n",
            "The value of i is  70574\n",
            "The value of i is  70575\n",
            "The value of i is  70576\n",
            "The value of i is  70577\n",
            "The value of i is  70578\n",
            "The value of i is  70579\n",
            "The value of i is  70580\n",
            "The value of i is  70581\n",
            "The value of i is  70582\n",
            "The value of i is  70583\n",
            "The value of i is  70584\n",
            "The value of i is  70585\n",
            "The value of i is  70586\n",
            "The value of i is  70587\n",
            "The value of i is  70588\n",
            "The value of i is  70589\n",
            "The value of i is  70590\n",
            "The value of i is  70591\n",
            "The value of i is  70592\n",
            "The value of i is  70593\n",
            "The value of i is  70594\n",
            "The value of i is  70595\n",
            "The value of i is  70596\n",
            "The value of i is  70597\n",
            "The value of i is  70598\n",
            "The value of i is  70599\n",
            "The value of i is  70600\n",
            "The value of i is  70601\n",
            "The value of i is  70602\n",
            "The value of i is  70603\n",
            "The value of i is  70604\n",
            "The value of i is  70605\n",
            "The value of i is  70606\n",
            "The value of i is  70607\n",
            "The value of i is  70608\n",
            "The value of i is  70609\n",
            "The value of i is  70610\n",
            "The value of i is  70611\n",
            "The value of i is  70612\n",
            "The value of i is  70613\n",
            "The value of i is  70614\n",
            "The value of i is  70615\n",
            "The value of i is  70616\n",
            "The value of i is  70617\n",
            "The value of i is  70618\n",
            "The value of i is  70619\n",
            "The value of i is  70620\n",
            "The value of i is  70621\n",
            "The value of i is  70622\n",
            "The value of i is  70623\n",
            "The value of i is  70624\n",
            "The value of i is  70625\n",
            "The value of i is  70626\n",
            "The value of i is  70627\n",
            "The value of i is  70628\n",
            "The value of i is  70629\n",
            "The value of i is  70630\n",
            "The value of i is  70631\n",
            "The value of i is  70632\n",
            "The value of i is  70633\n",
            "The value of i is  70634\n",
            "The value of i is  70635\n",
            "The value of i is  70636\n",
            "The value of i is  70637\n",
            "The value of i is  70638\n",
            "The value of i is  70639\n",
            "The value of i is  70640\n",
            "The value of i is  70641\n",
            "The value of i is  70642\n",
            "The value of i is  70643\n",
            "The value of i is  70644\n",
            "The value of i is  70645\n",
            "The value of i is  70646\n",
            "The value of i is  70647\n",
            "The value of i is  70648\n",
            "The value of i is  70649\n",
            "The value of i is  70650\n",
            "The value of i is  70651\n",
            "The value of i is  70652\n",
            "The value of i is  70653\n",
            "The value of i is  70654\n",
            "The value of i is  70655\n",
            "The value of i is  70656\n",
            "The value of i is  70657\n",
            "The value of i is  70658\n",
            "The value of i is  70659\n",
            "The value of i is  70660\n",
            "The value of i is  70661\n",
            "The value of i is  70662\n",
            "The value of i is  70663\n",
            "The value of i is  70664\n",
            "The value of i is  70665\n",
            "The value of i is  70666\n",
            "The value of i is  70667\n",
            "The value of i is  70668\n",
            "The value of i is  70669\n",
            "The value of i is  70670\n",
            "The value of i is  70671\n",
            "The value of i is  70672\n",
            "The value of i is  70673\n",
            "The value of i is  70674\n",
            "The value of i is  70675\n",
            "The value of i is  70676\n",
            "The value of i is  70677\n",
            "The value of i is  70678\n",
            "The value of i is  70679\n",
            "The value of i is  70680\n",
            "The value of i is  70681\n",
            "The value of i is  70682\n",
            "The value of i is  70683\n",
            "The value of i is  70684\n",
            "The value of i is  70685\n",
            "The value of i is  70686\n",
            "The value of i is  70687\n",
            "The value of i is  70688\n",
            "The value of i is  70689\n",
            "The value of i is  70690\n",
            "The value of i is  70691\n",
            "The value of i is  70692\n",
            "The value of i is  70693\n",
            "The value of i is  70694\n",
            "The value of i is  70695\n",
            "The value of i is  70696\n",
            "The value of i is  70697\n",
            "The value of i is  70698\n",
            "The value of i is  70699\n",
            "The value of i is  70700\n",
            "The value of i is  70701\n",
            "The value of i is  70702\n",
            "The value of i is  70703\n",
            "The value of i is  70704\n",
            "The value of i is  70705\n",
            "The value of i is  70706\n",
            "The value of i is  70707\n",
            "The value of i is  70708\n",
            "The value of i is  70709\n",
            "The value of i is  70710\n",
            "The value of i is  70711\n",
            "The value of i is  70712\n",
            "The value of i is  70713\n",
            "The value of i is  70714\n",
            "The value of i is  70715\n",
            "The value of i is  70716\n",
            "The value of i is  70717\n",
            "The value of i is  70718\n",
            "The value of i is  70719\n",
            "The value of i is  70720\n",
            "The value of i is  70721\n",
            "The value of i is  70722\n",
            "The value of i is  70723\n",
            "The value of i is  70724\n",
            "The value of i is  70725\n",
            "The value of i is  70726\n",
            "The value of i is  70727\n",
            "The value of i is  70728\n",
            "The value of i is  70729\n",
            "The value of i is  70730\n",
            "The value of i is  70731\n",
            "The value of i is  70732\n",
            "The value of i is  70733\n",
            "The value of i is  70734\n",
            "The value of i is  70735\n",
            "The value of i is  70736\n",
            "The value of i is  70737\n",
            "The value of i is  70738\n",
            "The value of i is  70739\n",
            "The value of i is  70740\n",
            "The value of i is  70741\n",
            "The value of i is  70742\n",
            "The value of i is  70743\n",
            "The value of i is  70744\n",
            "The value of i is  70745\n",
            "The value of i is  70746\n",
            "The value of i is  70747\n",
            "The value of i is  70748\n",
            "The value of i is  70749\n",
            "The value of i is  70750\n",
            "The value of i is  70751\n",
            "The value of i is  70752\n",
            "The value of i is  70753\n",
            "The value of i is  70754\n",
            "The value of i is  70755\n",
            "The value of i is  70756\n",
            "The value of i is  70757\n",
            "The value of i is  70758\n",
            "The value of i is  70759\n",
            "The value of i is  70760\n",
            "The value of i is  70761\n",
            "The value of i is  70762\n",
            "The value of i is  70763\n",
            "The value of i is  70764\n",
            "The value of i is  70765\n",
            "The value of i is  70766\n",
            "The value of i is  70767\n",
            "The value of i is  70768\n",
            "The value of i is  70769\n",
            "The value of i is  70770\n",
            "The value of i is  70771\n",
            "The value of i is  70772\n",
            "The value of i is  70773\n",
            "The value of i is  70774\n",
            "The value of i is  70775\n",
            "The value of i is  70776\n",
            "The value of i is  70777\n",
            "The value of i is  70778\n",
            "The value of i is  70779\n",
            "The value of i is  70780\n",
            "The value of i is  70781\n",
            "The value of i is  70782\n",
            "The value of i is  70783\n",
            "The value of i is  70784\n",
            "The value of i is  70785\n",
            "The value of i is  70786\n",
            "The value of i is  70787\n",
            "The value of i is  70788\n",
            "The value of i is  70789\n",
            "The value of i is  70790\n",
            "The value of i is  70791\n",
            "The value of i is  70792\n",
            "The value of i is  70793\n",
            "The value of i is  70794\n",
            "The value of i is  70795\n",
            "The value of i is  70796\n",
            "The value of i is  70797\n",
            "The value of i is  70798\n",
            "The value of i is  70799\n",
            "The value of i is  70800\n",
            "The value of i is  70801\n",
            "The value of i is  70802\n",
            "The value of i is  70803\n",
            "The value of i is  70804\n",
            "The value of i is  70805\n",
            "The value of i is  70806\n",
            "The value of i is  70807\n",
            "The value of i is  70808\n",
            "The value of i is  70809\n",
            "The value of i is  70810\n",
            "The value of i is  70811\n",
            "The value of i is  70812\n",
            "The value of i is  70813\n",
            "The value of i is  70814\n",
            "The value of i is  70815\n",
            "The value of i is  70816\n",
            "The value of i is  70817\n",
            "The value of i is  70818\n",
            "The value of i is  70819\n",
            "The value of i is  70820\n",
            "The value of i is  70821\n",
            "The value of i is  70822\n",
            "The value of i is  70823\n",
            "The value of i is  70824\n",
            "The value of i is  70825\n",
            "The value of i is  70826\n",
            "The value of i is  70827\n",
            "The value of i is  70828\n",
            "The value of i is  70829\n",
            "The value of i is  70830\n",
            "The value of i is  70831\n",
            "The value of i is  70832\n",
            "The value of i is  70833\n",
            "The value of i is  70834\n",
            "The value of i is  70835\n",
            "The value of i is  70836\n",
            "The value of i is  70837\n",
            "The value of i is  70838\n",
            "The value of i is  70839\n",
            "The value of i is  70840\n",
            "The value of i is  70841\n",
            "The value of i is  70842\n",
            "The value of i is  70843\n",
            "The value of i is  70844\n",
            "The value of i is  70845\n",
            "The value of i is  70846\n",
            "The value of i is  70847\n",
            "The value of i is  70848\n",
            "The value of i is  70849\n",
            "The value of i is  70850\n",
            "The value of i is  70851\n",
            "The value of i is  70852\n",
            "The value of i is  70853\n",
            "The value of i is  70854\n",
            "The value of i is  70855\n",
            "The value of i is  70856\n",
            "The value of i is  70857\n",
            "The value of i is  70858\n",
            "The value of i is  70859\n",
            "The value of i is  70860\n",
            "The value of i is  70861\n",
            "The value of i is  70862\n",
            "The value of i is  70863\n",
            "The value of i is  70864\n",
            "The value of i is  70865\n",
            "The value of i is  70866\n",
            "The value of i is  70867\n",
            "The value of i is  70868\n",
            "The value of i is  70869\n",
            "The value of i is  70870\n",
            "The value of i is  70871\n",
            "The value of i is  70872\n",
            "The value of i is  70873\n",
            "The value of i is  70874\n",
            "The value of i is  70875\n",
            "The value of i is  70876\n",
            "The value of i is  70877\n",
            "The value of i is  70878\n",
            "The value of i is  70879\n",
            "The value of i is  70880\n",
            "The value of i is  70881\n",
            "The value of i is  70882\n",
            "The value of i is  70883\n",
            "The value of i is  70884\n",
            "The value of i is  70885\n",
            "The value of i is  70886\n",
            "The value of i is  70887\n",
            "The value of i is  70888\n",
            "The value of i is  70889\n",
            "The value of i is  70890\n",
            "The value of i is  70891\n",
            "The value of i is  70892\n",
            "The value of i is  70893\n",
            "The value of i is  70894\n",
            "The value of i is  70895\n",
            "The value of i is  70896\n",
            "The value of i is  70897\n",
            "The value of i is  70898\n",
            "The value of i is  70899\n",
            "The value of i is  70900\n",
            "The value of i is  70901\n",
            "The value of i is  70902\n",
            "The value of i is  70903\n",
            "The value of i is  70904\n",
            "The value of i is  70905\n",
            "The value of i is  70906\n",
            "The value of i is  70907\n",
            "The value of i is  70908\n",
            "The value of i is  70909\n",
            "The value of i is  70910\n",
            "The value of i is  70911\n",
            "The value of i is  70912\n",
            "The value of i is  70913\n",
            "The value of i is  70914\n",
            "The value of i is  70915\n",
            "The value of i is  70916\n",
            "The value of i is  70917\n",
            "The value of i is  70918\n",
            "The value of i is  70919\n",
            "The value of i is  70920\n",
            "The value of i is  70921\n",
            "The value of i is  70922\n",
            "The value of i is  70923\n",
            "The value of i is  70924\n",
            "The value of i is  70925\n",
            "The value of i is  70926\n",
            "The value of i is  70927\n",
            "The value of i is  70928\n",
            "The value of i is  70929\n",
            "The value of i is  70930\n",
            "The value of i is  70931\n",
            "The value of i is  70932\n",
            "The value of i is  70933\n",
            "The value of i is  70934\n",
            "The value of i is  70935\n",
            "The value of i is  70936\n",
            "The value of i is  70937\n",
            "The value of i is  70938\n",
            "The value of i is  70939\n",
            "The value of i is  70940\n",
            "The value of i is  70941\n",
            "The value of i is  70942\n",
            "The value of i is  70943\n",
            "The value of i is  70944\n",
            "The value of i is  70945\n",
            "The value of i is  70946\n",
            "The value of i is  70947\n",
            "The value of i is  70948\n",
            "The value of i is  70949\n",
            "The value of i is  70950\n",
            "The value of i is  70951\n",
            "The value of i is  70952\n",
            "The value of i is  70953\n",
            "The value of i is  70954\n",
            "The value of i is  70955\n",
            "The value of i is  70956\n",
            "The value of i is  70957\n",
            "The value of i is  70958\n",
            "The value of i is  70959\n",
            "The value of i is  70960\n",
            "The value of i is  70961\n",
            "The value of i is  70962\n",
            "The value of i is  70963\n",
            "The value of i is  70964\n",
            "The value of i is  70965\n",
            "The value of i is  70966\n",
            "The value of i is  70967\n",
            "The value of i is  70968\n",
            "The value of i is  70969\n",
            "The value of i is  70970\n",
            "The value of i is  70971\n",
            "The value of i is  70972\n",
            "The value of i is  70973\n",
            "The value of i is  70974\n",
            "The value of i is  70975\n",
            "The value of i is  70976\n",
            "The value of i is  70977\n",
            "The value of i is  70978\n",
            "The value of i is  70979\n",
            "The value of i is  70980\n",
            "The value of i is  70981\n",
            "The value of i is  70982\n",
            "The value of i is  70983\n",
            "The value of i is  70984\n",
            "The value of i is  70985\n",
            "The value of i is  70986\n",
            "The value of i is  70987\n",
            "The value of i is  70988\n",
            "The value of i is  70989\n",
            "The value of i is  70990\n",
            "The value of i is  70991\n",
            "The value of i is  70992\n",
            "The value of i is  70993\n",
            "The value of i is  70994\n",
            "The value of i is  70995\n",
            "The value of i is  70996\n",
            "The value of i is  70997\n",
            "The value of i is  70998\n",
            "The value of i is  70999\n",
            "The value of i is  71000\n",
            "The value of i is  71001\n",
            "The value of i is  71002\n",
            "The value of i is  71003\n",
            "The value of i is  71004\n",
            "The value of i is  71005\n",
            "The value of i is  71006\n",
            "The value of i is  71007\n",
            "The value of i is  71008\n",
            "The value of i is  71009\n",
            "The value of i is  71010\n",
            "The value of i is  71011\n",
            "The value of i is  71012\n",
            "The value of i is  71013\n",
            "The value of i is  71014\n",
            "The value of i is  71015\n",
            "The value of i is  71016\n",
            "The value of i is  71017\n",
            "The value of i is  71018\n",
            "The value of i is  71019\n"
          ]
        },
        {
          "output_type": "error",
          "ename": "KeyboardInterrupt",
          "evalue": "ignored",
          "traceback": [
            "\u001b[0;31m---------------------------------------------------------------------------\u001b[0m",
            "\u001b[0;31mKeyboardInterrupt\u001b[0m                         Traceback (most recent call last)",
            "\u001b[0;32m<ipython-input-1-92f13b24b367>\u001b[0m in \u001b[0;36m<module>\u001b[0;34m()\u001b[0m\n\u001b[1;32m      1\u001b[0m \u001b[0mi\u001b[0m \u001b[0;34m=\u001b[0m \u001b[0;36m0\u001b[0m\u001b[0;34m\u001b[0m\u001b[0;34m\u001b[0m\u001b[0m\n\u001b[1;32m      2\u001b[0m \u001b[0;32mwhile\u001b[0m \u001b[0;32mTrue\u001b[0m\u001b[0;34m:\u001b[0m\u001b[0;34m\u001b[0m\u001b[0;34m\u001b[0m\u001b[0m\n\u001b[0;32m----> 3\u001b[0;31m   \u001b[0mprint\u001b[0m\u001b[0;34m(\u001b[0m\u001b[0;34m\"The value of i is \"\u001b[0m\u001b[0;34m,\u001b[0m \u001b[0mi\u001b[0m\u001b[0;34m)\u001b[0m\u001b[0;34m\u001b[0m\u001b[0;34m\u001b[0m\u001b[0m\n\u001b[0m\u001b[1;32m      4\u001b[0m   \u001b[0mi\u001b[0m \u001b[0;34m=\u001b[0m \u001b[0mi\u001b[0m \u001b[0;34m+\u001b[0m \u001b[0;36m1\u001b[0m\u001b[0;34m\u001b[0m\u001b[0;34m\u001b[0m\u001b[0m\n",
            "\u001b[0;32m/usr/local/lib/python3.7/dist-packages/ipykernel/iostream.py\u001b[0m in \u001b[0;36mwrite\u001b[0;34m(self, string)\u001b[0m\n\u001b[1;32m    398\u001b[0m             \u001b[0mis_child\u001b[0m \u001b[0;34m=\u001b[0m \u001b[0;34m(\u001b[0m\u001b[0;32mnot\u001b[0m \u001b[0mself\u001b[0m\u001b[0;34m.\u001b[0m\u001b[0m_is_master_process\u001b[0m\u001b[0;34m(\u001b[0m\u001b[0;34m)\u001b[0m\u001b[0;34m)\u001b[0m\u001b[0;34m\u001b[0m\u001b[0;34m\u001b[0m\u001b[0m\n\u001b[1;32m    399\u001b[0m             \u001b[0;31m# only touch the buffer in the IO thread to avoid races\u001b[0m\u001b[0;34m\u001b[0m\u001b[0;34m\u001b[0m\u001b[0;34m\u001b[0m\u001b[0m\n\u001b[0;32m--> 400\u001b[0;31m             \u001b[0mself\u001b[0m\u001b[0;34m.\u001b[0m\u001b[0mpub_thread\u001b[0m\u001b[0;34m.\u001b[0m\u001b[0mschedule\u001b[0m\u001b[0;34m(\u001b[0m\u001b[0;32mlambda\u001b[0m \u001b[0;34m:\u001b[0m \u001b[0mself\u001b[0m\u001b[0;34m.\u001b[0m\u001b[0m_buffer\u001b[0m\u001b[0;34m.\u001b[0m\u001b[0mwrite\u001b[0m\u001b[0;34m(\u001b[0m\u001b[0mstring\u001b[0m\u001b[0;34m)\u001b[0m\u001b[0;34m)\u001b[0m\u001b[0;34m\u001b[0m\u001b[0;34m\u001b[0m\u001b[0m\n\u001b[0m\u001b[1;32m    401\u001b[0m             \u001b[0;32mif\u001b[0m \u001b[0mis_child\u001b[0m\u001b[0;34m:\u001b[0m\u001b[0;34m\u001b[0m\u001b[0;34m\u001b[0m\u001b[0m\n\u001b[1;32m    402\u001b[0m                 \u001b[0;31m# newlines imply flush in subprocesses\u001b[0m\u001b[0;34m\u001b[0m\u001b[0;34m\u001b[0m\u001b[0;34m\u001b[0m\u001b[0m\n",
            "\u001b[0;32m/usr/local/lib/python3.7/dist-packages/ipykernel/iostream.py\u001b[0m in \u001b[0;36mschedule\u001b[0;34m(self, f)\u001b[0m\n\u001b[1;32m    201\u001b[0m             \u001b[0mself\u001b[0m\u001b[0;34m.\u001b[0m\u001b[0m_events\u001b[0m\u001b[0;34m.\u001b[0m\u001b[0mappend\u001b[0m\u001b[0;34m(\u001b[0m\u001b[0mf\u001b[0m\u001b[0;34m)\u001b[0m\u001b[0;34m\u001b[0m\u001b[0;34m\u001b[0m\u001b[0m\n\u001b[1;32m    202\u001b[0m             \u001b[0;31m# wake event thread (message content is ignored)\u001b[0m\u001b[0;34m\u001b[0m\u001b[0;34m\u001b[0m\u001b[0;34m\u001b[0m\u001b[0m\n\u001b[0;32m--> 203\u001b[0;31m             \u001b[0mself\u001b[0m\u001b[0;34m.\u001b[0m\u001b[0m_event_pipe\u001b[0m\u001b[0;34m.\u001b[0m\u001b[0msend\u001b[0m\u001b[0;34m(\u001b[0m\u001b[0;34mb''\u001b[0m\u001b[0;34m)\u001b[0m\u001b[0;34m\u001b[0m\u001b[0;34m\u001b[0m\u001b[0m\n\u001b[0m\u001b[1;32m    204\u001b[0m         \u001b[0;32melse\u001b[0m\u001b[0;34m:\u001b[0m\u001b[0;34m\u001b[0m\u001b[0;34m\u001b[0m\u001b[0m\n\u001b[1;32m    205\u001b[0m             \u001b[0mf\u001b[0m\u001b[0;34m(\u001b[0m\u001b[0;34m)\u001b[0m\u001b[0;34m\u001b[0m\u001b[0;34m\u001b[0m\u001b[0m\n",
            "\u001b[0;32m/usr/local/lib/python3.7/dist-packages/zmq/sugar/socket.py\u001b[0m in \u001b[0;36msend\u001b[0;34m(self, data, flags, copy, track, routing_id, group)\u001b[0m\n\u001b[1;32m    616\u001b[0m                 )\n\u001b[1;32m    617\u001b[0m             \u001b[0mdata\u001b[0m\u001b[0;34m.\u001b[0m\u001b[0mgroup\u001b[0m \u001b[0;34m=\u001b[0m \u001b[0mgroup\u001b[0m\u001b[0;34m\u001b[0m\u001b[0;34m\u001b[0m\u001b[0m\n\u001b[0;32m--> 618\u001b[0;31m         \u001b[0;32mreturn\u001b[0m \u001b[0msuper\u001b[0m\u001b[0;34m(\u001b[0m\u001b[0;34m)\u001b[0m\u001b[0;34m.\u001b[0m\u001b[0msend\u001b[0m\u001b[0;34m(\u001b[0m\u001b[0mdata\u001b[0m\u001b[0;34m,\u001b[0m \u001b[0mflags\u001b[0m\u001b[0;34m=\u001b[0m\u001b[0mflags\u001b[0m\u001b[0;34m,\u001b[0m \u001b[0mcopy\u001b[0m\u001b[0;34m=\u001b[0m\u001b[0mcopy\u001b[0m\u001b[0;34m,\u001b[0m \u001b[0mtrack\u001b[0m\u001b[0;34m=\u001b[0m\u001b[0mtrack\u001b[0m\u001b[0;34m)\u001b[0m\u001b[0;34m\u001b[0m\u001b[0;34m\u001b[0m\u001b[0m\n\u001b[0m\u001b[1;32m    619\u001b[0m \u001b[0;34m\u001b[0m\u001b[0m\n\u001b[1;32m    620\u001b[0m     def send_multipart(\n",
            "\u001b[0;32mzmq/backend/cython/socket.pyx\u001b[0m in \u001b[0;36mzmq.backend.cython.socket.Socket.send\u001b[0;34m()\u001b[0m\n",
            "\u001b[0;32mzmq/backend/cython/socket.pyx\u001b[0m in \u001b[0;36mzmq.backend.cython.socket.Socket.send\u001b[0;34m()\u001b[0m\n",
            "\u001b[0;32mzmq/backend/cython/socket.pyx\u001b[0m in \u001b[0;36mzmq.backend.cython.socket._send_copy\u001b[0;34m()\u001b[0m\n",
            "\u001b[0;32m/usr/local/lib/python3.7/dist-packages/zmq/backend/cython/checkrc.pxd\u001b[0m in \u001b[0;36mzmq.backend.cython.checkrc._check_rc\u001b[0;34m()\u001b[0m\n",
            "\u001b[0;31mKeyboardInterrupt\u001b[0m: "
          ]
        }
      ]
    },
    {
      "cell_type": "code",
      "source": [
        "i = 0\n",
        "while True:\n",
        "  if i > 100:\n",
        "    break\n",
        "  print(\"The value of i is \", i)\n",
        "  i = i + 1\n",
        "print(\"The loop ended at \", i)"
      ],
      "metadata": {
        "colab": {
          "base_uri": "https://localhost:8080/"
        },
        "id": "p2blOwMxeL2A",
        "outputId": "328d93e8-1a43-4381-eaa0-648f2dd04588"
      },
      "execution_count": null,
      "outputs": [
        {
          "output_type": "stream",
          "name": "stdout",
          "text": [
            "The value of i is  0\n",
            "The value of i is  1\n",
            "The value of i is  2\n",
            "The value of i is  3\n",
            "The value of i is  4\n",
            "The value of i is  5\n",
            "The value of i is  6\n",
            "The value of i is  7\n",
            "The value of i is  8\n",
            "The value of i is  9\n",
            "The value of i is  10\n",
            "The value of i is  11\n",
            "The value of i is  12\n",
            "The value of i is  13\n",
            "The value of i is  14\n",
            "The value of i is  15\n",
            "The value of i is  16\n",
            "The value of i is  17\n",
            "The value of i is  18\n",
            "The value of i is  19\n",
            "The value of i is  20\n",
            "The value of i is  21\n",
            "The value of i is  22\n",
            "The value of i is  23\n",
            "The value of i is  24\n",
            "The value of i is  25\n",
            "The value of i is  26\n",
            "The value of i is  27\n",
            "The value of i is  28\n",
            "The value of i is  29\n",
            "The value of i is  30\n",
            "The value of i is  31\n",
            "The value of i is  32\n",
            "The value of i is  33\n",
            "The value of i is  34\n",
            "The value of i is  35\n",
            "The value of i is  36\n",
            "The value of i is  37\n",
            "The value of i is  38\n",
            "The value of i is  39\n",
            "The value of i is  40\n",
            "The value of i is  41\n",
            "The value of i is  42\n",
            "The value of i is  43\n",
            "The value of i is  44\n",
            "The value of i is  45\n",
            "The value of i is  46\n",
            "The value of i is  47\n",
            "The value of i is  48\n",
            "The value of i is  49\n",
            "The value of i is  50\n",
            "The value of i is  51\n",
            "The value of i is  52\n",
            "The value of i is  53\n",
            "The value of i is  54\n",
            "The value of i is  55\n",
            "The value of i is  56\n",
            "The value of i is  57\n",
            "The value of i is  58\n",
            "The value of i is  59\n",
            "The value of i is  60\n",
            "The value of i is  61\n",
            "The value of i is  62\n",
            "The value of i is  63\n",
            "The value of i is  64\n",
            "The value of i is  65\n",
            "The value of i is  66\n",
            "The value of i is  67\n",
            "The value of i is  68\n",
            "The value of i is  69\n",
            "The value of i is  70\n",
            "The value of i is  71\n",
            "The value of i is  72\n",
            "The value of i is  73\n",
            "The value of i is  74\n",
            "The value of i is  75\n",
            "The value of i is  76\n",
            "The value of i is  77\n",
            "The value of i is  78\n",
            "The value of i is  79\n",
            "The value of i is  80\n",
            "The value of i is  81\n",
            "The value of i is  82\n",
            "The value of i is  83\n",
            "The value of i is  84\n",
            "The value of i is  85\n",
            "The value of i is  86\n",
            "The value of i is  87\n",
            "The value of i is  88\n",
            "The value of i is  89\n",
            "The value of i is  90\n",
            "The value of i is  91\n",
            "The value of i is  92\n",
            "The value of i is  93\n",
            "The value of i is  94\n",
            "The value of i is  95\n",
            "The value of i is  96\n",
            "The value of i is  97\n",
            "The value of i is  98\n",
            "The value of i is  99\n",
            "The value of i is  100\n",
            "The loop ended at  101\n"
          ]
        }
      ]
    },
    {
      "cell_type": "code",
      "source": [
        "for i in range(0, 10):\n",
        "  if i>5:\n",
        "    break\n",
        "  print('the value of i is ', i)"
      ],
      "metadata": {
        "colab": {
          "base_uri": "https://localhost:8080/"
        },
        "id": "kpJHkuVkeevZ",
        "outputId": "1d020449-dd67-4af3-c8d8-345c250d4867"
      },
      "execution_count": null,
      "outputs": [
        {
          "output_type": "stream",
          "name": "stdout",
          "text": [
            "the value of i is  0\n",
            "the value of i is  1\n",
            "the value of i is  2\n",
            "the value of i is  3\n",
            "the value of i is  4\n",
            "the value of i is  5\n"
          ]
        }
      ]
    },
    {
      "cell_type": "markdown",
      "source": [
        "### Continue"
      ],
      "metadata": {
        "id": "jvwYOmZxfAty"
      }
    },
    {
      "cell_type": "code",
      "source": [
        "# skipp the iteration in that loop\n",
        "\n",
        "while condition:\n",
        "  codeline1\n",
        "  codeline2\n",
        "  if condition2:\n",
        "    continue\n",
        "  codeline3\n",
        "  codeline4\n",
        "codeline5\n",
        "codeline6"
      ],
      "metadata": {
        "id": "wCGBG9bDe10U"
      },
      "execution_count": null,
      "outputs": []
    },
    {
      "cell_type": "code",
      "source": [
        "i = 0\n",
        "while i<10:\n",
        "  i=i+1\n",
        "  if (i==5) or (i==7):\n",
        "    print('skipped the value', i)\n",
        "    continue\n",
        "  print('the value of i is', i)\n"
      ],
      "metadata": {
        "colab": {
          "base_uri": "https://localhost:8080/"
        },
        "id": "s85KCm8-fycc",
        "outputId": "994e8064-c0be-4a72-ad28-d1786962f680"
      },
      "execution_count": null,
      "outputs": [
        {
          "output_type": "stream",
          "name": "stdout",
          "text": [
            "the value of i is 1\n",
            "the value of i is 2\n",
            "the value of i is 3\n",
            "the value of i is 4\n",
            "skipped the value 5\n",
            "the value of i is 6\n",
            "skipped the value 7\n",
            "the value of i is 8\n",
            "the value of i is 9\n",
            "the value of i is 10\n"
          ]
        }
      ]
    },
    {
      "cell_type": "code",
      "source": [
        ""
      ],
      "metadata": {
        "id": "e0TxapCdgZb6"
      },
      "execution_count": null,
      "outputs": []
    },
    {
      "cell_type": "markdown",
      "source": [
        "## Error Handling"
      ],
      "metadata": {
        "id": "Jf3yj4kCgwdm"
      }
    },
    {
      "cell_type": "code",
      "source": [
        "a = [10, 20, 30, 'python']\n",
        "\n",
        "sum_list = 0\n",
        "for i in range(0, len(a)):\n",
        "  sum_list = sum_list + a[i]\n",
        "print('sum of list is ', sum_list)"
      ],
      "metadata": {
        "colab": {
          "base_uri": "https://localhost:8080/",
          "height": 217
        },
        "id": "w-F02Kc8gzaR",
        "outputId": "5a1ff55a-7652-4606-81b3-8eacbebb6531"
      },
      "execution_count": null,
      "outputs": [
        {
          "output_type": "error",
          "ename": "TypeError",
          "evalue": "ignored",
          "traceback": [
            "\u001b[0;31m---------------------------------------------------------------------------\u001b[0m",
            "\u001b[0;31mTypeError\u001b[0m                                 Traceback (most recent call last)",
            "\u001b[0;32m<ipython-input-7-fdd400397fa2>\u001b[0m in \u001b[0;36m<module>\u001b[0;34m()\u001b[0m\n\u001b[1;32m      3\u001b[0m \u001b[0msum_list\u001b[0m \u001b[0;34m=\u001b[0m \u001b[0;36m0\u001b[0m\u001b[0;34m\u001b[0m\u001b[0;34m\u001b[0m\u001b[0m\n\u001b[1;32m      4\u001b[0m \u001b[0;32mfor\u001b[0m \u001b[0mi\u001b[0m \u001b[0;32min\u001b[0m \u001b[0mrange\u001b[0m\u001b[0;34m(\u001b[0m\u001b[0;36m0\u001b[0m\u001b[0;34m,\u001b[0m \u001b[0mlen\u001b[0m\u001b[0;34m(\u001b[0m\u001b[0ma\u001b[0m\u001b[0;34m)\u001b[0m\u001b[0;34m)\u001b[0m\u001b[0;34m:\u001b[0m\u001b[0;34m\u001b[0m\u001b[0;34m\u001b[0m\u001b[0m\n\u001b[0;32m----> 5\u001b[0;31m   \u001b[0msum_list\u001b[0m \u001b[0;34m=\u001b[0m \u001b[0msum_list\u001b[0m \u001b[0;34m+\u001b[0m \u001b[0ma\u001b[0m\u001b[0;34m[\u001b[0m\u001b[0mi\u001b[0m\u001b[0;34m]\u001b[0m\u001b[0;34m\u001b[0m\u001b[0;34m\u001b[0m\u001b[0m\n\u001b[0m\u001b[1;32m      6\u001b[0m \u001b[0mprint\u001b[0m\u001b[0;34m(\u001b[0m\u001b[0;34m'sum of list is '\u001b[0m\u001b[0;34m,\u001b[0m \u001b[0msum_list\u001b[0m\u001b[0;34m)\u001b[0m\u001b[0;34m\u001b[0m\u001b[0;34m\u001b[0m\u001b[0m\n",
            "\u001b[0;31mTypeError\u001b[0m: unsupported operand type(s) for +: 'int' and 'str'"
          ]
        }
      ]
    },
    {
      "cell_type": "code",
      "source": [
        "a = [10, 20, 30, '100']\n",
        "\n",
        "sum_list = 0\n",
        "for i in range(0, len(a)):\n",
        "  sum_list = sum_list + int(a[i])\n",
        "print('sum of list is ', sum_list)"
      ],
      "metadata": {
        "colab": {
          "base_uri": "https://localhost:8080/"
        },
        "id": "28H-VJ5Fg1mV",
        "outputId": "1434a942-a0c8-4d22-d586-c617f9aef93d"
      },
      "execution_count": null,
      "outputs": [
        {
          "output_type": "stream",
          "name": "stdout",
          "text": [
            "sum of list is  160\n"
          ]
        }
      ]
    },
    {
      "cell_type": "code",
      "source": [
        "a = [10, 20, 30, 'python']\n",
        "\n",
        "sum_list = 0\n",
        "for i in range(0, len(a)):\n",
        "  sum_list = sum_list + int(a[i])\n",
        "print('sum of list is ', sum_list)"
      ],
      "metadata": {
        "colab": {
          "base_uri": "https://localhost:8080/",
          "height": 217
        },
        "id": "OB0cAZX-g1pG",
        "outputId": "b7948787-983f-449d-ddfb-7395830c55ec"
      },
      "execution_count": null,
      "outputs": [
        {
          "output_type": "error",
          "ename": "ValueError",
          "evalue": "ignored",
          "traceback": [
            "\u001b[0;31m---------------------------------------------------------------------------\u001b[0m",
            "\u001b[0;31mValueError\u001b[0m                                Traceback (most recent call last)",
            "\u001b[0;32m<ipython-input-10-5e6daadbbb06>\u001b[0m in \u001b[0;36m<module>\u001b[0;34m()\u001b[0m\n\u001b[1;32m      3\u001b[0m \u001b[0msum_list\u001b[0m \u001b[0;34m=\u001b[0m \u001b[0;36m0\u001b[0m\u001b[0;34m\u001b[0m\u001b[0;34m\u001b[0m\u001b[0m\n\u001b[1;32m      4\u001b[0m \u001b[0;32mfor\u001b[0m \u001b[0mi\u001b[0m \u001b[0;32min\u001b[0m \u001b[0mrange\u001b[0m\u001b[0;34m(\u001b[0m\u001b[0;36m0\u001b[0m\u001b[0;34m,\u001b[0m \u001b[0mlen\u001b[0m\u001b[0;34m(\u001b[0m\u001b[0ma\u001b[0m\u001b[0;34m)\u001b[0m\u001b[0;34m)\u001b[0m\u001b[0;34m:\u001b[0m\u001b[0;34m\u001b[0m\u001b[0;34m\u001b[0m\u001b[0m\n\u001b[0;32m----> 5\u001b[0;31m   \u001b[0msum_list\u001b[0m \u001b[0;34m=\u001b[0m \u001b[0msum_list\u001b[0m \u001b[0;34m+\u001b[0m \u001b[0mint\u001b[0m\u001b[0;34m(\u001b[0m\u001b[0ma\u001b[0m\u001b[0;34m[\u001b[0m\u001b[0mi\u001b[0m\u001b[0;34m]\u001b[0m\u001b[0;34m)\u001b[0m\u001b[0;34m\u001b[0m\u001b[0;34m\u001b[0m\u001b[0m\n\u001b[0m\u001b[1;32m      6\u001b[0m \u001b[0mprint\u001b[0m\u001b[0;34m(\u001b[0m\u001b[0;34m'sum of list is '\u001b[0m\u001b[0;34m,\u001b[0m \u001b[0msum_list\u001b[0m\u001b[0;34m)\u001b[0m\u001b[0;34m\u001b[0m\u001b[0;34m\u001b[0m\u001b[0m\n",
            "\u001b[0;31mValueError\u001b[0m: invalid literal for int() with base 10: 'python'"
          ]
        }
      ]
    },
    {
      "cell_type": "code",
      "source": [
        "a = [10, 20, 30, 'python']\n",
        "\n",
        "sum_list = 0\n",
        "for i in range(0, len(a)):\n",
        "  if type(a[i]) == str:\n",
        "    continue\n",
        "  sum_list = sum_list + a[i]\n",
        "print('sum of list is ', sum_list)"
      ],
      "metadata": {
        "colab": {
          "base_uri": "https://localhost:8080/"
        },
        "id": "38FZI2_dg1sA",
        "outputId": "cd5fadf8-ad47-4368-8a35-504041efc3f8"
      },
      "execution_count": null,
      "outputs": [
        {
          "output_type": "stream",
          "name": "stdout",
          "text": [
            "sum of list is  60\n"
          ]
        }
      ]
    },
    {
      "cell_type": "code",
      "source": [
        "a = [10, 20, 30, 'python', [20, 30], 100]\n",
        "\n",
        "sum_list = 0\n",
        "for i in range(0, len(a)):\n",
        "  if type(a[i]) == str:\n",
        "    continue\n",
        "  sum_list = sum_list + a[i]\n",
        "print('sum of list is ', sum_list)"
      ],
      "metadata": {
        "colab": {
          "base_uri": "https://localhost:8080/",
          "height": 217
        },
        "id": "5s515wa-g1ur",
        "outputId": "7c931fb6-d7e2-410e-d927-65930eac61ff"
      },
      "execution_count": null,
      "outputs": [
        {
          "output_type": "error",
          "ename": "TypeError",
          "evalue": "ignored",
          "traceback": [
            "\u001b[0;31m---------------------------------------------------------------------------\u001b[0m",
            "\u001b[0;31mTypeError\u001b[0m                                 Traceback (most recent call last)",
            "\u001b[0;32m<ipython-input-13-3eccf71d9d91>\u001b[0m in \u001b[0;36m<module>\u001b[0;34m()\u001b[0m\n\u001b[1;32m      5\u001b[0m   \u001b[0;32mif\u001b[0m \u001b[0mtype\u001b[0m\u001b[0;34m(\u001b[0m\u001b[0ma\u001b[0m\u001b[0;34m[\u001b[0m\u001b[0mi\u001b[0m\u001b[0;34m]\u001b[0m\u001b[0;34m)\u001b[0m \u001b[0;34m==\u001b[0m \u001b[0mstr\u001b[0m\u001b[0;34m:\u001b[0m\u001b[0;34m\u001b[0m\u001b[0;34m\u001b[0m\u001b[0m\n\u001b[1;32m      6\u001b[0m     \u001b[0;32mcontinue\u001b[0m\u001b[0;34m\u001b[0m\u001b[0;34m\u001b[0m\u001b[0m\n\u001b[0;32m----> 7\u001b[0;31m   \u001b[0msum_list\u001b[0m \u001b[0;34m=\u001b[0m \u001b[0msum_list\u001b[0m \u001b[0;34m+\u001b[0m \u001b[0ma\u001b[0m\u001b[0;34m[\u001b[0m\u001b[0mi\u001b[0m\u001b[0;34m]\u001b[0m\u001b[0;34m\u001b[0m\u001b[0;34m\u001b[0m\u001b[0m\n\u001b[0m\u001b[1;32m      8\u001b[0m \u001b[0mprint\u001b[0m\u001b[0;34m(\u001b[0m\u001b[0;34m'sum of list is '\u001b[0m\u001b[0;34m,\u001b[0m \u001b[0msum_list\u001b[0m\u001b[0;34m)\u001b[0m\u001b[0;34m\u001b[0m\u001b[0;34m\u001b[0m\u001b[0m\n",
            "\u001b[0;31mTypeError\u001b[0m: unsupported operand type(s) for +: 'int' and 'list'"
          ]
        }
      ]
    },
    {
      "cell_type": "code",
      "source": [
        "a = [10, 20, 30, 'python', [20, 30], 100]\n",
        "\n",
        "sum_list = 0\n",
        "for i in range(0, len(a)):\n",
        "  try:\n",
        "    sum_list = sum_list + a[i]\n",
        "  except:\n",
        "    print(\"Skipped due to error for \", a[i])\n",
        "    continue\n",
        "print('sum of list is ', sum_list)"
      ],
      "metadata": {
        "colab": {
          "base_uri": "https://localhost:8080/"
        },
        "id": "nX53XPhJg1xu",
        "outputId": "a03110da-3613-4ddb-d3ff-cbec33596beb"
      },
      "execution_count": null,
      "outputs": [
        {
          "output_type": "stream",
          "name": "stdout",
          "text": [
            "Skipped due to error for  python\n",
            "Skipped due to error for  [20, 30]\n",
            "sum of list is  160\n"
          ]
        }
      ]
    },
    {
      "cell_type": "code",
      "source": [
        "a = [10, 20, 30, 'python', [20, 30], 100]\n",
        "\n",
        "sum_list = 0\n",
        "for i in range(0, len(a)):\n",
        "  try:\n",
        "    sum_list = sum_list + a[i]\n",
        "  except Exception as e:\n",
        "    print(\"Error!! :\", e)\n",
        "    print(\"Skipped due to error for \", a[i])\n",
        "    continue\n",
        "print('sum of list is ', sum_list)"
      ],
      "metadata": {
        "colab": {
          "base_uri": "https://localhost:8080/"
        },
        "id": "Tdo0vwLXg155",
        "outputId": "aa2462cd-14ad-4b1a-f70b-6c95a694330d"
      },
      "execution_count": null,
      "outputs": [
        {
          "output_type": "stream",
          "name": "stdout",
          "text": [
            "Error!! : unsupported operand type(s) for +: 'int' and 'str'\n",
            "Skipped due to error for  python\n",
            "Error!! : unsupported operand type(s) for +: 'int' and 'list'\n",
            "Skipped due to error for  [20, 30]\n",
            "sum of list is  160\n"
          ]
        }
      ]
    },
    {
      "cell_type": "code",
      "source": [
        "a = [10, 20, 30, 'python', [20, 30], 100]\n",
        "\n",
        "sum_list = 0\n",
        "for i in range(0, len(a)):\n",
        "  try:\n",
        "    sum_list = sum_list + a[i]\n",
        "  except KeyboardInterrupt:\n",
        "    break\n",
        "  except TypeError:\n",
        "    print(\"Skipped due to error for \", a[i])\n",
        "    continue\n",
        "  except ValueError:\n",
        "    print(\"Got value error\")\n",
        "    continue\n",
        "\n",
        "print('sum of list is ', sum_list)"
      ],
      "metadata": {
        "colab": {
          "base_uri": "https://localhost:8080/"
        },
        "id": "5dY3eRyFjLpw",
        "outputId": "accc7b68-395e-494c-ac64-37792131a07b"
      },
      "execution_count": null,
      "outputs": [
        {
          "output_type": "stream",
          "name": "stdout",
          "text": [
            "Skipped due to error for  python\n",
            "Skipped due to error for  [20, 30]\n",
            "sum of list is  160\n"
          ]
        }
      ]
    },
    {
      "cell_type": "code",
      "source": [
        ""
      ],
      "metadata": {
        "id": "BU_EGWC5jo9n"
      },
      "execution_count": null,
      "outputs": []
    },
    {
      "cell_type": "markdown",
      "source": [
        "## Map, Filter and Reduce"
      ],
      "metadata": {
        "id": "zGOGSJ7tkmAl"
      }
    },
    {
      "cell_type": "markdown",
      "source": [
        "### Map"
      ],
      "metadata": {
        "id": "GpKXNHZUlTBP"
      }
    },
    {
      "cell_type": "code",
      "source": [
        "map(function_name, list_of_inputs)"
      ],
      "metadata": {
        "id": "lKUzZJQnko4A"
      },
      "execution_count": null,
      "outputs": []
    },
    {
      "cell_type": "code",
      "source": [
        "def squaring_number(input_num):\n",
        "  return input_num * input_num\n",
        "\n",
        "a = [1,2,3,4,5]\n",
        "squaring_number(a)"
      ],
      "metadata": {
        "colab": {
          "base_uri": "https://localhost:8080/",
          "height": 321
        },
        "id": "e4rvpSC8kypS",
        "outputId": "7eb2edb2-f1dc-4b31-994b-82009f22413d"
      },
      "execution_count": null,
      "outputs": [
        {
          "output_type": "error",
          "ename": "TypeError",
          "evalue": "ignored",
          "traceback": [
            "\u001b[0;31m---------------------------------------------------------------------------\u001b[0m",
            "\u001b[0;31mTypeError\u001b[0m                                 Traceback (most recent call last)",
            "\u001b[0;32m<ipython-input-20-39226a9da3d1>\u001b[0m in \u001b[0;36m<module>\u001b[0;34m()\u001b[0m\n\u001b[1;32m      3\u001b[0m \u001b[0;34m\u001b[0m\u001b[0m\n\u001b[1;32m      4\u001b[0m \u001b[0ma\u001b[0m \u001b[0;34m=\u001b[0m \u001b[0;34m[\u001b[0m\u001b[0;36m1\u001b[0m\u001b[0;34m,\u001b[0m\u001b[0;36m2\u001b[0m\u001b[0;34m,\u001b[0m\u001b[0;36m3\u001b[0m\u001b[0;34m,\u001b[0m\u001b[0;36m4\u001b[0m\u001b[0;34m,\u001b[0m\u001b[0;36m5\u001b[0m\u001b[0;34m]\u001b[0m\u001b[0;34m\u001b[0m\u001b[0;34m\u001b[0m\u001b[0m\n\u001b[0;32m----> 5\u001b[0;31m \u001b[0msquaring_number\u001b[0m\u001b[0;34m(\u001b[0m\u001b[0ma\u001b[0m\u001b[0;34m)\u001b[0m\u001b[0;34m\u001b[0m\u001b[0;34m\u001b[0m\u001b[0m\n\u001b[0m",
            "\u001b[0;32m<ipython-input-20-39226a9da3d1>\u001b[0m in \u001b[0;36msquaring_number\u001b[0;34m(input_num)\u001b[0m\n\u001b[1;32m      1\u001b[0m \u001b[0;32mdef\u001b[0m \u001b[0msquaring_number\u001b[0m\u001b[0;34m(\u001b[0m\u001b[0minput_num\u001b[0m\u001b[0;34m)\u001b[0m\u001b[0;34m:\u001b[0m\u001b[0;34m\u001b[0m\u001b[0;34m\u001b[0m\u001b[0m\n\u001b[0;32m----> 2\u001b[0;31m   \u001b[0;32mreturn\u001b[0m \u001b[0minput_num\u001b[0m \u001b[0;34m*\u001b[0m \u001b[0minput_num\u001b[0m\u001b[0;34m\u001b[0m\u001b[0;34m\u001b[0m\u001b[0m\n\u001b[0m\u001b[1;32m      3\u001b[0m \u001b[0;34m\u001b[0m\u001b[0m\n\u001b[1;32m      4\u001b[0m \u001b[0ma\u001b[0m \u001b[0;34m=\u001b[0m \u001b[0;34m[\u001b[0m\u001b[0;36m1\u001b[0m\u001b[0;34m,\u001b[0m\u001b[0;36m2\u001b[0m\u001b[0;34m,\u001b[0m\u001b[0;36m3\u001b[0m\u001b[0;34m,\u001b[0m\u001b[0;36m4\u001b[0m\u001b[0;34m,\u001b[0m\u001b[0;36m5\u001b[0m\u001b[0;34m]\u001b[0m\u001b[0;34m\u001b[0m\u001b[0;34m\u001b[0m\u001b[0m\n\u001b[1;32m      5\u001b[0m \u001b[0msquaring_number\u001b[0m\u001b[0;34m(\u001b[0m\u001b[0ma\u001b[0m\u001b[0;34m)\u001b[0m\u001b[0;34m\u001b[0m\u001b[0;34m\u001b[0m\u001b[0m\n",
            "\u001b[0;31mTypeError\u001b[0m: can't multiply sequence by non-int of type 'list'"
          ]
        }
      ]
    },
    {
      "cell_type": "code",
      "source": [
        "output_list = []\n",
        "a = [1,2,3,4,5]\n",
        "for item in a:\n",
        "  output_list.append(squaring_number(item))\n",
        "output_list"
      ],
      "metadata": {
        "colab": {
          "base_uri": "https://localhost:8080/"
        },
        "id": "gGzSUrHBkyxo",
        "outputId": "28599aac-5798-41c9-de23-0b5c24d35abd"
      },
      "execution_count": null,
      "outputs": [
        {
          "output_type": "execute_result",
          "data": {
            "text/plain": [
              "[1, 4, 9, 16, 25]"
            ]
          },
          "metadata": {},
          "execution_count": 21
        }
      ]
    },
    {
      "cell_type": "code",
      "source": [
        "a = [1,2,3,4,5]\n",
        "list(map(squaring_number, a))"
      ],
      "metadata": {
        "colab": {
          "base_uri": "https://localhost:8080/"
        },
        "id": "vGP2M0ajky0d",
        "outputId": "9b7a8055-7bc1-4a34-f9e2-2eaa65092047"
      },
      "execution_count": null,
      "outputs": [
        {
          "output_type": "execute_result",
          "data": {
            "text/plain": [
              "[1, 4, 9, 16, 25]"
            ]
          },
          "metadata": {},
          "execution_count": 23
        }
      ]
    },
    {
      "cell_type": "code",
      "source": [
        "# Lambda function\n",
        "a = [1,2,3,4,5]\n",
        "list(map(lambda x: x * x, a))"
      ],
      "metadata": {
        "colab": {
          "base_uri": "https://localhost:8080/"
        },
        "id": "-jJCjtXTky3d",
        "outputId": "64a6560c-4056-49e4-dbc4-e6a91b8501c0"
      },
      "execution_count": null,
      "outputs": [
        {
          "output_type": "execute_result",
          "data": {
            "text/plain": [
              "[1, 4, 9, 16, 25]"
            ]
          },
          "metadata": {},
          "execution_count": 24
        }
      ]
    },
    {
      "cell_type": "markdown",
      "source": [
        "### Filter"
      ],
      "metadata": {
        "id": "Y8QzwKq_nRhe"
      }
    },
    {
      "cell_type": "code",
      "source": [
        "filter(function, list_of_inputs)"
      ],
      "metadata": {
        "id": "w3nlDBo4nnzN"
      },
      "execution_count": null,
      "outputs": []
    },
    {
      "cell_type": "code",
      "source": [
        "a = [1,2,3,4,5,6,7,8]\n",
        "output_list = []\n",
        "for item in a:\n",
        "  if item %2 == 0:\n",
        "    output_list.append(item)\n",
        "output_list"
      ],
      "metadata": {
        "colab": {
          "base_uri": "https://localhost:8080/"
        },
        "id": "N8mGJKpzky89",
        "outputId": "ad9b9656-f349-422d-fced-2ce02b791940"
      },
      "execution_count": null,
      "outputs": [
        {
          "output_type": "execute_result",
          "data": {
            "text/plain": [
              "[2, 4, 6, 8]"
            ]
          },
          "metadata": {},
          "execution_count": 28
        }
      ]
    },
    {
      "cell_type": "code",
      "source": [
        "a = [1,2,3,4,5,6,7,8]\n",
        "list(filter(lambda x: x%2 == 0, a))"
      ],
      "metadata": {
        "colab": {
          "base_uri": "https://localhost:8080/"
        },
        "id": "RwKad3gQky_x",
        "outputId": "b0451c40-6cac-4c58-b791-7972d7486ed7"
      },
      "execution_count": null,
      "outputs": [
        {
          "output_type": "execute_result",
          "data": {
            "text/plain": [
              "[2, 4, 6, 8]"
            ]
          },
          "metadata": {},
          "execution_count": 29
        }
      ]
    },
    {
      "cell_type": "code",
      "source": [
        "def check_value(input_num):\n",
        "  input_num = input_num + 100\n",
        "  if input_num %2 == 0:\n",
        "    return True\n",
        "  else:\n",
        "    return False\n",
        "\n",
        "list(filter(check_value, a))"
      ],
      "metadata": {
        "colab": {
          "base_uri": "https://localhost:8080/"
        },
        "id": "JJ5k4gq2kzMD",
        "outputId": "eedef377-04c1-4b13-83a6-c4285a518c71"
      },
      "execution_count": null,
      "outputs": [
        {
          "output_type": "execute_result",
          "data": {
            "text/plain": [
              "[2, 4, 6, 8]"
            ]
          },
          "metadata": {},
          "execution_count": 31
        }
      ]
    },
    {
      "cell_type": "markdown",
      "source": [
        "### Reduce"
      ],
      "metadata": {
        "id": "fmNYytsqpIjc"
      }
    },
    {
      "cell_type": "code",
      "source": [
        "reduce(function_name, input_list)"
      ],
      "metadata": {
        "id": "UfjlQdidp2oH"
      },
      "execution_count": null,
      "outputs": []
    },
    {
      "cell_type": "code",
      "source": [
        "input_list = [1,2,3,4,5,6]\n",
        "prod_list = 1\n",
        "for item in input_list:\n",
        "  prod_list = prod_list * item\n",
        "prod_list"
      ],
      "metadata": {
        "colab": {
          "base_uri": "https://localhost:8080/"
        },
        "id": "EQGkRIvnV-Oa",
        "outputId": "051e7481-6ee3-4299-e8ec-e9f99f707afe"
      },
      "execution_count": null,
      "outputs": [
        {
          "output_type": "execute_result",
          "data": {
            "text/plain": [
              "720"
            ]
          },
          "metadata": {},
          "execution_count": 1
        }
      ]
    },
    {
      "cell_type": "code",
      "source": [
        "from functools import reduce\n",
        "reduce(lambda x, y: x*y, input_list)"
      ],
      "metadata": {
        "colab": {
          "base_uri": "https://localhost:8080/"
        },
        "id": "2S0car93W4oX",
        "outputId": "3c26009b-36c6-4b72-964f-2213ffdb5012"
      },
      "execution_count": null,
      "outputs": [
        {
          "output_type": "execute_result",
          "data": {
            "text/plain": [
              "720"
            ]
          },
          "metadata": {},
          "execution_count": 14
        }
      ]
    },
    {
      "cell_type": "code",
      "source": [
        "reduce(lambda x, y: x+y, input_list)"
      ],
      "metadata": {
        "colab": {
          "base_uri": "https://localhost:8080/"
        },
        "id": "5a9cpoS-Xbqd",
        "outputId": "c3a08fba-438a-4145-a03c-36853f4dc573"
      },
      "execution_count": null,
      "outputs": [
        {
          "output_type": "execute_result",
          "data": {
            "text/plain": [
              "21"
            ]
          },
          "metadata": {},
          "execution_count": 15
        }
      ]
    },
    {
      "cell_type": "code",
      "source": [
        ""
      ],
      "metadata": {
        "id": "ux6m3V3UX2WG"
      },
      "execution_count": null,
      "outputs": []
    }
  ]
}