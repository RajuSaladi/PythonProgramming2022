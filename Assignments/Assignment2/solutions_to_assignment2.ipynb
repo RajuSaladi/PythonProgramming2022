{
 "cells": [
  {
   "cell_type": "markdown",
   "id": "13508ddd",
   "metadata": {},
   "source": [
    "# Write a program to store the following data in dictionaries\n",
    "    * EqUipment Name - Brand - Watt\n",
    "    * Fan - Havells - 200 Watts\n",
    "    * Tubelight - Crompton - 100 Watts\n",
    "    * Stove - Prestige - None\n",
    "    * Refridgerator - LG - 750 Watts\n",
    "    * Washing Machine - Bosch - 1000 Watts\n",
    "    * Dish Washer - Bosch - 1200 Watts\n",
    "\n",
    "    Hint: Dictonary can be accesed by the Equipment name i.e., a['Fan'] = ['Havells', 200]\n",
    "    {'Fan': ['Havells', 200], 'Tubelight': [\"Crompton\", 100].......}"
   ]
  },
  {
   "cell_type": "code",
   "execution_count": 1,
   "id": "667c7067",
   "metadata": {},
   "outputs": [],
   "source": [
    "equipment_dict = {}\n",
    "equipment_dict['Fan'] = ['Havells', 200]\n",
    "equipment_dict['Tubelight'] = ['Crompton', 100]\n",
    "equipment_dict['Stove'] = ['Prestige', None]\n",
    "equipment_dict['Refridgerator'] = ['LG', 750]\n",
    "equipment_dict['Washing Machine'] = ['Bosch', 1000]\n",
    "equipment_dict['Dish Washer'] = ['Bosch', 1200]\n"
   ]
  },
  {
   "cell_type": "code",
   "execution_count": 2,
   "id": "1429dbf9",
   "metadata": {},
   "outputs": [
    {
     "data": {
      "text/plain": [
       "{'Fan': ['Havells', 200],\n",
       " 'Tubelight': ['Crompton', 100],\n",
       " 'Stove': ['Prestige', None],\n",
       " 'Refridgerator': ['LG', 750],\n",
       " 'Washing Machine': ['Bosch', 1000],\n",
       " 'Dish Washer': ['Bosch', 1200]}"
      ]
     },
     "execution_count": 2,
     "metadata": {},
     "output_type": "execute_result"
    }
   ],
   "source": [
    "equipment_dict"
   ]
  },
  {
   "cell_type": "code",
   "execution_count": 3,
   "id": "de5e70f4",
   "metadata": {},
   "outputs": [
    {
     "data": {
      "text/plain": [
       "6"
      ]
     },
     "execution_count": 3,
     "metadata": {},
     "output_type": "execute_result"
    }
   ],
   "source": [
    "len(equipment_dict)"
   ]
  },
  {
   "cell_type": "markdown",
   "id": "394e2782",
   "metadata": {},
   "source": [
    "### a) Print the total sum of watts of equipment in house"
   ]
  },
  {
   "cell_type": "code",
   "execution_count": 5,
   "id": "1ffacc40",
   "metadata": {},
   "outputs": [
    {
     "data": {
      "text/plain": [
       "3250"
      ]
     },
     "execution_count": 5,
     "metadata": {},
     "output_type": "execute_result"
    }
   ],
   "source": [
    "total_sum_of_watts = 0\n",
    "for this_equipment in equipment_dict.keys():\n",
    "    this_wattage = equipment_dict[this_equipment][1]\n",
    "    if this_wattage is not None:\n",
    "        total_sum_of_watts = total_sum_of_watts + this_wattage\n",
    "total_sum_of_watts"
   ]
  },
  {
   "cell_type": "markdown",
   "id": "df1b7d57",
   "metadata": {},
   "source": [
    "### b) Find the Equipment/s having highest wattage"
   ]
  },
  {
   "cell_type": "code",
   "execution_count": 7,
   "id": "828c0e9f",
   "metadata": {},
   "outputs": [
    {
     "name": "stdout",
     "output_type": "stream",
     "text": [
      "Highest wattage of 1200 watts for Dish Washer\n"
     ]
    }
   ],
   "source": [
    "max_wattage_equipment = None\n",
    "max_wattage = 0\n",
    "for this_equipment in equipment_dict.keys():\n",
    "    this_wattage = equipment_dict[this_equipment][1]\n",
    "    if this_wattage is None:\n",
    "        continue\n",
    "    if this_wattage > max_wattage:\n",
    "        max_wattage = this_wattage\n",
    "        max_wattage_equipment = this_equipment\n",
    "print(f\"Highest wattage of {max_wattage} watts for {max_wattage_equipment}\")"
   ]
  },
  {
   "cell_type": "markdown",
   "id": "c90ea1c6",
   "metadata": {},
   "source": [
    "### c) Add new equipment \n",
    "    Mixture - Prestige - 350 Watts"
   ]
  },
  {
   "cell_type": "code",
   "execution_count": 8,
   "id": "f49b1a4e",
   "metadata": {},
   "outputs": [
    {
     "data": {
      "text/plain": [
       "{'Fan': ['Havells', 200],\n",
       " 'Tubelight': ['Crompton', 100],\n",
       " 'Stove': ['Prestige', None],\n",
       " 'Refridgerator': ['LG', 750],\n",
       " 'Washing Machine': ['Bosch', 1000],\n",
       " 'Dish Washer': ['Bosch', 1200]}"
      ]
     },
     "execution_count": 8,
     "metadata": {},
     "output_type": "execute_result"
    }
   ],
   "source": [
    "equipment_dict"
   ]
  },
  {
   "cell_type": "code",
   "execution_count": 9,
   "id": "6d754c25",
   "metadata": {},
   "outputs": [
    {
     "data": {
      "text/plain": [
       "{'Fan': ['Havells', 200],\n",
       " 'Tubelight': ['Crompton', 100],\n",
       " 'Stove': ['Prestige', None],\n",
       " 'Refridgerator': ['LG', 750],\n",
       " 'Washing Machine': ['Bosch', 1000],\n",
       " 'Dish Washer': ['Bosch', 1200],\n",
       " 'Mixture': ['Prestige', 350]}"
      ]
     },
     "execution_count": 9,
     "metadata": {},
     "output_type": "execute_result"
    }
   ],
   "source": [
    "equipment_dict['Mixture'] = ['Prestige', 350]\n",
    "equipment_dict"
   ]
  },
  {
   "cell_type": "markdown",
   "id": "b610c313",
   "metadata": {},
   "source": [
    "### d) Change Brand of Tubelight to \"Phillip\" in the dictionary"
   ]
  },
  {
   "cell_type": "code",
   "execution_count": 10,
   "id": "eefa9e97",
   "metadata": {},
   "outputs": [
    {
     "data": {
      "text/plain": [
       "['Crompton', 100]"
      ]
     },
     "execution_count": 10,
     "metadata": {},
     "output_type": "execute_result"
    }
   ],
   "source": [
    "equipment_dict['Tubelight']"
   ]
  },
  {
   "cell_type": "code",
   "execution_count": 11,
   "id": "f18b90d3",
   "metadata": {},
   "outputs": [
    {
     "data": {
      "text/plain": [
       "{'Fan': ['Havells', 200],\n",
       " 'Tubelight': ['Phillip', 100],\n",
       " 'Stove': ['Prestige', None],\n",
       " 'Refridgerator': ['LG', 750],\n",
       " 'Washing Machine': ['Bosch', 1000],\n",
       " 'Dish Washer': ['Bosch', 1200],\n",
       " 'Mixture': ['Prestige', 350]}"
      ]
     },
     "execution_count": 11,
     "metadata": {},
     "output_type": "execute_result"
    }
   ],
   "source": [
    "equipment_dict['Tubelight'][0] = 'Phillip'\n",
    "equipment_dict"
   ]
  },
  {
   "cell_type": "markdown",
   "id": "64b178a0",
   "metadata": {},
   "source": [
    "# 2. Use the try-except and solve the error while running program.py"
   ]
  },
  {
   "cell_type": "raw",
   "id": "35c6a082",
   "metadata": {},
   "source": [
    "a = [1, 2, 3, 4, 0, -1, 10]\n",
    "b = [10, 20, 3, 40, 5, 2, 20]\n",
    "\n",
    "output_list = []\n",
    "for i in range(0, len(a)):\n",
    "    c = b[i]/a[i] \n",
    "    if c > 0:\n",
    "        output_list.append(c)\n",
    "    else:\n",
    "        break\n",
    "print(\"output_list\", output_list)\n"
   ]
  },
  {
   "cell_type": "code",
   "execution_count": 12,
   "id": "5f4fa7ce",
   "metadata": {},
   "outputs": [
    {
     "ename": "ZeroDivisionError",
     "evalue": "division by zero",
     "output_type": "error",
     "traceback": [
      "\u001b[1;31m---------------------------------------------------------------------------\u001b[0m",
      "\u001b[1;31mZeroDivisionError\u001b[0m                         Traceback (most recent call last)",
      "Input \u001b[1;32mIn [12]\u001b[0m, in \u001b[0;36m<cell line: 5>\u001b[1;34m()\u001b[0m\n\u001b[0;32m      4\u001b[0m output_list \u001b[38;5;241m=\u001b[39m []\n\u001b[0;32m      5\u001b[0m \u001b[38;5;28;01mfor\u001b[39;00m i \u001b[38;5;129;01min\u001b[39;00m \u001b[38;5;28mrange\u001b[39m(\u001b[38;5;241m0\u001b[39m, \u001b[38;5;28mlen\u001b[39m(a)):\n\u001b[1;32m----> 6\u001b[0m     c \u001b[38;5;241m=\u001b[39m \u001b[43mb\u001b[49m\u001b[43m[\u001b[49m\u001b[43mi\u001b[49m\u001b[43m]\u001b[49m\u001b[38;5;241;43m/\u001b[39;49m\u001b[43ma\u001b[49m\u001b[43m[\u001b[49m\u001b[43mi\u001b[49m\u001b[43m]\u001b[49m \n\u001b[0;32m      7\u001b[0m     \u001b[38;5;28;01mif\u001b[39;00m c \u001b[38;5;241m>\u001b[39m \u001b[38;5;241m0\u001b[39m:\n\u001b[0;32m      8\u001b[0m         output_list\u001b[38;5;241m.\u001b[39mappend(c)\n",
      "\u001b[1;31mZeroDivisionError\u001b[0m: division by zero"
     ]
    }
   ],
   "source": [
    "a = [1, 2, 3, 4, 0, -1, 10]\n",
    "b = [10, 20, 3, 40, 5, 2, 20]\n",
    "\n",
    "output_list = []\n",
    "for i in range(0, len(a)):\n",
    "    c = b[i]/a[i] \n",
    "    if c > 0:\n",
    "        output_list.append(c)\n",
    "    else:\n",
    "        break\n",
    "print(\"output_list\", output_list)"
   ]
  },
  {
   "cell_type": "code",
   "execution_count": 13,
   "id": "7eb8f610",
   "metadata": {},
   "outputs": [
    {
     "name": "stdout",
     "output_type": "stream",
     "text": [
      "Skipping becuase of zero division error\n",
      "output_list [10.0, 10.0, 1.0, 10.0]\n"
     ]
    }
   ],
   "source": [
    "a = [1, 2, 3, 4, 0, -1, 10]\n",
    "b = [10, 20, 3, 40, 5, 2, 20]\n",
    "\n",
    "output_list = []\n",
    "for i in range(0, len(a)):\n",
    "    try:\n",
    "        c = b[i]/a[i]\n",
    "    except ZeroDivisionError:\n",
    "        print(\"Skipping becuase of zero division error\")\n",
    "        continue\n",
    "    if c > 0:\n",
    "        output_list.append(c)\n",
    "    else:\n",
    "        break\n",
    "print(\"output_list\", output_list)"
   ]
  },
  {
   "cell_type": "markdown",
   "id": "298e54cc",
   "metadata": {},
   "source": [
    "# 3. Use Map function to compute squareroot of each element in the list [10, 20, 30, 40, 2, 3, 100] and then filter the elemnts having square root value which are greater than 5"
   ]
  },
  {
   "cell_type": "code",
   "execution_count": 16,
   "id": "cce151e8",
   "metadata": {},
   "outputs": [
    {
     "data": {
      "text/plain": [
       "[3.1622776601683795,\n",
       " 4.47213595499958,\n",
       " 5.477225575051661,\n",
       " 6.324555320336759,\n",
       " 1.4142135623730951,\n",
       " 1.7320508075688772,\n",
       " 10.0]"
      ]
     },
     "execution_count": 16,
     "metadata": {},
     "output_type": "execute_result"
    }
   ],
   "source": [
    "import math\n",
    "\n",
    "square_root_values_list = list(map(lambda x: math.sqrt(x), [10, 20, 30, 40, 2, 3, 100]))\n",
    "square_root_values_list"
   ]
  },
  {
   "cell_type": "code",
   "execution_count": 18,
   "id": "7d13f819",
   "metadata": {},
   "outputs": [
    {
     "data": {
      "text/plain": [
       "[5.477225575051661, 6.324555320336759, 10.0]"
      ]
     },
     "execution_count": 18,
     "metadata": {},
     "output_type": "execute_result"
    }
   ],
   "source": [
    "list(filter(lambda x: x>5, square_root_values_list))"
   ]
  },
  {
   "cell_type": "markdown",
   "id": "33b83ee0",
   "metadata": {},
   "source": [
    "# 4. Write a Function to add each element in two lists and return the output. Function name should be add_two_lists\n",
    "    Hint: if we call\n",
    "    input_list1 = [10, 20, 30]\n",
    "    input_list2 = [50, 60, 70]\n",
    "    add_two_lists(input_list1, input_list2) should return [60, 80, 100]"
   ]
  },
  {
   "cell_type": "code",
   "execution_count": 20,
   "id": "d2389291",
   "metadata": {},
   "outputs": [
    {
     "name": "stdout",
     "output_type": "stream",
     "text": [
      "[60, 80, 100]\n"
     ]
    }
   ],
   "source": [
    "input_list1 = [10, 20, 30]\n",
    "input_list2 = [50, 60, 70]\n",
    "output_list = []\n",
    "for i in range(0, len(input_list1)):\n",
    "    this_sum = input_list1[i] + input_list2[i]\n",
    "    output_list.append(this_sum)\n",
    "print(output_list)"
   ]
  },
  {
   "cell_type": "code",
   "execution_count": 21,
   "id": "a950b4cf",
   "metadata": {},
   "outputs": [
    {
     "data": {
      "text/plain": [
       "[5, 7, 9]"
      ]
     },
     "execution_count": 21,
     "metadata": {},
     "output_type": "execute_result"
    }
   ],
   "source": [
    "def add_two_lists(input_list1, input_list2):\n",
    "    output_list = []\n",
    "    for i in range(0, len(input_list1)):\n",
    "        this_sum = input_list1[i] + input_list2[i]\n",
    "        output_list.append(this_sum)\n",
    "    return output_list\n",
    "\n",
    "add_two_lists([1,2,3], [4, 5, 6])"
   ]
  },
  {
   "cell_type": "markdown",
   "id": "29b1c18d",
   "metadata": {},
   "source": [
    "## b) The Program should handle the error when different size of input_lists are given in above function\n",
    "        Hint: if   input_list1 = [10, 20, 30], input_list2 =  [50], Then it would give error. The function should handle this kind of error."
   ]
  },
  {
   "cell_type": "code",
   "execution_count": 22,
   "id": "f87ec023",
   "metadata": {},
   "outputs": [
    {
     "ename": "IndexError",
     "evalue": "list index out of range",
     "output_type": "error",
     "traceback": [
      "\u001b[1;31m---------------------------------------------------------------------------\u001b[0m",
      "\u001b[1;31mIndexError\u001b[0m                                Traceback (most recent call last)",
      "Input \u001b[1;32mIn [22]\u001b[0m, in \u001b[0;36m<cell line: 1>\u001b[1;34m()\u001b[0m\n\u001b[1;32m----> 1\u001b[0m \u001b[43madd_two_lists\u001b[49m\u001b[43m(\u001b[49m\u001b[43m[\u001b[49m\u001b[38;5;241;43m10\u001b[39;49m\u001b[43m,\u001b[49m\u001b[43m \u001b[49m\u001b[38;5;241;43m20\u001b[39;49m\u001b[43m,\u001b[49m\u001b[43m \u001b[49m\u001b[38;5;241;43m30\u001b[39;49m\u001b[43m]\u001b[49m\u001b[43m,\u001b[49m\u001b[43m \u001b[49m\u001b[43m[\u001b[49m\u001b[38;5;241;43m50\u001b[39;49m\u001b[43m]\u001b[49m\u001b[43m)\u001b[49m\n",
      "Input \u001b[1;32mIn [21]\u001b[0m, in \u001b[0;36madd_two_lists\u001b[1;34m(input_list1, input_list2)\u001b[0m\n\u001b[0;32m      2\u001b[0m output_list \u001b[38;5;241m=\u001b[39m []\n\u001b[0;32m      3\u001b[0m \u001b[38;5;28;01mfor\u001b[39;00m i \u001b[38;5;129;01min\u001b[39;00m \u001b[38;5;28mrange\u001b[39m(\u001b[38;5;241m0\u001b[39m, \u001b[38;5;28mlen\u001b[39m(input_list1)):\n\u001b[1;32m----> 4\u001b[0m     this_sum \u001b[38;5;241m=\u001b[39m input_list1[i] \u001b[38;5;241m+\u001b[39m \u001b[43minput_list2\u001b[49m\u001b[43m[\u001b[49m\u001b[43mi\u001b[49m\u001b[43m]\u001b[49m\n\u001b[0;32m      5\u001b[0m     output_list\u001b[38;5;241m.\u001b[39mappend(this_sum)\n\u001b[0;32m      6\u001b[0m \u001b[38;5;28;01mreturn\u001b[39;00m output_list\n",
      "\u001b[1;31mIndexError\u001b[0m: list index out of range"
     ]
    }
   ],
   "source": [
    "add_two_lists([10, 20, 30], [50])"
   ]
  },
  {
   "cell_type": "code",
   "execution_count": 26,
   "id": "3e308c95",
   "metadata": {},
   "outputs": [
    {
     "data": {
      "text/plain": [
       "[60, 120]"
      ]
     },
     "execution_count": 26,
     "metadata": {},
     "output_type": "execute_result"
    }
   ],
   "source": [
    "input_list1 = [10, 20, 30]\n",
    "input_list2 = [50, 100]\n",
    "output_list = []\n",
    "length_of_list = min(len(input_list1), len(input_list2))\n",
    "for i in range(0, length_of_list):\n",
    "    this_sum = input_list1[i] + input_list2[i]\n",
    "    output_list.append(this_sum)\n",
    "output_list"
   ]
  },
  {
   "cell_type": "code",
   "execution_count": 27,
   "id": "ed1679d5",
   "metadata": {},
   "outputs": [],
   "source": [
    "def add_two_lists(input_list1, input_list2):\n",
    "    output_list = []\n",
    "    length_of_list = min(len(input_list1), len(input_list2))\n",
    "    for i in range(0, length_of_list):\n",
    "        this_sum = input_list1[i] + input_list2[i]\n",
    "        output_list.append(this_sum)\n",
    "    return output_list"
   ]
  },
  {
   "cell_type": "code",
   "execution_count": 28,
   "id": "162c58c1",
   "metadata": {},
   "outputs": [
    {
     "data": {
      "text/plain": [
       "[60]"
      ]
     },
     "execution_count": 28,
     "metadata": {},
     "output_type": "execute_result"
    }
   ],
   "source": [
    "add_two_lists([10, 20, 30], [50])"
   ]
  },
  {
   "cell_type": "code",
   "execution_count": null,
   "id": "5402ec85",
   "metadata": {},
   "outputs": [],
   "source": []
  }
 ],
 "metadata": {
  "kernelspec": {
   "display_name": "OKS",
   "language": "python",
   "name": "oks"
  },
  "language_info": {
   "codemirror_mode": {
    "name": "ipython",
    "version": 3
   },
   "file_extension": ".py",
   "mimetype": "text/x-python",
   "name": "python",
   "nbconvert_exporter": "python",
   "pygments_lexer": "ipython3",
   "version": "3.8.13"
  }
 },
 "nbformat": 4,
 "nbformat_minor": 5
}
